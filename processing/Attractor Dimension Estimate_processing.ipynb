{
 "cells": [
  {
   "cell_type": "markdown",
   "id": "assured-puzzle",
   "metadata": {},
   "source": [
    "# Estimate the intrinsic dimension of the Attractor of Filament Dynamics\n",
    "Use this notebook to estimate the attractor dimension based on the caclulated shape mode trajectories in phase space"
   ]
  },
  {
   "cell_type": "code",
   "execution_count": 6,
   "id": "nonprofit-immigration",
   "metadata": {},
   "outputs": [],
   "source": [
    "import sys\n",
    "if 'init_modules' in globals().keys():\n",
    "    # second or subsequent run: remove all but initially loaded modules\n",
    "    for m in sys.modules.keys():\n",
    "        if m not in init_modules:\n",
    "            del(sys.modules[m])\n",
    "else:\n",
    "    # first run: find out which modules were initially loaded\n",
    "    init_modules = sys.modules.keys()\n",
    "    \n",
    "import numpy as np\n",
    "import pandas as pd\n",
    "\n",
    "import os\n",
    "import pyfilaments.analysisutils as analysis\n",
    "from tqdm import tqdm\n"
   ]
  },
  {
   "cell_type": "code",
   "execution_count": 7,
   "id": "fifty-debate",
   "metadata": {},
   "outputs": [
    {
     "data": {
      "text/plain": [
       "400"
      ]
     },
     "execution_count": 7,
     "metadata": {},
     "output_type": "execute_result"
    }
   ],
   "source": [
    "batch_data_folder = '/home/deepak/ActiveFilamentsSearch_backup_3/ActivityStrengthSweep_widerICS_FINAL_2021-12-23'\n",
    "\n",
    "# batch_data_folder = '/home/deepak/ActiveFilamentsSearch_backup_3/Analysis_test'\n",
    "data_folders = os.listdir(batch_data_folder)\n",
    "\n",
    "full_path_list = []\n",
    "\n",
    "for folder in data_folders:\n",
    "    \n",
    "    cwd = os.path.join(batch_data_folder, folder)\n",
    "    \n",
    "    files = [file for file in os.listdir(cwd) if file.endswith('.hdf5')]\n",
    "    \n",
    "    \n",
    "    for file in files:\n",
    "        \n",
    "        full_path_list.append(os.path.join(cwd, file))\n",
    "        \n",
    "\n",
    "len(full_path_list)"
   ]
  },
  {
   "cell_type": "code",
   "execution_count": 10,
   "id": "exotic-controversy",
   "metadata": {},
   "outputs": [],
   "source": [
    "import skdim\n",
    "\n",
    "start_cycle = 100 # Number of cycles to ignore transients\n",
    "\n",
    "df_corr_dim = pd.DataFrame({})\n",
    "\n",
    "def estimate_attractor_dimension(full_path = None):\n",
    "    \n",
    "    fil = analysis.analysisTools(file = full_path)\n",
    "    \n",
    "    base_folder, file_name = os.path.split(full_path)\n",
    "\n",
    "    shape_modes_file = os.path.join(fil.analysisFolder, fil.dataName[:-5]+'_ModeAmplitudes.csv')\n",
    "\n",
    "    if os.path.exists(shape_modes_file):\n",
    "        df_shape_modes = pd.read_csv(shape_modes_file)\n",
    "\n",
    "    else:\n",
    "        print('Shape modes data not found!')\n",
    "        return\n",
    "        \n",
    "    # Neglect transients\n",
    "    start_time = start_cycle*fil.activity_timescale\n",
    "    start_index = next((i for i,x in enumerate(np.array(df_shape_modes['Time'])) if x>= start_time), 0)\n",
    "    df_shape_modes = df_shape_modes.drop(labels = range(0,start_index))\n",
    "    \n",
    "    array_len = len(df_shape_modes)\n",
    "    \n",
    "    mode_amp_array = np.zeros((array_len,5)) # Currently we save the shape modes for the first 5 eigenvalues\n",
    "\n",
    "    mode_amp_array[:,0] = df_shape_modes['Mode 1 amplitude']\n",
    "    mode_amp_array[:,1] = df_shape_modes['Mode 2 amplitude']\n",
    "    mode_amp_array[:,2] = df_shape_modes['Mode 3 amplitude']\n",
    "    mode_amp_array[:,3] = df_shape_modes['Mode 4 amplitude']\n",
    "    mode_amp_array[:,4] = df_shape_modes['Mode 5 amplitude']\n",
    "\n",
    "    \n",
    "    corr_dim = skdim.id.CorrInt(k1=5, k2=20).fit(mode_amp_array)\n",
    "    \n",
    "    # Save the correlation dimension of the attractor as a separate file\n",
    "    \n",
    "    analysis_file = file_name[:-5] + '_analysis.csv'\n",
    "    \n",
    "    df_analysis = pd.read_csv(os.path.join(base_folder, 'Analysis', analysis_file))\n",
    "\n",
    "    \n",
    "    df_analysis['Correlation dimension of attractor'] = corr_dim.dimension_\n",
    "    \n",
    "    print(df_analysis['potDipole strength'])\n",
    "    print('estimated attractor dimension: ',corr_dim.dimension_)\n",
    "    print('Filament behavior: ', df_analysis['filament behavior'][0])\n",
    "    \n",
    "    \n",
    "    df_analysis.to_csv(os.path.join(base_folder, 'Analysis', analysis_file))\n",
    "    \n",
    "    \n",
    "    \n",
    "\n",
    "     \n",
    "    \n",
    "    "
   ]
  },
  {
   "cell_type": "code",
   "execution_count": 6,
   "id": "downtown-maria",
   "metadata": {},
   "outputs": [],
   "source": [
    "from joblib import Parallel, delayed\n",
    "import multiprocessing\n",
    "\n",
    "num_cores = multiprocessing.cpu_count()\n",
    "\n",
    "num_cores = 12"
   ]
  },
  {
   "cell_type": "code",
   "execution_count": 11,
   "id": "sharing-arrest",
   "metadata": {},
   "outputs": [
    {
     "name": "stderr",
     "output_type": "stream",
     "text": [
      "\r",
      "  0%|          | 0/400 [00:00<?, ?it/s]"
     ]
    },
    {
     "name": "stdout",
     "output_type": "stream",
     "text": [
      "Attribute not found\n"
     ]
    },
    {
     "name": "stderr",
     "output_type": "stream",
     "text": [
      "\r",
      "  0%|          | 1/400 [00:11<1:14:05, 11.14s/it]"
     ]
    },
    {
     "name": "stdout",
     "output_type": "stream",
     "text": [
      "0    0.692308\n",
      "Name: potDipole strength, dtype: float64\n",
      "estimated attractor dimension:  0.0\n",
      "Filament behavior:  1-period\n",
      "Attribute not found\n"
     ]
    },
    {
     "name": "stderr",
     "output_type": "stream",
     "text": [
      "\r",
      "  0%|          | 2/400 [00:22<1:14:01, 11.16s/it]"
     ]
    },
    {
     "name": "stdout",
     "output_type": "stream",
     "text": [
      "0    0.692308\n",
      "Name: potDipole strength, dtype: float64\n",
      "estimated attractor dimension:  0.0\n",
      "Filament behavior:  1-period\n",
      "Attribute not found\n"
     ]
    },
    {
     "name": "stderr",
     "output_type": "stream",
     "text": [
      "\r",
      "  1%|          | 3/400 [00:33<1:13:28, 11.11s/it]"
     ]
    },
    {
     "name": "stdout",
     "output_type": "stream",
     "text": [
      "0    0.692308\n",
      "Name: potDipole strength, dtype: float64\n",
      "estimated attractor dimension:  0.0\n",
      "Filament behavior:  1-period\n",
      "Attribute not found\n"
     ]
    },
    {
     "name": "stderr",
     "output_type": "stream",
     "text": [
      "\r",
      "  1%|          | 4/400 [00:44<1:13:09, 11.08s/it]"
     ]
    },
    {
     "name": "stdout",
     "output_type": "stream",
     "text": [
      "0    0.692308\n",
      "Name: potDipole strength, dtype: float64\n",
      "estimated attractor dimension:  0.0\n",
      "Filament behavior:  1-period\n",
      "Attribute not found\n"
     ]
    },
    {
     "name": "stderr",
     "output_type": "stream",
     "text": [
      "\r",
      "  1%|▏         | 5/400 [00:55<1:12:54, 11.08s/it]"
     ]
    },
    {
     "name": "stdout",
     "output_type": "stream",
     "text": [
      "0    0.692308\n",
      "Name: potDipole strength, dtype: float64\n",
      "estimated attractor dimension:  0.0\n",
      "Filament behavior:  1-period\n",
      "Attribute not found\n"
     ]
    },
    {
     "name": "stderr",
     "output_type": "stream",
     "text": [
      "\r",
      "  2%|▏         | 6/400 [01:06<1:12:53, 11.10s/it]"
     ]
    },
    {
     "name": "stdout",
     "output_type": "stream",
     "text": [
      "0    0.692308\n",
      "Name: potDipole strength, dtype: float64\n",
      "estimated attractor dimension:  0.0\n",
      "Filament behavior:  1-period\n",
      "Attribute not found\n"
     ]
    },
    {
     "name": "stderr",
     "output_type": "stream",
     "text": [
      "\r",
      "  2%|▏         | 7/400 [01:17<1:12:39, 11.09s/it]"
     ]
    },
    {
     "name": "stdout",
     "output_type": "stream",
     "text": [
      "0    0.692308\n",
      "Name: potDipole strength, dtype: float64\n",
      "estimated attractor dimension:  0.0\n",
      "Filament behavior:  1-period\n",
      "Attribute not found\n"
     ]
    },
    {
     "name": "stderr",
     "output_type": "stream",
     "text": [
      "\r",
      "  2%|▏         | 8/400 [01:28<1:12:16, 11.06s/it]"
     ]
    },
    {
     "name": "stdout",
     "output_type": "stream",
     "text": [
      "0    0.692308\n",
      "Name: potDipole strength, dtype: float64\n",
      "estimated attractor dimension:  0.0\n",
      "Filament behavior:  1-period\n",
      "Attribute not found\n"
     ]
    },
    {
     "name": "stderr",
     "output_type": "stream",
     "text": [
      "\r",
      "  2%|▏         | 9/400 [01:39<1:12:30, 11.13s/it]"
     ]
    },
    {
     "name": "stdout",
     "output_type": "stream",
     "text": [
      "0    0.692308\n",
      "Name: potDipole strength, dtype: float64\n",
      "estimated attractor dimension:  0.0\n",
      "Filament behavior:  1-period\n",
      "Attribute not found\n"
     ]
    },
    {
     "name": "stderr",
     "output_type": "stream",
     "text": [
      "\r",
      "  2%|▎         | 10/400 [01:51<1:12:15, 11.12s/it]"
     ]
    },
    {
     "name": "stdout",
     "output_type": "stream",
     "text": [
      "0    0.692308\n",
      "Name: potDipole strength, dtype: float64\n",
      "estimated attractor dimension:  0.0\n",
      "Filament behavior:  1-period\n",
      "Attribute not found\n"
     ]
    },
    {
     "name": "stderr",
     "output_type": "stream",
     "text": [
      "\r",
      "  3%|▎         | 11/400 [02:02<1:11:46, 11.07s/it]"
     ]
    },
    {
     "name": "stdout",
     "output_type": "stream",
     "text": [
      "0    1.076923\n",
      "Name: potDipole strength, dtype: float64\n",
      "estimated attractor dimension:  2.1821588706293102\n",
      "Filament behavior:  aperiodic\n",
      "Attribute not found\n"
     ]
    },
    {
     "name": "stderr",
     "output_type": "stream",
     "text": [
      "\r",
      "  3%|▎         | 12/400 [02:12<1:11:09, 11.00s/it]"
     ]
    },
    {
     "name": "stdout",
     "output_type": "stream",
     "text": [
      "0    1.076923\n",
      "Name: potDipole strength, dtype: float64\n",
      "estimated attractor dimension:  2.173117753723223\n",
      "Filament behavior:  aperiodic\n",
      "Attribute not found\n"
     ]
    },
    {
     "name": "stderr",
     "output_type": "stream",
     "text": [
      "\r",
      "  3%|▎         | 13/400 [02:23<1:10:31, 10.93s/it]"
     ]
    },
    {
     "name": "stdout",
     "output_type": "stream",
     "text": [
      "0    1.076923\n",
      "Name: potDipole strength, dtype: float64\n",
      "estimated attractor dimension:  2.161274577121279\n",
      "Filament behavior:  aperiodic\n",
      "Attribute not found\n"
     ]
    },
    {
     "name": "stderr",
     "output_type": "stream",
     "text": [
      "\r",
      "  4%|▎         | 14/400 [02:34<1:10:07, 10.90s/it]"
     ]
    },
    {
     "name": "stdout",
     "output_type": "stream",
     "text": [
      "0    1.076923\n",
      "Name: potDipole strength, dtype: float64\n",
      "estimated attractor dimension:  2.1880709515658996\n",
      "Filament behavior:  aperiodic\n",
      "Attribute not found\n"
     ]
    },
    {
     "name": "stderr",
     "output_type": "stream",
     "text": [
      "\r",
      "  4%|▍         | 15/400 [02:45<1:09:53, 10.89s/it]"
     ]
    },
    {
     "name": "stdout",
     "output_type": "stream",
     "text": [
      "0    1.076923\n",
      "Name: potDipole strength, dtype: float64\n",
      "estimated attractor dimension:  2.1479391427597205\n",
      "Filament behavior:  aperiodic\n",
      "Attribute not found\n"
     ]
    },
    {
     "name": "stderr",
     "output_type": "stream",
     "text": [
      "\r",
      "  4%|▍         | 16/400 [02:56<1:09:49, 10.91s/it]"
     ]
    },
    {
     "name": "stdout",
     "output_type": "stream",
     "text": [
      "0    1.076923\n",
      "Name: potDipole strength, dtype: float64\n",
      "estimated attractor dimension:  2.1512012124543314\n",
      "Filament behavior:  aperiodic\n",
      "Attribute not found\n"
     ]
    },
    {
     "name": "stderr",
     "output_type": "stream",
     "text": [
      "\r",
      "  4%|▍         | 17/400 [03:07<1:09:35, 10.90s/it]"
     ]
    },
    {
     "name": "stdout",
     "output_type": "stream",
     "text": [
      "0    1.076923\n",
      "Name: potDipole strength, dtype: float64\n",
      "estimated attractor dimension:  2.1686520173259787\n",
      "Filament behavior:  aperiodic\n",
      "Attribute not found\n"
     ]
    },
    {
     "name": "stderr",
     "output_type": "stream",
     "text": [
      "\r",
      "  4%|▍         | 18/400 [03:18<1:09:31, 10.92s/it]"
     ]
    },
    {
     "name": "stdout",
     "output_type": "stream",
     "text": [
      "0    1.076923\n",
      "Name: potDipole strength, dtype: float64\n",
      "estimated attractor dimension:  2.2152524449702393\n",
      "Filament behavior:  aperiodic\n",
      "Attribute not found\n"
     ]
    },
    {
     "name": "stderr",
     "output_type": "stream",
     "text": [
      "\r",
      "  5%|▍         | 19/400 [03:28<1:09:05, 10.88s/it]"
     ]
    },
    {
     "name": "stdout",
     "output_type": "stream",
     "text": [
      "0    1.076923\n",
      "Name: potDipole strength, dtype: float64\n",
      "estimated attractor dimension:  2.1967945840084226\n",
      "Filament behavior:  aperiodic\n",
      "Attribute not found\n"
     ]
    },
    {
     "name": "stderr",
     "output_type": "stream",
     "text": [
      "\r",
      "  5%|▌         | 20/400 [03:39<1:08:42, 10.85s/it]"
     ]
    },
    {
     "name": "stdout",
     "output_type": "stream",
     "text": [
      "0    1.076923\n",
      "Name: potDipole strength, dtype: float64\n",
      "estimated attractor dimension:  2.192577910934277\n",
      "Filament behavior:  aperiodic\n",
      "Attribute not found\n"
     ]
    },
    {
     "name": "stderr",
     "output_type": "stream",
     "text": [
      "\r",
      "  5%|▌         | 21/400 [03:50<1:08:32, 10.85s/it]"
     ]
    },
    {
     "name": "stdout",
     "output_type": "stream",
     "text": [
      "0    0.564103\n",
      "Name: potDipole strength, dtype: float64\n",
      "estimated attractor dimension:  0.0\n",
      "Filament behavior:  1-period\n",
      "Attribute not found\n"
     ]
    },
    {
     "name": "stderr",
     "output_type": "stream",
     "text": [
      "\r",
      "  6%|▌         | 22/400 [04:01<1:08:30, 10.87s/it]"
     ]
    },
    {
     "name": "stdout",
     "output_type": "stream",
     "text": [
      "0    0.564103\n",
      "Name: potDipole strength, dtype: float64\n",
      "estimated attractor dimension:  0.0\n",
      "Filament behavior:  1-period\n",
      "Attribute not found\n"
     ]
    },
    {
     "name": "stderr",
     "output_type": "stream",
     "text": [
      "\r",
      "  6%|▌         | 23/400 [04:12<1:08:06, 10.84s/it]"
     ]
    },
    {
     "name": "stdout",
     "output_type": "stream",
     "text": [
      "0    0.564103\n",
      "Name: potDipole strength, dtype: float64\n",
      "estimated attractor dimension:  0.0\n",
      "Filament behavior:  1-period\n",
      "Attribute not found\n"
     ]
    },
    {
     "name": "stderr",
     "output_type": "stream",
     "text": [
      "\r",
      "  6%|▌         | 24/400 [04:23<1:07:58, 10.85s/it]"
     ]
    },
    {
     "name": "stdout",
     "output_type": "stream",
     "text": [
      "0    0.564103\n",
      "Name: potDipole strength, dtype: float64\n",
      "estimated attractor dimension:  0.0\n",
      "Filament behavior:  1-period\n",
      "Attribute not found\n"
     ]
    },
    {
     "name": "stderr",
     "output_type": "stream",
     "text": [
      "\r",
      "  6%|▋         | 25/400 [04:34<1:07:54, 10.87s/it]"
     ]
    },
    {
     "name": "stdout",
     "output_type": "stream",
     "text": [
      "0    0.564103\n",
      "Name: potDipole strength, dtype: float64\n",
      "estimated attractor dimension:  0.0\n",
      "Filament behavior:  1-period\n",
      "Attribute not found\n"
     ]
    },
    {
     "name": "stderr",
     "output_type": "stream",
     "text": [
      "\r",
      "  6%|▋         | 26/400 [04:44<1:07:45, 10.87s/it]"
     ]
    },
    {
     "name": "stdout",
     "output_type": "stream",
     "text": [
      "0    0.564103\n",
      "Name: potDipole strength, dtype: float64\n",
      "estimated attractor dimension:  0.0\n",
      "Filament behavior:  1-period\n",
      "Attribute not found\n"
     ]
    },
    {
     "name": "stderr",
     "output_type": "stream",
     "text": [
      "\r",
      "  7%|▋         | 27/400 [04:55<1:07:37, 10.88s/it]"
     ]
    },
    {
     "name": "stdout",
     "output_type": "stream",
     "text": [
      "0    0.564103\n",
      "Name: potDipole strength, dtype: float64\n",
      "estimated attractor dimension:  0.0\n",
      "Filament behavior:  1-period\n",
      "Attribute not found\n"
     ]
    },
    {
     "name": "stderr",
     "output_type": "stream",
     "text": [
      "\r",
      "  7%|▋         | 28/400 [05:06<1:07:35, 10.90s/it]"
     ]
    },
    {
     "name": "stdout",
     "output_type": "stream",
     "text": [
      "0    0.564103\n",
      "Name: potDipole strength, dtype: float64\n",
      "estimated attractor dimension:  0.0\n",
      "Filament behavior:  1-period\n",
      "Attribute not found\n"
     ]
    },
    {
     "name": "stderr",
     "output_type": "stream",
     "text": [
      "\r",
      "  7%|▋         | 29/400 [05:17<1:07:42, 10.95s/it]"
     ]
    },
    {
     "name": "stdout",
     "output_type": "stream",
     "text": [
      "0    0.564103\n",
      "Name: potDipole strength, dtype: float64\n",
      "estimated attractor dimension:  0.0\n",
      "Filament behavior:  1-period\n",
      "Attribute not found\n"
     ]
    },
    {
     "name": "stderr",
     "output_type": "stream",
     "text": [
      "\r",
      "  8%|▊         | 30/400 [05:28<1:07:43, 10.98s/it]"
     ]
    },
    {
     "name": "stdout",
     "output_type": "stream",
     "text": [
      "0    0.564103\n",
      "Name: potDipole strength, dtype: float64\n",
      "estimated attractor dimension:  0.0\n",
      "Filament behavior:  1-period\n",
      "Attribute not found\n"
     ]
    },
    {
     "name": "stderr",
     "output_type": "stream",
     "text": [
      "\r",
      "  8%|▊         | 31/400 [05:39<1:07:04, 10.91s/it]"
     ]
    },
    {
     "name": "stdout",
     "output_type": "stream",
     "text": [
      "0    0.948718\n",
      "Name: potDipole strength, dtype: float64\n",
      "estimated attractor dimension:  1.4820329127855527\n",
      "Filament behavior:  1-period\n",
      "Attribute not found\n"
     ]
    },
    {
     "name": "stderr",
     "output_type": "stream",
     "text": [
      "\r",
      "  8%|▊         | 32/400 [05:50<1:06:32, 10.85s/it]"
     ]
    },
    {
     "name": "stdout",
     "output_type": "stream",
     "text": [
      "0    0.948718\n",
      "Name: potDipole strength, dtype: float64\n",
      "estimated attractor dimension:  1.4156509406272688\n",
      "Filament behavior:  1-period\n",
      "Attribute not found\n"
     ]
    },
    {
     "name": "stderr",
     "output_type": "stream",
     "text": [
      "\r",
      "  8%|▊         | 33/400 [06:01<1:06:10, 10.82s/it]"
     ]
    },
    {
     "name": "stdout",
     "output_type": "stream",
     "text": [
      "0    0.948718\n",
      "Name: potDipole strength, dtype: float64\n",
      "estimated attractor dimension:  1.470571423382269\n",
      "Filament behavior:  1-period\n",
      "Attribute not found\n"
     ]
    },
    {
     "name": "stderr",
     "output_type": "stream",
     "text": [
      "\r",
      "  8%|▊         | 34/400 [06:11<1:05:50, 10.79s/it]"
     ]
    },
    {
     "name": "stdout",
     "output_type": "stream",
     "text": [
      "0    0.948718\n",
      "Name: potDipole strength, dtype: float64\n",
      "estimated attractor dimension:  1.4202767794868625\n",
      "Filament behavior:  1-period\n",
      "Attribute not found\n"
     ]
    },
    {
     "name": "stderr",
     "output_type": "stream",
     "text": [
      "\r",
      "  9%|▉         | 35/400 [06:22<1:05:39, 10.79s/it]"
     ]
    },
    {
     "name": "stdout",
     "output_type": "stream",
     "text": [
      "0    0.948718\n",
      "Name: potDipole strength, dtype: float64\n",
      "estimated attractor dimension:  1.4674041894201473\n",
      "Filament behavior:  1-period\n",
      "Attribute not found\n"
     ]
    },
    {
     "name": "stderr",
     "output_type": "stream",
     "text": [
      "\r",
      "  9%|▉         | 36/400 [06:33<1:05:23, 10.78s/it]"
     ]
    },
    {
     "name": "stdout",
     "output_type": "stream",
     "text": [
      "0    0.948718\n",
      "Name: potDipole strength, dtype: float64\n",
      "estimated attractor dimension:  1.4764436011353848\n",
      "Filament behavior:  1-period\n",
      "Attribute not found\n"
     ]
    },
    {
     "name": "stderr",
     "output_type": "stream",
     "text": [
      "\r",
      "  9%|▉         | 37/400 [06:44<1:05:09, 10.77s/it]"
     ]
    },
    {
     "name": "stdout",
     "output_type": "stream",
     "text": [
      "0    0.948718\n",
      "Name: potDipole strength, dtype: float64\n",
      "estimated attractor dimension:  1.3965776887990407\n",
      "Filament behavior:  1-period\n",
      "Attribute not found\n"
     ]
    },
    {
     "name": "stderr",
     "output_type": "stream",
     "text": [
      "\r",
      " 10%|▉         | 38/400 [06:54<1:04:55, 10.76s/it]"
     ]
    },
    {
     "name": "stdout",
     "output_type": "stream",
     "text": [
      "0    0.948718\n",
      "Name: potDipole strength, dtype: float64\n",
      "estimated attractor dimension:  1.4534492685048364\n",
      "Filament behavior:  1-period\n",
      "Attribute not found\n"
     ]
    },
    {
     "name": "stderr",
     "output_type": "stream",
     "text": [
      "\r",
      " 10%|▉         | 39/400 [07:05<1:04:42, 10.75s/it]"
     ]
    },
    {
     "name": "stdout",
     "output_type": "stream",
     "text": [
      "0    0.948718\n",
      "Name: potDipole strength, dtype: float64\n",
      "estimated attractor dimension:  1.448722011863711\n",
      "Filament behavior:  1-period\n",
      "Attribute not found\n"
     ]
    },
    {
     "name": "stderr",
     "output_type": "stream",
     "text": [
      "\r",
      " 10%|█         | 40/400 [07:16<1:04:28, 10.75s/it]"
     ]
    },
    {
     "name": "stdout",
     "output_type": "stream",
     "text": [
      "0    0.948718\n",
      "Name: potDipole strength, dtype: float64\n",
      "estimated attractor dimension:  1.4748780420101344\n",
      "Filament behavior:  1-period\n",
      "Attribute not found\n",
      "Shape modes data not found!\n",
      "Attribute not found\n",
      "Shape modes data not found!\n",
      "Attribute not found\n",
      "Shape modes data not found!\n",
      "Attribute not found\n",
      "Shape modes data not found!\n",
      "Attribute not found\n",
      "Shape modes data not found!\n",
      "Attribute not found\n",
      "Shape modes data not found!\n",
      "Attribute not found\n",
      "Shape modes data not found!\n",
      "Attribute not found\n",
      "Shape modes data not found!\n",
      "Attribute not found\n",
      "Shape modes data not found!\n",
      "Attribute not found\n",
      "Shape modes data not found!\n",
      "Attribute not found\n"
     ]
    },
    {
     "name": "stderr",
     "output_type": "stream",
     "text": [
      "\r",
      " 13%|█▎        | 51/400 [07:27<15:38,  2.69s/it]  "
     ]
    },
    {
     "name": "stdout",
     "output_type": "stream",
     "text": [
      "0    1.974359\n",
      "Name: potDipole strength, dtype: float64\n",
      "estimated attractor dimension:  1.9746765519625973\n",
      "Filament behavior:  2n-period\n",
      "Attribute not found\n"
     ]
    },
    {
     "name": "stderr",
     "output_type": "stream",
     "text": [
      "\r",
      " 13%|█▎        | 52/400 [07:37<20:07,  3.47s/it]"
     ]
    },
    {
     "name": "stdout",
     "output_type": "stream",
     "text": [
      "0    1.974359\n",
      "Name: potDipole strength, dtype: float64\n",
      "estimated attractor dimension:  1.9137612251931306\n",
      "Filament behavior:  2n-period\n",
      "Attribute not found\n"
     ]
    },
    {
     "name": "stderr",
     "output_type": "stream",
     "text": [
      "\r",
      " 13%|█▎        | 53/400 [07:48<25:10,  4.35s/it]"
     ]
    },
    {
     "name": "stdout",
     "output_type": "stream",
     "text": [
      "0    1.974359\n",
      "Name: potDipole strength, dtype: float64\n",
      "estimated attractor dimension:  1.9165306188285716\n",
      "Filament behavior:  2n-period\n",
      "Attribute not found\n"
     ]
    },
    {
     "name": "stderr",
     "output_type": "stream",
     "text": [
      "\r",
      " 14%|█▎        | 54/400 [07:59<30:33,  5.30s/it]"
     ]
    },
    {
     "name": "stdout",
     "output_type": "stream",
     "text": [
      "0    1.974359\n",
      "Name: potDipole strength, dtype: float64\n",
      "estimated attractor dimension:  1.9259208466271331\n",
      "Filament behavior:  2n-period\n",
      "Attribute not found\n"
     ]
    },
    {
     "name": "stderr",
     "output_type": "stream",
     "text": [
      "\r",
      " 14%|█▍        | 55/400 [08:10<35:56,  6.25s/it]"
     ]
    },
    {
     "name": "stdout",
     "output_type": "stream",
     "text": [
      "0    1.974359\n",
      "Name: potDipole strength, dtype: float64\n",
      "estimated attractor dimension:  2.0152595430149747\n",
      "Filament behavior:  2n-period\n",
      "Attribute not found\n"
     ]
    },
    {
     "name": "stderr",
     "output_type": "stream",
     "text": [
      "\r",
      " 14%|█▍        | 56/400 [08:20<40:58,  7.15s/it]"
     ]
    },
    {
     "name": "stdout",
     "output_type": "stream",
     "text": [
      "0    1.974359\n",
      "Name: potDipole strength, dtype: float64\n",
      "estimated attractor dimension:  1.944554546229607\n",
      "Filament behavior:  2n-period\n",
      "Attribute not found\n"
     ]
    },
    {
     "name": "stderr",
     "output_type": "stream",
     "text": [
      "\r",
      " 14%|█▍        | 57/400 [08:31<45:25,  7.95s/it]"
     ]
    },
    {
     "name": "stdout",
     "output_type": "stream",
     "text": [
      "0    1.974359\n",
      "Name: potDipole strength, dtype: float64\n",
      "estimated attractor dimension:  1.9165306188285716\n",
      "Filament behavior:  2n-period\n",
      "Attribute not found\n"
     ]
    },
    {
     "name": "stderr",
     "output_type": "stream",
     "text": [
      "\r",
      " 14%|█▍        | 58/400 [08:42<49:06,  8.62s/it]"
     ]
    },
    {
     "name": "stdout",
     "output_type": "stream",
     "text": [
      "0    1.974359\n",
      "Name: potDipole strength, dtype: float64\n",
      "estimated attractor dimension:  2.0161101521526175\n",
      "Filament behavior:  2n-period\n",
      "Attribute not found\n"
     ]
    },
    {
     "name": "stderr",
     "output_type": "stream",
     "text": [
      "\r",
      " 15%|█▍        | 59/400 [08:53<52:04,  9.16s/it]"
     ]
    },
    {
     "name": "stdout",
     "output_type": "stream",
     "text": [
      "0    1.974359\n",
      "Name: potDipole strength, dtype: float64\n",
      "estimated attractor dimension:  1.9740810118684615\n",
      "Filament behavior:  2n-period\n",
      "Attribute not found\n"
     ]
    },
    {
     "name": "stderr",
     "output_type": "stream",
     "text": [
      "\r",
      " 15%|█▌        | 60/400 [09:03<54:18,  9.58s/it]"
     ]
    },
    {
     "name": "stdout",
     "output_type": "stream",
     "text": [
      "0    1.974359\n",
      "Name: potDipole strength, dtype: float64\n",
      "estimated attractor dimension:  1.9862342341759252\n",
      "Filament behavior:  2n-period\n",
      "Attribute not found\n"
     ]
    },
    {
     "name": "stderr",
     "output_type": "stream",
     "text": [
      "\r",
      " 15%|█▌        | 61/400 [09:14<55:57,  9.90s/it]"
     ]
    },
    {
     "name": "stdout",
     "output_type": "stream",
     "text": [
      "0    1.461538\n",
      "Name: potDipole strength, dtype: float64\n",
      "estimated attractor dimension:  1.975886754087719\n",
      "Filament behavior:  aperiodic\n",
      "Attribute not found\n"
     ]
    },
    {
     "name": "stderr",
     "output_type": "stream",
     "text": [
      "\r",
      " 16%|█▌        | 62/400 [09:25<57:09, 10.15s/it]"
     ]
    },
    {
     "name": "stdout",
     "output_type": "stream",
     "text": [
      "0    1.461538\n",
      "Name: potDipole strength, dtype: float64\n",
      "estimated attractor dimension:  1.958674204658534\n",
      "Filament behavior:  aperiodic\n",
      "Attribute not found\n"
     ]
    },
    {
     "name": "stderr",
     "output_type": "stream",
     "text": [
      "\r",
      " 16%|█▌        | 63/400 [09:36<57:59, 10.32s/it]"
     ]
    },
    {
     "name": "stdout",
     "output_type": "stream",
     "text": [
      "0    1.461538\n",
      "Name: potDipole strength, dtype: float64\n",
      "estimated attractor dimension:  1.9540614863779038\n",
      "Filament behavior:  aperiodic\n",
      "Attribute not found\n"
     ]
    },
    {
     "name": "stderr",
     "output_type": "stream",
     "text": [
      "\r",
      " 16%|█▌        | 64/400 [09:46<58:30, 10.45s/it]"
     ]
    },
    {
     "name": "stdout",
     "output_type": "stream",
     "text": [
      "0    1.461538\n",
      "Name: potDipole strength, dtype: float64\n",
      "estimated attractor dimension:  1.9800671849930873\n",
      "Filament behavior:  aperiodic\n",
      "Attribute not found\n"
     ]
    },
    {
     "name": "stderr",
     "output_type": "stream",
     "text": [
      "\r",
      " 16%|█▋        | 65/400 [09:57<58:52, 10.55s/it]"
     ]
    },
    {
     "name": "stdout",
     "output_type": "stream",
     "text": [
      "0    1.461538\n",
      "Name: potDipole strength, dtype: float64\n",
      "estimated attractor dimension:  1.9951755122371482\n",
      "Filament behavior:  aperiodic\n",
      "Attribute not found\n"
     ]
    },
    {
     "name": "stderr",
     "output_type": "stream",
     "text": [
      "\r",
      " 16%|█▋        | 66/400 [10:08<59:01, 10.60s/it]"
     ]
    },
    {
     "name": "stdout",
     "output_type": "stream",
     "text": [
      "0    1.461538\n",
      "Name: potDipole strength, dtype: float64\n",
      "estimated attractor dimension:  2.019315387692426\n",
      "Filament behavior:  aperiodic\n",
      "Attribute not found\n"
     ]
    },
    {
     "name": "stderr",
     "output_type": "stream",
     "text": [
      "\r",
      " 17%|█▋        | 67/400 [10:19<59:04, 10.64s/it]"
     ]
    },
    {
     "name": "stdout",
     "output_type": "stream",
     "text": [
      "0    1.461538\n",
      "Name: potDipole strength, dtype: float64\n",
      "estimated attractor dimension:  1.8991094001485886\n",
      "Filament behavior:  aperiodic\n",
      "Attribute not found\n"
     ]
    },
    {
     "name": "stderr",
     "output_type": "stream",
     "text": [
      "\r",
      " 17%|█▋        | 68/400 [10:29<59:03, 10.67s/it]"
     ]
    },
    {
     "name": "stdout",
     "output_type": "stream",
     "text": [
      "0    1.461538\n",
      "Name: potDipole strength, dtype: float64\n",
      "estimated attractor dimension:  1.9480209969757536\n",
      "Filament behavior:  aperiodic\n",
      "Attribute not found\n"
     ]
    },
    {
     "name": "stderr",
     "output_type": "stream",
     "text": [
      "\r",
      " 17%|█▋        | 69/400 [10:40<59:03, 10.70s/it]"
     ]
    },
    {
     "name": "stdout",
     "output_type": "stream",
     "text": [
      "0    1.461538\n",
      "Name: potDipole strength, dtype: float64\n",
      "estimated attractor dimension:  1.967266918523931\n",
      "Filament behavior:  aperiodic\n",
      "Attribute not found\n"
     ]
    },
    {
     "name": "stderr",
     "output_type": "stream",
     "text": [
      "\r",
      " 18%|█▊        | 70/400 [10:51<58:56, 10.72s/it]"
     ]
    },
    {
     "name": "stdout",
     "output_type": "stream",
     "text": [
      "0    1.461538\n",
      "Name: potDipole strength, dtype: float64\n",
      "estimated attractor dimension:  1.843174248970791\n",
      "Filament behavior:  aperiodic\n",
      "Attribute not found\n"
     ]
    },
    {
     "name": "stderr",
     "output_type": "stream",
     "text": [
      "\r",
      " 18%|█▊        | 71/400 [11:02<58:53, 10.74s/it]"
     ]
    },
    {
     "name": "stdout",
     "output_type": "stream",
     "text": [
      "0    0.5\n",
      "Name: potDipole strength, dtype: float64\n",
      "estimated attractor dimension:  0.4234205670407515\n",
      "Filament behavior:  1-period\n",
      "Attribute not found\n"
     ]
    },
    {
     "name": "stderr",
     "output_type": "stream",
     "text": [
      "\r",
      " 18%|█▊        | 72/400 [11:12<58:47, 10.76s/it]"
     ]
    },
    {
     "name": "stdout",
     "output_type": "stream",
     "text": [
      "0    0.5\n",
      "Name: potDipole strength, dtype: float64\n",
      "estimated attractor dimension:  0.42338357636851365\n",
      "Filament behavior:  1-period\n",
      "Attribute not found\n"
     ]
    },
    {
     "name": "stderr",
     "output_type": "stream",
     "text": [
      "\r",
      " 18%|█▊        | 73/400 [11:23<58:40, 10.77s/it]"
     ]
    },
    {
     "name": "stdout",
     "output_type": "stream",
     "text": [
      "0    0.5\n",
      "Name: potDipole strength, dtype: float64\n",
      "estimated attractor dimension:  0.42339208116704513\n",
      "Filament behavior:  1-period\n",
      "Attribute not found\n"
     ]
    },
    {
     "name": "stderr",
     "output_type": "stream",
     "text": [
      "\r",
      " 18%|█▊        | 74/400 [11:34<58:31, 10.77s/it]"
     ]
    },
    {
     "name": "stdout",
     "output_type": "stream",
     "text": [
      "0    0.5\n",
      "Name: potDipole strength, dtype: float64\n",
      "estimated attractor dimension:  0.42339598259852174\n",
      "Filament behavior:  1-period\n",
      "Attribute not found\n"
     ]
    },
    {
     "name": "stderr",
     "output_type": "stream",
     "text": [
      "\r",
      " 19%|█▉        | 75/400 [11:45<58:20, 10.77s/it]"
     ]
    },
    {
     "name": "stdout",
     "output_type": "stream",
     "text": [
      "0    0.5\n",
      "Name: potDipole strength, dtype: float64\n",
      "estimated attractor dimension:  0.42339946713326865\n",
      "Filament behavior:  1-period\n",
      "Attribute not found\n"
     ]
    },
    {
     "name": "stderr",
     "output_type": "stream",
     "text": [
      "\r",
      " 19%|█▉        | 76/400 [11:56<58:08, 10.77s/it]"
     ]
    },
    {
     "name": "stdout",
     "output_type": "stream",
     "text": [
      "0    0.5\n",
      "Name: potDipole strength, dtype: float64\n",
      "estimated attractor dimension:  0.42340400568820075\n",
      "Filament behavior:  1-period\n",
      "Attribute not found\n"
     ]
    },
    {
     "name": "stderr",
     "output_type": "stream",
     "text": [
      "\r",
      " 19%|█▉        | 77/400 [12:06<58:02, 10.78s/it]"
     ]
    },
    {
     "name": "stdout",
     "output_type": "stream",
     "text": [
      "0    0.5\n",
      "Name: potDipole strength, dtype: float64\n",
      "estimated attractor dimension:  0.4233921462387631\n",
      "Filament behavior:  1-period\n",
      "Attribute not found\n"
     ]
    },
    {
     "name": "stderr",
     "output_type": "stream",
     "text": [
      "\r",
      " 20%|█▉        | 78/400 [12:17<57:49, 10.77s/it]"
     ]
    },
    {
     "name": "stdout",
     "output_type": "stream",
     "text": [
      "0    0.5\n",
      "Name: potDipole strength, dtype: float64\n",
      "estimated attractor dimension:  0.42338214899381066\n",
      "Filament behavior:  1-period\n",
      "Attribute not found\n"
     ]
    },
    {
     "name": "stderr",
     "output_type": "stream",
     "text": [
      "\r",
      " 20%|█▉        | 79/400 [12:28<57:38, 10.77s/it]"
     ]
    },
    {
     "name": "stdout",
     "output_type": "stream",
     "text": [
      "0    0.5\n",
      "Name: potDipole strength, dtype: float64\n",
      "estimated attractor dimension:  0.4234010029500803\n",
      "Filament behavior:  1-period\n",
      "Attribute not found\n"
     ]
    },
    {
     "name": "stderr",
     "output_type": "stream",
     "text": [
      "\r",
      " 20%|██        | 80/400 [12:39<57:23, 10.76s/it]"
     ]
    },
    {
     "name": "stdout",
     "output_type": "stream",
     "text": [
      "0    0.5\n",
      "Name: potDipole strength, dtype: float64\n",
      "estimated attractor dimension:  0.4233912346262002\n",
      "Filament behavior:  1-period\n",
      "Attribute not found\n"
     ]
    },
    {
     "name": "stderr",
     "output_type": "stream",
     "text": [
      "\r",
      " 20%|██        | 81/400 [12:49<57:10, 10.75s/it]"
     ]
    },
    {
     "name": "stdout",
     "output_type": "stream",
     "text": [
      "0    1.717949\n",
      "Name: potDipole strength, dtype: float64\n",
      "estimated attractor dimension:  2.0132567079219066\n",
      "Filament behavior:  aperiodic\n",
      "Attribute not found\n"
     ]
    },
    {
     "name": "stderr",
     "output_type": "stream",
     "text": [
      "\r",
      " 20%|██        | 82/400 [13:00<57:02, 10.76s/it]"
     ]
    },
    {
     "name": "stdout",
     "output_type": "stream",
     "text": [
      "0    1.717949\n",
      "Name: potDipole strength, dtype: float64\n",
      "estimated attractor dimension:  2.0524519424144234\n",
      "Filament behavior:  aperiodic\n",
      "Attribute not found\n"
     ]
    },
    {
     "name": "stderr",
     "output_type": "stream",
     "text": [
      "\r",
      " 21%|██        | 83/400 [13:11<56:53, 10.77s/it]"
     ]
    },
    {
     "name": "stdout",
     "output_type": "stream",
     "text": [
      "0    1.717949\n",
      "Name: potDipole strength, dtype: float64\n",
      "estimated attractor dimension:  2.0216556066148863\n",
      "Filament behavior:  aperiodic\n",
      "Attribute not found\n"
     ]
    },
    {
     "name": "stderr",
     "output_type": "stream",
     "text": [
      "\r",
      " 21%|██        | 84/400 [13:22<56:50, 10.79s/it]"
     ]
    },
    {
     "name": "stdout",
     "output_type": "stream",
     "text": [
      "0    1.717949\n",
      "Name: potDipole strength, dtype: float64\n",
      "estimated attractor dimension:  1.9478859820887173\n",
      "Filament behavior:  aperiodic\n",
      "Attribute not found\n"
     ]
    },
    {
     "name": "stderr",
     "output_type": "stream",
     "text": [
      "\r",
      " 21%|██▏       | 85/400 [13:33<56:39, 10.79s/it]"
     ]
    },
    {
     "name": "stdout",
     "output_type": "stream",
     "text": [
      "0    1.717949\n",
      "Name: potDipole strength, dtype: float64\n",
      "estimated attractor dimension:  2.046367002834428\n",
      "Filament behavior:  aperiodic\n",
      "Attribute not found\n"
     ]
    },
    {
     "name": "stderr",
     "output_type": "stream",
     "text": [
      "\r",
      " 22%|██▏       | 86/400 [13:43<56:29, 10.79s/it]"
     ]
    },
    {
     "name": "stdout",
     "output_type": "stream",
     "text": [
      "0    1.717949\n",
      "Name: potDipole strength, dtype: float64\n",
      "estimated attractor dimension:  1.9314462184562267\n",
      "Filament behavior:  aperiodic\n",
      "Attribute not found\n"
     ]
    },
    {
     "name": "stderr",
     "output_type": "stream",
     "text": [
      "\r",
      " 22%|██▏       | 87/400 [13:54<56:19, 10.80s/it]"
     ]
    },
    {
     "name": "stdout",
     "output_type": "stream",
     "text": [
      "0    1.717949\n",
      "Name: potDipole strength, dtype: float64\n",
      "estimated attractor dimension:  1.9839381601460442\n",
      "Filament behavior:  aperiodic\n",
      "Attribute not found\n"
     ]
    },
    {
     "name": "stderr",
     "output_type": "stream",
     "text": [
      "\r",
      " 22%|██▏       | 88/400 [14:05<56:11, 10.81s/it]"
     ]
    },
    {
     "name": "stdout",
     "output_type": "stream",
     "text": [
      "0    1.717949\n",
      "Name: potDipole strength, dtype: float64\n",
      "estimated attractor dimension:  2.04448665780317\n",
      "Filament behavior:  aperiodic\n",
      "Attribute not found\n"
     ]
    },
    {
     "name": "stderr",
     "output_type": "stream",
     "text": [
      "\r",
      " 22%|██▏       | 89/400 [14:16<55:59, 10.80s/it]"
     ]
    },
    {
     "name": "stdout",
     "output_type": "stream",
     "text": [
      "0    1.717949\n",
      "Name: potDipole strength, dtype: float64\n",
      "estimated attractor dimension:  2.0234831820542554\n",
      "Filament behavior:  aperiodic\n",
      "Attribute not found\n"
     ]
    },
    {
     "name": "stderr",
     "output_type": "stream",
     "text": [
      "\r",
      " 22%|██▎       | 90/400 [14:27<55:43, 10.79s/it]"
     ]
    },
    {
     "name": "stdout",
     "output_type": "stream",
     "text": [
      "0    1.717949\n",
      "Name: potDipole strength, dtype: float64\n",
      "estimated attractor dimension:  1.9968154740454374\n",
      "Filament behavior:  aperiodic\n",
      "Attribute not found\n"
     ]
    },
    {
     "name": "stderr",
     "output_type": "stream",
     "text": [
      "\r",
      " 23%|██▎       | 91/400 [14:30<43:57,  8.54s/it]"
     ]
    },
    {
     "name": "stdout",
     "output_type": "stream",
     "text": [
      "0    2.679487\n",
      "Name: potDipole strength, dtype: float64\n",
      "estimated attractor dimension:  1.6538020474642177\n",
      "Filament behavior:  escape\n",
      "Attribute not found\n",
      "Shape modes data not found!\n",
      "Attribute not found\n",
      "Shape modes data not found!\n",
      "Attribute not found\n",
      "Shape modes data not found!\n",
      "Attribute not found\n",
      "Shape modes data not found!\n",
      "Attribute not found\n"
     ]
    },
    {
     "name": "stderr",
     "output_type": "stream",
     "text": [
      "\r",
      " 24%|██▍       | 96/400 [14:35<17:10,  3.39s/it]"
     ]
    },
    {
     "name": "stdout",
     "output_type": "stream",
     "text": [
      "0    2.679487\n",
      "Name: potDipole strength, dtype: float64\n",
      "estimated attractor dimension:  1.6760544763813725\n",
      "Filament behavior:  escape\n",
      "Attribute not found\n",
      "Shape modes data not found!\n",
      "Attribute not found\n",
      "Shape modes data not found!\n",
      "Attribute not found\n",
      "Shape modes data not found!\n",
      "Attribute not found\n",
      "Shape modes data not found!\n",
      "Attribute not found\n"
     ]
    },
    {
     "name": "stderr",
     "output_type": "stream",
     "text": [
      "\r",
      " 25%|██▌       | 101/400 [14:46<13:53,  2.79s/it]"
     ]
    },
    {
     "name": "stdout",
     "output_type": "stream",
     "text": [
      "0    1.782051\n",
      "Name: potDipole strength, dtype: float64\n",
      "estimated attractor dimension:  2.0908893583528627\n",
      "Filament behavior:  aperiodic\n",
      "Attribute not found\n"
     ]
    },
    {
     "name": "stderr",
     "output_type": "stream",
     "text": [
      "\r",
      " 26%|██▌       | 102/400 [14:56<18:44,  3.77s/it]"
     ]
    },
    {
     "name": "stdout",
     "output_type": "stream",
     "text": [
      "0    1.782051\n",
      "Name: potDipole strength, dtype: float64\n",
      "estimated attractor dimension:  2.0774729908953353\n",
      "Filament behavior:  aperiodic\n",
      "Attribute not found\n"
     ]
    },
    {
     "name": "stderr",
     "output_type": "stream",
     "text": [
      "\r",
      " 26%|██▌       | 103/400 [15:07<23:54,  4.83s/it]"
     ]
    },
    {
     "name": "stdout",
     "output_type": "stream",
     "text": [
      "0    1.782051\n",
      "Name: potDipole strength, dtype: float64\n",
      "estimated attractor dimension:  2.0898087065759396\n",
      "Filament behavior:  aperiodic\n",
      "Attribute not found\n"
     ]
    },
    {
     "name": "stderr",
     "output_type": "stream",
     "text": [
      "\r",
      " 26%|██▌       | 104/400 [15:18<29:03,  5.89s/it]"
     ]
    },
    {
     "name": "stdout",
     "output_type": "stream",
     "text": [
      "0    1.782051\n",
      "Name: potDipole strength, dtype: float64\n",
      "estimated attractor dimension:  2.090176873882736\n",
      "Filament behavior:  aperiodic\n",
      "Attribute not found\n"
     ]
    },
    {
     "name": "stderr",
     "output_type": "stream",
     "text": [
      "\r",
      " 26%|██▋       | 105/400 [15:29<33:49,  6.88s/it]"
     ]
    },
    {
     "name": "stdout",
     "output_type": "stream",
     "text": [
      "0    1.782051\n",
      "Name: potDipole strength, dtype: float64\n",
      "estimated attractor dimension:  2.096648565207656\n",
      "Filament behavior:  aperiodic\n",
      "Attribute not found\n"
     ]
    },
    {
     "name": "stderr",
     "output_type": "stream",
     "text": [
      "\r",
      " 26%|██▋       | 106/400 [15:40<38:00,  7.76s/it]"
     ]
    },
    {
     "name": "stdout",
     "output_type": "stream",
     "text": [
      "0    1.782051\n",
      "Name: potDipole strength, dtype: float64\n",
      "estimated attractor dimension:  2.060150427746732\n",
      "Filament behavior:  aperiodic\n",
      "Attribute not found\n"
     ]
    },
    {
     "name": "stderr",
     "output_type": "stream",
     "text": [
      "\r",
      " 27%|██▋       | 107/400 [15:50<41:27,  8.49s/it]"
     ]
    },
    {
     "name": "stdout",
     "output_type": "stream",
     "text": [
      "0    1.782051\n",
      "Name: potDipole strength, dtype: float64\n",
      "estimated attractor dimension:  2.102867539759395\n",
      "Filament behavior:  aperiodic\n",
      "Attribute not found\n"
     ]
    },
    {
     "name": "stderr",
     "output_type": "stream",
     "text": [
      "\r",
      " 27%|██▋       | 108/400 [16:01<44:14,  9.09s/it]"
     ]
    },
    {
     "name": "stdout",
     "output_type": "stream",
     "text": [
      "0    1.782051\n",
      "Name: potDipole strength, dtype: float64\n",
      "estimated attractor dimension:  2.0991232405738116\n",
      "Filament behavior:  aperiodic\n",
      "Attribute not found\n"
     ]
    },
    {
     "name": "stderr",
     "output_type": "stream",
     "text": [
      "\r",
      " 27%|██▋       | 109/400 [16:12<46:18,  9.55s/it]"
     ]
    },
    {
     "name": "stdout",
     "output_type": "stream",
     "text": [
      "0    1.782051\n",
      "Name: potDipole strength, dtype: float64\n",
      "estimated attractor dimension:  2.0815897222807167\n",
      "Filament behavior:  aperiodic\n",
      "Attribute not found\n"
     ]
    },
    {
     "name": "stderr",
     "output_type": "stream",
     "text": [
      "\r",
      " 28%|██▊       | 110/400 [16:23<47:50,  9.90s/it]"
     ]
    },
    {
     "name": "stdout",
     "output_type": "stream",
     "text": [
      "0    1.782051\n",
      "Name: potDipole strength, dtype: float64\n",
      "estimated attractor dimension:  2.0568805883480494\n",
      "Filament behavior:  aperiodic\n",
      "Attribute not found\n"
     ]
    },
    {
     "name": "stderr",
     "output_type": "stream",
     "text": [
      "\r",
      " 28%|██▊       | 111/400 [16:34<48:46, 10.12s/it]"
     ]
    },
    {
     "name": "stdout",
     "output_type": "stream",
     "text": [
      "0    1.589744\n",
      "Name: potDipole strength, dtype: float64\n",
      "estimated attractor dimension:  1.1433846490630502\n",
      "Filament behavior:  2n-period\n",
      "Attribute not found\n"
     ]
    },
    {
     "name": "stderr",
     "output_type": "stream",
     "text": [
      "\r",
      " 28%|██▊       | 112/400 [16:44<49:23, 10.29s/it]"
     ]
    },
    {
     "name": "stdout",
     "output_type": "stream",
     "text": [
      "0    1.589744\n",
      "Name: potDipole strength, dtype: float64\n",
      "estimated attractor dimension:  1.1949665809490007\n",
      "Filament behavior:  2n-period\n",
      "Attribute not found\n"
     ]
    },
    {
     "name": "stderr",
     "output_type": "stream",
     "text": [
      "\r",
      " 28%|██▊       | 113/400 [16:55<49:49, 10.42s/it]"
     ]
    },
    {
     "name": "stdout",
     "output_type": "stream",
     "text": [
      "0    1.589744\n",
      "Name: potDipole strength, dtype: float64\n",
      "estimated attractor dimension:  1.304576219363016\n",
      "Filament behavior:  2n-period\n",
      "Attribute not found\n"
     ]
    },
    {
     "name": "stderr",
     "output_type": "stream",
     "text": [
      "\r",
      " 28%|██▊       | 114/400 [17:06<50:03, 10.50s/it]"
     ]
    },
    {
     "name": "stdout",
     "output_type": "stream",
     "text": [
      "0    1.589744\n",
      "Name: potDipole strength, dtype: float64\n",
      "estimated attractor dimension:  1.1433846490630502\n",
      "Filament behavior:  2n-period\n",
      "Attribute not found\n"
     ]
    },
    {
     "name": "stderr",
     "output_type": "stream",
     "text": [
      "\r",
      " 29%|██▉       | 115/400 [17:16<50:09, 10.56s/it]"
     ]
    },
    {
     "name": "stdout",
     "output_type": "stream",
     "text": [
      "0    1.589744\n",
      "Name: potDipole strength, dtype: float64\n",
      "estimated attractor dimension:  1.2509273467330349\n",
      "Filament behavior:  2n-period\n",
      "Attribute not found\n"
     ]
    },
    {
     "name": "stderr",
     "output_type": "stream",
     "text": [
      "\r",
      " 29%|██▉       | 116/400 [17:27<50:12, 10.61s/it]"
     ]
    },
    {
     "name": "stdout",
     "output_type": "stream",
     "text": [
      "0    1.589744\n",
      "Name: potDipole strength, dtype: float64\n",
      "estimated attractor dimension:  1.2306088175642396\n",
      "Filament behavior:  2n-period\n",
      "Attribute not found\n"
     ]
    },
    {
     "name": "stderr",
     "output_type": "stream",
     "text": [
      "\r",
      " 29%|██▉       | 117/400 [17:38<50:09, 10.63s/it]"
     ]
    },
    {
     "name": "stdout",
     "output_type": "stream",
     "text": [
      "0    1.589744\n",
      "Name: potDipole strength, dtype: float64\n",
      "estimated attractor dimension:  1.1835484996492316\n",
      "Filament behavior:  2n-period\n",
      "Attribute not found\n"
     ]
    },
    {
     "name": "stderr",
     "output_type": "stream",
     "text": [
      "\r",
      " 30%|██▉       | 118/400 [17:48<50:03, 10.65s/it]"
     ]
    },
    {
     "name": "stdout",
     "output_type": "stream",
     "text": [
      "0    1.589744\n",
      "Name: potDipole strength, dtype: float64\n",
      "estimated attractor dimension:  1.178886631936369\n",
      "Filament behavior:  2n-period\n",
      "Attribute not found\n"
     ]
    },
    {
     "name": "stderr",
     "output_type": "stream",
     "text": [
      "\r",
      " 30%|██▉       | 119/400 [17:59<50:01, 10.68s/it]"
     ]
    },
    {
     "name": "stdout",
     "output_type": "stream",
     "text": [
      "0    1.589744\n",
      "Name: potDipole strength, dtype: float64\n",
      "estimated attractor dimension:  1.2241216845862772\n",
      "Filament behavior:  2n-period\n",
      "Attribute not found\n"
     ]
    },
    {
     "name": "stderr",
     "output_type": "stream",
     "text": [
      "\r",
      " 30%|███       | 120/400 [18:10<49:53, 10.69s/it]"
     ]
    },
    {
     "name": "stdout",
     "output_type": "stream",
     "text": [
      "0    1.589744\n",
      "Name: potDipole strength, dtype: float64\n",
      "estimated attractor dimension:  0.8988029093784141\n",
      "Filament behavior:  2n-period\n",
      "Attribute not found\n"
     ]
    },
    {
     "name": "stderr",
     "output_type": "stream",
     "text": [
      "\r",
      " 30%|███       | 121/400 [18:21<49:50, 10.72s/it]"
     ]
    },
    {
     "name": "stdout",
     "output_type": "stream",
     "text": [
      "0    1.269231\n",
      "Name: potDipole strength, dtype: float64\n",
      "estimated attractor dimension:  1.9483473465640855\n",
      "Filament behavior:  2n-period\n",
      "Attribute not found\n"
     ]
    },
    {
     "name": "stderr",
     "output_type": "stream",
     "text": [
      "\r",
      " 30%|███       | 122/400 [18:32<49:45, 10.74s/it]"
     ]
    },
    {
     "name": "stdout",
     "output_type": "stream",
     "text": [
      "0    1.269231\n",
      "Name: potDipole strength, dtype: float64\n",
      "estimated attractor dimension:  1.9825435160836733\n",
      "Filament behavior:  2n-period\n",
      "Attribute not found\n"
     ]
    },
    {
     "name": "stderr",
     "output_type": "stream",
     "text": [
      "\r",
      " 31%|███       | 123/400 [18:42<49:37, 10.75s/it]"
     ]
    },
    {
     "name": "stdout",
     "output_type": "stream",
     "text": [
      "0    1.269231\n",
      "Name: potDipole strength, dtype: float64\n",
      "estimated attractor dimension:  2.0029230914403717\n",
      "Filament behavior:  2n-period\n",
      "Attribute not found\n"
     ]
    },
    {
     "name": "stderr",
     "output_type": "stream",
     "text": [
      "\r",
      " 31%|███       | 124/400 [18:53<49:27, 10.75s/it]"
     ]
    },
    {
     "name": "stdout",
     "output_type": "stream",
     "text": [
      "0    1.269231\n",
      "Name: potDipole strength, dtype: float64\n",
      "estimated attractor dimension:  2.007928207207038\n",
      "Filament behavior:  2n-period\n",
      "Attribute not found\n"
     ]
    },
    {
     "name": "stderr",
     "output_type": "stream",
     "text": [
      "\r",
      " 31%|███▏      | 125/400 [19:04<49:17, 10.75s/it]"
     ]
    },
    {
     "name": "stdout",
     "output_type": "stream",
     "text": [
      "0    1.269231\n",
      "Name: potDipole strength, dtype: float64\n",
      "estimated attractor dimension:  1.937416113551016\n",
      "Filament behavior:  2n-period\n",
      "Attribute not found\n"
     ]
    },
    {
     "name": "stderr",
     "output_type": "stream",
     "text": [
      "\r",
      " 32%|███▏      | 126/400 [19:15<49:05, 10.75s/it]"
     ]
    },
    {
     "name": "stdout",
     "output_type": "stream",
     "text": [
      "0    1.269231\n",
      "Name: potDipole strength, dtype: float64\n",
      "estimated attractor dimension:  2.0029230914403717\n",
      "Filament behavior:  2n-period\n",
      "Attribute not found\n"
     ]
    },
    {
     "name": "stderr",
     "output_type": "stream",
     "text": [
      "\r",
      " 32%|███▏      | 127/400 [19:25<48:54, 10.75s/it]"
     ]
    },
    {
     "name": "stdout",
     "output_type": "stream",
     "text": [
      "0    1.269231\n",
      "Name: potDipole strength, dtype: float64\n",
      "estimated attractor dimension:  1.9958301116710917\n",
      "Filament behavior:  2n-period\n",
      "Attribute not found\n"
     ]
    },
    {
     "name": "stderr",
     "output_type": "stream",
     "text": [
      "\r",
      " 32%|███▏      | 128/400 [19:36<48:43, 10.75s/it]"
     ]
    },
    {
     "name": "stdout",
     "output_type": "stream",
     "text": [
      "0    1.269231\n",
      "Name: potDipole strength, dtype: float64\n",
      "estimated attractor dimension:  2.024917045810389\n",
      "Filament behavior:  2n-period\n",
      "Attribute not found\n"
     ]
    },
    {
     "name": "stderr",
     "output_type": "stream",
     "text": [
      "\r",
      " 32%|███▏      | 129/400 [19:47<48:32, 10.75s/it]"
     ]
    },
    {
     "name": "stdout",
     "output_type": "stream",
     "text": [
      "0    1.269231\n",
      "Name: potDipole strength, dtype: float64\n",
      "estimated attractor dimension:  1.9137450521738733\n",
      "Filament behavior:  2n-period\n",
      "Attribute not found\n"
     ]
    },
    {
     "name": "stderr",
     "output_type": "stream",
     "text": [
      "\r",
      " 32%|███▎      | 130/400 [19:58<48:22, 10.75s/it]"
     ]
    },
    {
     "name": "stdout",
     "output_type": "stream",
     "text": [
      "0    1.269231\n",
      "Name: potDipole strength, dtype: float64\n",
      "estimated attractor dimension:  1.9588596061707066\n",
      "Filament behavior:  2n-period\n",
      "Attribute not found\n"
     ]
    },
    {
     "name": "stderr",
     "output_type": "stream",
     "text": [
      "\r",
      " 33%|███▎      | 131/400 [20:08<48:14, 10.76s/it]"
     ]
    },
    {
     "name": "stdout",
     "output_type": "stream",
     "text": [
      "0    1.525641\n",
      "Name: potDipole strength, dtype: float64\n",
      "estimated attractor dimension:  1.9143588435380126\n",
      "Filament behavior:  aperiodic\n",
      "Attribute not found\n"
     ]
    },
    {
     "name": "stderr",
     "output_type": "stream",
     "text": [
      "\r",
      " 33%|███▎      | 132/400 [20:19<48:06, 10.77s/it]"
     ]
    },
    {
     "name": "stdout",
     "output_type": "stream",
     "text": [
      "0    1.525641\n",
      "Name: potDipole strength, dtype: float64\n",
      "estimated attractor dimension:  1.8836894305734722\n",
      "Filament behavior:  aperiodic\n",
      "Attribute not found\n"
     ]
    },
    {
     "name": "stderr",
     "output_type": "stream",
     "text": [
      "\r",
      " 33%|███▎      | 133/400 [20:30<47:57, 10.78s/it]"
     ]
    },
    {
     "name": "stdout",
     "output_type": "stream",
     "text": [
      "0    1.525641\n",
      "Name: potDipole strength, dtype: float64\n",
      "estimated attractor dimension:  1.9158161624410197\n",
      "Filament behavior:  aperiodic\n",
      "Attribute not found\n"
     ]
    },
    {
     "name": "stderr",
     "output_type": "stream",
     "text": [
      "\r",
      " 34%|███▎      | 134/400 [20:41<47:47, 10.78s/it]"
     ]
    },
    {
     "name": "stdout",
     "output_type": "stream",
     "text": [
      "0    1.525641\n",
      "Name: potDipole strength, dtype: float64\n",
      "estimated attractor dimension:  1.7043502787395455\n",
      "Filament behavior:  aperiodic\n",
      "Attribute not found\n"
     ]
    },
    {
     "name": "stderr",
     "output_type": "stream",
     "text": [
      "\r",
      " 34%|███▍      | 135/400 [20:51<47:35, 10.78s/it]"
     ]
    },
    {
     "name": "stdout",
     "output_type": "stream",
     "text": [
      "0    1.525641\n",
      "Name: potDipole strength, dtype: float64\n",
      "estimated attractor dimension:  1.6928014354874759\n",
      "Filament behavior:  aperiodic\n",
      "Attribute not found\n"
     ]
    },
    {
     "name": "stderr",
     "output_type": "stream",
     "text": [
      "\r",
      " 34%|███▍      | 136/400 [21:02<47:26, 10.78s/it]"
     ]
    },
    {
     "name": "stdout",
     "output_type": "stream",
     "text": [
      "0    1.525641\n",
      "Name: potDipole strength, dtype: float64\n",
      "estimated attractor dimension:  1.8035482081952645\n",
      "Filament behavior:  aperiodic\n",
      "Attribute not found\n"
     ]
    },
    {
     "name": "stderr",
     "output_type": "stream",
     "text": [
      "\r",
      " 34%|███▍      | 137/400 [21:13<47:15, 10.78s/it]"
     ]
    },
    {
     "name": "stdout",
     "output_type": "stream",
     "text": [
      "0    1.525641\n",
      "Name: potDipole strength, dtype: float64\n",
      "estimated attractor dimension:  1.7902732306268079\n",
      "Filament behavior:  aperiodic\n",
      "Attribute not found\n"
     ]
    },
    {
     "name": "stderr",
     "output_type": "stream",
     "text": [
      "\r",
      " 34%|███▍      | 138/400 [21:24<47:05, 10.79s/it]"
     ]
    },
    {
     "name": "stdout",
     "output_type": "stream",
     "text": [
      "0    1.525641\n",
      "Name: potDipole strength, dtype: float64\n",
      "estimated attractor dimension:  1.7866784112553866\n",
      "Filament behavior:  aperiodic\n",
      "Attribute not found\n"
     ]
    },
    {
     "name": "stderr",
     "output_type": "stream",
     "text": [
      "\r",
      " 35%|███▍      | 139/400 [21:35<46:53, 10.78s/it]"
     ]
    },
    {
     "name": "stdout",
     "output_type": "stream",
     "text": [
      "0    1.525641\n",
      "Name: potDipole strength, dtype: float64\n",
      "estimated attractor dimension:  1.7245233946536103\n",
      "Filament behavior:  aperiodic\n",
      "Attribute not found\n"
     ]
    },
    {
     "name": "stderr",
     "output_type": "stream",
     "text": [
      "\r",
      " 35%|███▌      | 140/400 [21:45<46:42, 10.78s/it]"
     ]
    },
    {
     "name": "stdout",
     "output_type": "stream",
     "text": [
      "0    1.525641\n",
      "Name: potDipole strength, dtype: float64\n",
      "estimated attractor dimension:  1.7407186579838392\n",
      "Filament behavior:  aperiodic\n",
      "Attribute not found\n"
     ]
    },
    {
     "name": "stderr",
     "output_type": "stream",
     "text": [
      "\r",
      " 35%|███▌      | 141/400 [21:56<46:28, 10.77s/it]"
     ]
    },
    {
     "name": "stdout",
     "output_type": "stream",
     "text": [
      "0    2.487179\n",
      "Name: potDipole strength, dtype: float64\n",
      "estimated attractor dimension:  1.4015209582049155\n",
      "Filament behavior:  1-period\n",
      "Attribute not found\n"
     ]
    },
    {
     "name": "stderr",
     "output_type": "stream",
     "text": [
      "\r",
      " 36%|███▌      | 142/400 [22:07<46:16, 10.76s/it]"
     ]
    },
    {
     "name": "stdout",
     "output_type": "stream",
     "text": [
      "0    2.487179\n",
      "Name: potDipole strength, dtype: float64\n",
      "estimated attractor dimension:  1.3972937809883388\n",
      "Filament behavior:  1-period\n",
      "Attribute not found\n"
     ]
    },
    {
     "name": "stderr",
     "output_type": "stream",
     "text": [
      "\r",
      " 36%|███▌      | 143/400 [22:18<46:04, 10.76s/it]"
     ]
    },
    {
     "name": "stdout",
     "output_type": "stream",
     "text": [
      "0    2.487179\n",
      "Name: potDipole strength, dtype: float64\n",
      "estimated attractor dimension:  1.414671134354931\n",
      "Filament behavior:  1-period\n",
      "Attribute not found\n"
     ]
    },
    {
     "name": "stderr",
     "output_type": "stream",
     "text": [
      "\r",
      " 36%|███▌      | 144/400 [22:28<45:51, 10.75s/it]"
     ]
    },
    {
     "name": "stdout",
     "output_type": "stream",
     "text": [
      "0    2.487179\n",
      "Name: potDipole strength, dtype: float64\n",
      "estimated attractor dimension:  1.408048207134301\n",
      "Filament behavior:  1-period\n",
      "Attribute not found\n"
     ]
    },
    {
     "name": "stderr",
     "output_type": "stream",
     "text": [
      "\r",
      " 36%|███▋      | 145/400 [22:39<45:38, 10.74s/it]"
     ]
    },
    {
     "name": "stdout",
     "output_type": "stream",
     "text": [
      "0    2.487179\n",
      "Name: potDipole strength, dtype: float64\n",
      "estimated attractor dimension:  1.496535184859214\n",
      "Filament behavior:  1-period\n",
      "Attribute not found\n"
     ]
    },
    {
     "name": "stderr",
     "output_type": "stream",
     "text": [
      "\r",
      " 36%|███▋      | 146/400 [22:50<45:24, 10.73s/it]"
     ]
    },
    {
     "name": "stdout",
     "output_type": "stream",
     "text": [
      "0    2.487179\n",
      "Name: potDipole strength, dtype: float64\n",
      "estimated attractor dimension:  1.3972937809883388\n",
      "Filament behavior:  1-period\n",
      "Attribute not found\n"
     ]
    },
    {
     "name": "stderr",
     "output_type": "stream",
     "text": [
      "\r",
      " 37%|███▋      | 147/400 [23:00<45:13, 10.72s/it]"
     ]
    },
    {
     "name": "stdout",
     "output_type": "stream",
     "text": [
      "0    2.487179\n",
      "Name: potDipole strength, dtype: float64\n",
      "estimated attractor dimension:  1.4041961321375318\n",
      "Filament behavior:  1-period\n",
      "Attribute not found\n"
     ]
    },
    {
     "name": "stderr",
     "output_type": "stream",
     "text": [
      "\r",
      " 37%|███▋      | 148/400 [23:11<45:00, 10.72s/it]"
     ]
    },
    {
     "name": "stdout",
     "output_type": "stream",
     "text": [
      "0    2.487179\n",
      "Name: potDipole strength, dtype: float64\n",
      "estimated attractor dimension:  1.3998205897657328\n",
      "Filament behavior:  1-period\n",
      "Attribute not found\n"
     ]
    },
    {
     "name": "stderr",
     "output_type": "stream",
     "text": [
      "\r",
      " 37%|███▋      | 149/400 [23:22<44:56, 10.74s/it]"
     ]
    },
    {
     "name": "stdout",
     "output_type": "stream",
     "text": [
      "0    2.487179\n",
      "Name: potDipole strength, dtype: float64\n",
      "estimated attractor dimension:  1.4052151552005494\n",
      "Filament behavior:  1-period\n",
      "Attribute not found\n"
     ]
    },
    {
     "name": "stderr",
     "output_type": "stream",
     "text": [
      "\r",
      " 38%|███▊      | 150/400 [23:33<44:45, 10.74s/it]"
     ]
    },
    {
     "name": "stdout",
     "output_type": "stream",
     "text": [
      "0    2.487179\n",
      "Name: potDipole strength, dtype: float64\n",
      "estimated attractor dimension:  1.3808682620701367\n",
      "Filament behavior:  1-period\n",
      "Attribute not found\n"
     ]
    },
    {
     "name": "stderr",
     "output_type": "stream",
     "text": [
      "\r",
      " 38%|███▊      | 151/400 [23:43<44:32, 10.73s/it]"
     ]
    },
    {
     "name": "stdout",
     "output_type": "stream",
     "text": [
      "0    2.358974\n",
      "Name: potDipole strength, dtype: float64\n",
      "estimated attractor dimension:  1.3710731071148088\n",
      "Filament behavior:  2n-period\n",
      "Attribute not found\n"
     ]
    },
    {
     "name": "stderr",
     "output_type": "stream",
     "text": [
      "\r",
      " 38%|███▊      | 152/400 [23:54<44:21, 10.73s/it]"
     ]
    },
    {
     "name": "stdout",
     "output_type": "stream",
     "text": [
      "0    2.358974\n",
      "Name: potDipole strength, dtype: float64\n",
      "estimated attractor dimension:  1.3710731071148088\n",
      "Filament behavior:  2n-period\n",
      "Attribute not found\n"
     ]
    },
    {
     "name": "stderr",
     "output_type": "stream",
     "text": [
      "\r",
      " 38%|███▊      | 153/400 [24:05<44:15, 10.75s/it]"
     ]
    },
    {
     "name": "stdout",
     "output_type": "stream",
     "text": [
      "0    2.358974\n",
      "Name: potDipole strength, dtype: float64\n",
      "estimated attractor dimension:  1.5249027745912709\n",
      "Filament behavior:  2n-period\n",
      "Attribute not found\n"
     ]
    },
    {
     "name": "stderr",
     "output_type": "stream",
     "text": [
      "\r",
      " 38%|███▊      | 154/400 [24:16<44:03, 10.75s/it]"
     ]
    },
    {
     "name": "stdout",
     "output_type": "stream",
     "text": [
      "0    2.358974\n",
      "Name: potDipole strength, dtype: float64\n",
      "estimated attractor dimension:  1.3910948902029008\n",
      "Filament behavior:  2n-period\n",
      "Attribute not found\n"
     ]
    },
    {
     "name": "stderr",
     "output_type": "stream",
     "text": [
      "\r",
      " 39%|███▉      | 155/400 [24:26<43:52, 10.74s/it]"
     ]
    },
    {
     "name": "stdout",
     "output_type": "stream",
     "text": [
      "0    2.358974\n",
      "Name: potDipole strength, dtype: float64\n",
      "estimated attractor dimension:  1.3981230443667505\n",
      "Filament behavior:  2n-period\n",
      "Attribute not found\n"
     ]
    },
    {
     "name": "stderr",
     "output_type": "stream",
     "text": [
      "\r",
      " 39%|███▉      | 156/400 [24:37<43:41, 10.74s/it]"
     ]
    },
    {
     "name": "stdout",
     "output_type": "stream",
     "text": [
      "0    2.358974\n",
      "Name: potDipole strength, dtype: float64\n",
      "estimated attractor dimension:  1.317522606159746\n",
      "Filament behavior:  2n-period\n",
      "Attribute not found\n"
     ]
    },
    {
     "name": "stderr",
     "output_type": "stream",
     "text": [
      "\r",
      " 39%|███▉      | 157/400 [24:48<43:31, 10.74s/it]"
     ]
    },
    {
     "name": "stdout",
     "output_type": "stream",
     "text": [
      "0    2.358974\n",
      "Name: potDipole strength, dtype: float64\n",
      "estimated attractor dimension:  1.5368778877772007\n",
      "Filament behavior:  2n-period\n",
      "Attribute not found\n"
     ]
    },
    {
     "name": "stderr",
     "output_type": "stream",
     "text": [
      "\r",
      " 40%|███▉      | 158/400 [24:59<43:19, 10.74s/it]"
     ]
    },
    {
     "name": "stdout",
     "output_type": "stream",
     "text": [
      "0    2.358974\n",
      "Name: potDipole strength, dtype: float64\n",
      "estimated attractor dimension:  1.4858864114303967\n",
      "Filament behavior:  2n-period\n",
      "Attribute not found\n"
     ]
    },
    {
     "name": "stderr",
     "output_type": "stream",
     "text": [
      "\r",
      " 40%|███▉      | 159/400 [25:09<43:09, 10.74s/it]"
     ]
    },
    {
     "name": "stdout",
     "output_type": "stream",
     "text": [
      "0    2.358974\n",
      "Name: potDipole strength, dtype: float64\n",
      "estimated attractor dimension:  1.303853069347709\n",
      "Filament behavior:  2n-period\n",
      "Attribute not found\n"
     ]
    },
    {
     "name": "stderr",
     "output_type": "stream",
     "text": [
      "\r",
      " 40%|████      | 160/400 [25:20<42:58, 10.74s/it]"
     ]
    },
    {
     "name": "stdout",
     "output_type": "stream",
     "text": [
      "0    2.358974\n",
      "Name: potDipole strength, dtype: float64\n",
      "estimated attractor dimension:  1.3736515466358274\n",
      "Filament behavior:  2n-period\n",
      "Attribute not found\n",
      "Shape modes data not found!\n",
      "Attribute not found\n"
     ]
    },
    {
     "name": "stderr",
     "output_type": "stream",
     "text": [
      "\r",
      " 40%|████      | 162/400 [25:22<24:31,  6.18s/it]"
     ]
    },
    {
     "name": "stdout",
     "output_type": "stream",
     "text": [
      "0    2.807692\n",
      "Name: potDipole strength, dtype: float64\n",
      "estimated attractor dimension:  1.908353463489441\n",
      "Filament behavior:  escape\n",
      "Attribute not found\n",
      "Shape modes data not found!\n",
      "Attribute not found\n"
     ]
    },
    {
     "name": "stderr",
     "output_type": "stream",
     "text": [
      "\r",
      " 41%|████      | 164/400 [25:24<15:59,  4.07s/it]"
     ]
    },
    {
     "name": "stdout",
     "output_type": "stream",
     "text": [
      "0    2.807692\n",
      "Name: potDipole strength, dtype: float64\n",
      "estimated attractor dimension:  1.908353463489441\n",
      "Filament behavior:  escape\n",
      "Attribute not found\n",
      "Shape modes data not found!\n",
      "Attribute not found\n",
      "Shape modes data not found!\n",
      "Attribute not found\n",
      "Shape modes data not found!\n",
      "Attribute not found\n"
     ]
    },
    {
     "name": "stderr",
     "output_type": "stream",
     "text": [
      "\r",
      " 42%|████▏     | 168/400 [25:27<08:54,  2.31s/it]"
     ]
    },
    {
     "name": "stdout",
     "output_type": "stream",
     "text": [
      "0    2.807692\n",
      "Name: potDipole strength, dtype: float64\n",
      "estimated attractor dimension:  1.8947951502201608\n",
      "Filament behavior:  escape\n",
      "Attribute not found\n"
     ]
    },
    {
     "name": "stderr",
     "output_type": "stream",
     "text": [
      "\r",
      " 42%|████▏     | 169/400 [25:29<08:51,  2.30s/it]"
     ]
    },
    {
     "name": "stdout",
     "output_type": "stream",
     "text": [
      "0    2.807692\n",
      "Name: potDipole strength, dtype: float64\n",
      "estimated attractor dimension:  1.9302679057350287\n",
      "Filament behavior:  escape\n",
      "Attribute not found\n",
      "Shape modes data not found!\n",
      "Attribute not found\n",
      "Shape modes data not found!\n",
      "Attribute not found\n",
      "Shape modes data not found!\n",
      "Attribute not found\n",
      "Shape modes data not found!\n",
      "Attribute not found\n"
     ]
    },
    {
     "name": "stderr",
     "output_type": "stream",
     "text": [
      "\r",
      " 44%|████▎     | 174/400 [25:33<05:43,  1.52s/it]"
     ]
    },
    {
     "name": "stdout",
     "output_type": "stream",
     "text": [
      "0    2.230769\n",
      "Name: potDipole strength, dtype: float64\n",
      "estimated attractor dimension:  1.1087333757749236\n",
      "Filament behavior:  escape\n",
      "Attribute not found\n",
      "Shape modes data not found!\n",
      "Attribute not found\n",
      "Shape modes data not found!\n",
      "Attribute not found\n"
     ]
    },
    {
     "name": "stderr",
     "output_type": "stream",
     "text": [
      "\r",
      " 44%|████▍     | 177/400 [25:44<08:03,  2.17s/it]"
     ]
    },
    {
     "name": "stdout",
     "output_type": "stream",
     "text": [
      "0    2.230769\n",
      "Name: potDipole strength, dtype: float64\n",
      "estimated attractor dimension:  1.2298232052921183\n",
      "Filament behavior:  aperiodic\n",
      "Attribute not found\n"
     ]
    },
    {
     "name": "stderr",
     "output_type": "stream",
     "text": [
      "\r",
      " 44%|████▍     | 178/400 [25:46<07:55,  2.14s/it]"
     ]
    },
    {
     "name": "stdout",
     "output_type": "stream",
     "text": [
      "0    2.230769\n",
      "Name: potDipole strength, dtype: float64\n",
      "estimated attractor dimension:  1.05837997518409\n",
      "Filament behavior:  escape\n",
      "Attribute not found\n"
     ]
    },
    {
     "name": "stderr",
     "output_type": "stream",
     "text": [
      "\r",
      " 45%|████▍     | 179/400 [25:57<12:51,  3.49s/it]"
     ]
    },
    {
     "name": "stdout",
     "output_type": "stream",
     "text": [
      "0    2.230769\n",
      "Name: potDipole strength, dtype: float64\n",
      "estimated attractor dimension:  1.2516368233396233\n",
      "Filament behavior:  aperiodic\n",
      "Attribute not found\n",
      "Shape modes data not found!\n",
      "Attribute not found\n"
     ]
    },
    {
     "name": "stderr",
     "output_type": "stream",
     "text": [
      "\r",
      " 45%|████▌     | 181/400 [26:07<14:53,  4.08s/it]"
     ]
    },
    {
     "name": "stdout",
     "output_type": "stream",
     "text": [
      "0    0.884615\n",
      "Name: potDipole strength, dtype: float64\n",
      "estimated attractor dimension:  0.770949652277176\n",
      "Filament behavior:  1-period\n",
      "Attribute not found\n"
     ]
    },
    {
     "name": "stderr",
     "output_type": "stream",
     "text": [
      "\r",
      " 46%|████▌     | 182/400 [26:18<19:13,  5.29s/it]"
     ]
    },
    {
     "name": "stdout",
     "output_type": "stream",
     "text": [
      "0    0.884615\n",
      "Name: potDipole strength, dtype: float64\n",
      "estimated attractor dimension:  0.8253944200062546\n",
      "Filament behavior:  1-period\n",
      "Attribute not found\n"
     ]
    },
    {
     "name": "stderr",
     "output_type": "stream",
     "text": [
      "\r",
      " 46%|████▌     | 183/400 [26:29<23:13,  6.42s/it]"
     ]
    },
    {
     "name": "stdout",
     "output_type": "stream",
     "text": [
      "0    0.884615\n",
      "Name: potDipole strength, dtype: float64\n",
      "estimated attractor dimension:  0.8170966339175646\n",
      "Filament behavior:  1-period\n",
      "Attribute not found\n"
     ]
    },
    {
     "name": "stderr",
     "output_type": "stream",
     "text": [
      "\r",
      " 46%|████▌     | 184/400 [26:40<26:40,  7.41s/it]"
     ]
    },
    {
     "name": "stdout",
     "output_type": "stream",
     "text": [
      "0    0.884615\n",
      "Name: potDipole strength, dtype: float64\n",
      "estimated attractor dimension:  0.8223485216020745\n",
      "Filament behavior:  1-period\n",
      "Attribute not found\n"
     ]
    },
    {
     "name": "stderr",
     "output_type": "stream",
     "text": [
      "\r",
      " 46%|████▋     | 185/400 [26:51<29:30,  8.23s/it]"
     ]
    },
    {
     "name": "stdout",
     "output_type": "stream",
     "text": [
      "0    0.884615\n",
      "Name: potDipole strength, dtype: float64\n",
      "estimated attractor dimension:  0.8266693527128677\n",
      "Filament behavior:  1-period\n",
      "Attribute not found\n"
     ]
    },
    {
     "name": "stderr",
     "output_type": "stream",
     "text": [
      "\r",
      " 46%|████▋     | 186/400 [27:01<31:42,  8.89s/it]"
     ]
    },
    {
     "name": "stdout",
     "output_type": "stream",
     "text": [
      "0    0.884615\n",
      "Name: potDipole strength, dtype: float64\n",
      "estimated attractor dimension:  0.8265774805251637\n",
      "Filament behavior:  1-period\n",
      "Attribute not found\n"
     ]
    },
    {
     "name": "stderr",
     "output_type": "stream",
     "text": [
      "\r",
      " 47%|████▋     | 187/400 [27:12<33:21,  9.40s/it]"
     ]
    },
    {
     "name": "stdout",
     "output_type": "stream",
     "text": [
      "0    0.884615\n",
      "Name: potDipole strength, dtype: float64\n",
      "estimated attractor dimension:  0.8289369609464506\n",
      "Filament behavior:  1-period\n",
      "Attribute not found\n"
     ]
    },
    {
     "name": "stderr",
     "output_type": "stream",
     "text": [
      "\r",
      " 47%|████▋     | 188/400 [27:23<34:34,  9.79s/it]"
     ]
    },
    {
     "name": "stdout",
     "output_type": "stream",
     "text": [
      "0    0.884615\n",
      "Name: potDipole strength, dtype: float64\n",
      "estimated attractor dimension:  0.8138948726002799\n",
      "Filament behavior:  1-period\n",
      "Attribute not found\n"
     ]
    },
    {
     "name": "stderr",
     "output_type": "stream",
     "text": [
      "\r",
      " 47%|████▋     | 189/400 [27:34<35:23, 10.07s/it]"
     ]
    },
    {
     "name": "stdout",
     "output_type": "stream",
     "text": [
      "0    0.884615\n",
      "Name: potDipole strength, dtype: float64\n",
      "estimated attractor dimension:  0.8337189996067048\n",
      "Filament behavior:  1-period\n",
      "Attribute not found\n"
     ]
    },
    {
     "name": "stderr",
     "output_type": "stream",
     "text": [
      "\r",
      " 48%|████▊     | 190/400 [27:44<35:56, 10.27s/it]"
     ]
    },
    {
     "name": "stdout",
     "output_type": "stream",
     "text": [
      "0    0.884615\n",
      "Name: potDipole strength, dtype: float64\n",
      "estimated attractor dimension:  0.8202004666229696\n",
      "Filament behavior:  1-period\n",
      "Attribute not found\n"
     ]
    },
    {
     "name": "stderr",
     "output_type": "stream",
     "text": [
      "\r",
      " 48%|████▊     | 191/400 [27:55<36:15, 10.41s/it]"
     ]
    },
    {
     "name": "stdout",
     "output_type": "stream",
     "text": [
      "0    1.205128\n",
      "Name: potDipole strength, dtype: float64\n",
      "estimated attractor dimension:  1.865805269029506\n",
      "Filament behavior:  2n-period\n",
      "Attribute not found\n"
     ]
    },
    {
     "name": "stderr",
     "output_type": "stream",
     "text": [
      "\r",
      " 48%|████▊     | 192/400 [28:06<36:27, 10.52s/it]"
     ]
    },
    {
     "name": "stdout",
     "output_type": "stream",
     "text": [
      "0    1.205128\n",
      "Name: potDipole strength, dtype: float64\n",
      "estimated attractor dimension:  1.8772462250455264\n",
      "Filament behavior:  2n-period\n",
      "Attribute not found\n"
     ]
    },
    {
     "name": "stderr",
     "output_type": "stream",
     "text": [
      "\r",
      " 48%|████▊     | 193/400 [28:17<36:30, 10.58s/it]"
     ]
    },
    {
     "name": "stdout",
     "output_type": "stream",
     "text": [
      "0    1.205128\n",
      "Name: potDipole strength, dtype: float64\n",
      "estimated attractor dimension:  1.9353264387362512\n",
      "Filament behavior:  2n-period\n",
      "Attribute not found\n"
     ]
    },
    {
     "name": "stderr",
     "output_type": "stream",
     "text": [
      "\r",
      " 48%|████▊     | 194/400 [28:27<36:28, 10.62s/it]"
     ]
    },
    {
     "name": "stdout",
     "output_type": "stream",
     "text": [
      "0    1.205128\n",
      "Name: potDipole strength, dtype: float64\n",
      "estimated attractor dimension:  1.9353264387362512\n",
      "Filament behavior:  2n-period\n",
      "Attribute not found\n"
     ]
    },
    {
     "name": "stderr",
     "output_type": "stream",
     "text": [
      "\r",
      " 49%|████▉     | 195/400 [28:38<36:24, 10.66s/it]"
     ]
    },
    {
     "name": "stdout",
     "output_type": "stream",
     "text": [
      "0    1.205128\n",
      "Name: potDipole strength, dtype: float64\n",
      "estimated attractor dimension:  1.882894849455669\n",
      "Filament behavior:  2n-period\n",
      "Attribute not found\n"
     ]
    },
    {
     "name": "stderr",
     "output_type": "stream",
     "text": [
      "\r",
      " 49%|████▉     | 196/400 [28:49<36:18, 10.68s/it]"
     ]
    },
    {
     "name": "stdout",
     "output_type": "stream",
     "text": [
      "0    1.205128\n",
      "Name: potDipole strength, dtype: float64\n",
      "estimated attractor dimension:  1.9497983945824005\n",
      "Filament behavior:  2n-period\n",
      "Attribute not found\n"
     ]
    },
    {
     "name": "stderr",
     "output_type": "stream",
     "text": [
      "\r",
      " 49%|████▉     | 197/400 [29:00<36:10, 10.69s/it]"
     ]
    },
    {
     "name": "stdout",
     "output_type": "stream",
     "text": [
      "0    1.205128\n",
      "Name: potDipole strength, dtype: float64\n",
      "estimated attractor dimension:  1.8376874362643467\n",
      "Filament behavior:  2n-period\n",
      "Attribute not found\n"
     ]
    },
    {
     "name": "stderr",
     "output_type": "stream",
     "text": [
      "\r",
      " 50%|████▉     | 198/400 [29:10<36:02, 10.71s/it]"
     ]
    },
    {
     "name": "stdout",
     "output_type": "stream",
     "text": [
      "0    1.205128\n",
      "Name: potDipole strength, dtype: float64\n",
      "estimated attractor dimension:  1.9174882120245804\n",
      "Filament behavior:  2n-period\n",
      "Attribute not found\n"
     ]
    },
    {
     "name": "stderr",
     "output_type": "stream",
     "text": [
      "\r",
      " 50%|████▉     | 199/400 [29:21<35:53, 10.72s/it]"
     ]
    },
    {
     "name": "stdout",
     "output_type": "stream",
     "text": [
      "0    1.205128\n",
      "Name: potDipole strength, dtype: float64\n",
      "estimated attractor dimension:  1.8693014381079038\n",
      "Filament behavior:  2n-period\n",
      "Attribute not found\n"
     ]
    },
    {
     "name": "stderr",
     "output_type": "stream",
     "text": [
      "\r",
      " 50%|█████     | 200/400 [29:32<35:44, 10.72s/it]"
     ]
    },
    {
     "name": "stdout",
     "output_type": "stream",
     "text": [
      "0    1.205128\n",
      "Name: potDipole strength, dtype: float64\n",
      "estimated attractor dimension:  1.9225577907542504\n",
      "Filament behavior:  2n-period\n",
      "Attribute not found\n"
     ]
    },
    {
     "name": "stderr",
     "output_type": "stream",
     "text": [
      "\r",
      " 50%|█████     | 201/400 [29:42<35:33, 10.72s/it]"
     ]
    },
    {
     "name": "stdout",
     "output_type": "stream",
     "text": [
      "0    1.397436\n",
      "Name: potDipole strength, dtype: float64\n",
      "estimated attractor dimension:  1.21387909726028\n",
      "Filament behavior:  2n-period\n",
      "Attribute not found\n"
     ]
    },
    {
     "name": "stderr",
     "output_type": "stream",
     "text": [
      "\r",
      " 50%|█████     | 202/400 [29:53<35:21, 10.71s/it]"
     ]
    },
    {
     "name": "stdout",
     "output_type": "stream",
     "text": [
      "0    1.397436\n",
      "Name: potDipole strength, dtype: float64\n",
      "estimated attractor dimension:  1.1411806380899228\n",
      "Filament behavior:  2n-period\n",
      "Attribute not found\n"
     ]
    },
    {
     "name": "stderr",
     "output_type": "stream",
     "text": [
      "\r",
      " 51%|█████     | 203/400 [30:04<35:11, 10.72s/it]"
     ]
    },
    {
     "name": "stdout",
     "output_type": "stream",
     "text": [
      "0    1.397436\n",
      "Name: potDipole strength, dtype: float64\n",
      "estimated attractor dimension:  1.1370987969159396\n",
      "Filament behavior:  2n-period\n",
      "Attribute not found\n"
     ]
    },
    {
     "name": "stderr",
     "output_type": "stream",
     "text": [
      "\r",
      " 51%|█████     | 204/400 [30:15<34:58, 10.71s/it]"
     ]
    },
    {
     "name": "stdout",
     "output_type": "stream",
     "text": [
      "0    1.397436\n",
      "Name: potDipole strength, dtype: float64\n",
      "estimated attractor dimension:  1.1398102256656335\n",
      "Filament behavior:  2n-period\n",
      "Attribute not found\n"
     ]
    },
    {
     "name": "stderr",
     "output_type": "stream",
     "text": [
      "\r",
      " 51%|█████▏    | 205/400 [30:25<34:45, 10.70s/it]"
     ]
    },
    {
     "name": "stdout",
     "output_type": "stream",
     "text": [
      "0    1.397436\n",
      "Name: potDipole strength, dtype: float64\n",
      "estimated attractor dimension:  1.1966150943158347\n",
      "Filament behavior:  2n-period\n",
      "Attribute not found\n"
     ]
    },
    {
     "name": "stderr",
     "output_type": "stream",
     "text": [
      "\r",
      " 52%|█████▏    | 206/400 [30:36<34:34, 10.69s/it]"
     ]
    },
    {
     "name": "stdout",
     "output_type": "stream",
     "text": [
      "0    1.397436\n",
      "Name: potDipole strength, dtype: float64\n",
      "estimated attractor dimension:  1.2099592690392176\n",
      "Filament behavior:  2n-period\n",
      "Attribute not found\n"
     ]
    },
    {
     "name": "stderr",
     "output_type": "stream",
     "text": [
      "\r",
      " 52%|█████▏    | 207/400 [30:47<34:25, 10.70s/it]"
     ]
    },
    {
     "name": "stdout",
     "output_type": "stream",
     "text": [
      "0    1.397436\n",
      "Name: potDipole strength, dtype: float64\n",
      "estimated attractor dimension:  1.1620446938916875\n",
      "Filament behavior:  2n-period\n",
      "Attribute not found\n"
     ]
    },
    {
     "name": "stderr",
     "output_type": "stream",
     "text": [
      "\r",
      " 52%|█████▏    | 208/400 [30:57<34:15, 10.71s/it]"
     ]
    },
    {
     "name": "stdout",
     "output_type": "stream",
     "text": [
      "0    1.397436\n",
      "Name: potDipole strength, dtype: float64\n",
      "estimated attractor dimension:  1.1235557831884677\n",
      "Filament behavior:  2n-period\n",
      "Attribute not found\n"
     ]
    },
    {
     "name": "stderr",
     "output_type": "stream",
     "text": [
      "\r",
      " 52%|█████▏    | 209/400 [31:08<34:07, 10.72s/it]"
     ]
    },
    {
     "name": "stdout",
     "output_type": "stream",
     "text": [
      "0    1.397436\n",
      "Name: potDipole strength, dtype: float64\n",
      "estimated attractor dimension:  1.181457169996028\n",
      "Filament behavior:  2n-period\n",
      "Attribute not found\n"
     ]
    },
    {
     "name": "stderr",
     "output_type": "stream",
     "text": [
      "\r",
      " 52%|█████▎    | 210/400 [31:19<33:57, 10.72s/it]"
     ]
    },
    {
     "name": "stdout",
     "output_type": "stream",
     "text": [
      "0    1.397436\n",
      "Name: potDipole strength, dtype: float64\n",
      "estimated attractor dimension:  1.2447138181355875\n",
      "Filament behavior:  2n-period\n",
      "Attribute not found\n"
     ]
    },
    {
     "name": "stderr",
     "output_type": "stream",
     "text": [
      "\r",
      " 53%|█████▎    | 211/400 [31:30<33:49, 10.74s/it]"
     ]
    },
    {
     "name": "stdout",
     "output_type": "stream",
     "text": [
      "0    1.141026\n",
      "Name: potDipole strength, dtype: float64\n",
      "estimated attractor dimension:  1.8131062124684885\n",
      "Filament behavior:  2n-period\n",
      "Attribute not found\n"
     ]
    },
    {
     "name": "stderr",
     "output_type": "stream",
     "text": [
      "\r",
      " 53%|█████▎    | 212/400 [31:40<33:41, 10.75s/it]"
     ]
    },
    {
     "name": "stdout",
     "output_type": "stream",
     "text": [
      "0    1.141026\n",
      "Name: potDipole strength, dtype: float64\n",
      "estimated attractor dimension:  1.8066529898472565\n",
      "Filament behavior:  2n-period\n",
      "Attribute not found\n"
     ]
    },
    {
     "name": "stderr",
     "output_type": "stream",
     "text": [
      "\r",
      " 53%|█████▎    | 213/400 [31:51<33:30, 10.75s/it]"
     ]
    },
    {
     "name": "stdout",
     "output_type": "stream",
     "text": [
      "0    1.141026\n",
      "Name: potDipole strength, dtype: float64\n",
      "estimated attractor dimension:  1.7654080549146778\n",
      "Filament behavior:  2n-period\n",
      "Attribute not found\n"
     ]
    },
    {
     "name": "stderr",
     "output_type": "stream",
     "text": [
      "\r",
      " 54%|█████▎    | 214/400 [32:02<33:21, 10.76s/it]"
     ]
    },
    {
     "name": "stdout",
     "output_type": "stream",
     "text": [
      "0    1.141026\n",
      "Name: potDipole strength, dtype: float64\n",
      "estimated attractor dimension:  1.8066529898472565\n",
      "Filament behavior:  2n-period\n",
      "Attribute not found\n"
     ]
    },
    {
     "name": "stderr",
     "output_type": "stream",
     "text": [
      "\r",
      " 54%|█████▍    | 215/400 [32:13<33:10, 10.76s/it]"
     ]
    },
    {
     "name": "stdout",
     "output_type": "stream",
     "text": [
      "0    1.141026\n",
      "Name: potDipole strength, dtype: float64\n",
      "estimated attractor dimension:  1.7992816752700538\n",
      "Filament behavior:  2n-period\n",
      "Attribute not found\n"
     ]
    },
    {
     "name": "stderr",
     "output_type": "stream",
     "text": [
      "\r",
      " 54%|█████▍    | 216/400 [32:23<33:00, 10.76s/it]"
     ]
    },
    {
     "name": "stdout",
     "output_type": "stream",
     "text": [
      "0    1.141026\n",
      "Name: potDipole strength, dtype: float64\n",
      "estimated attractor dimension:  1.7249650923897137\n",
      "Filament behavior:  2n-period\n",
      "Attribute not found\n"
     ]
    },
    {
     "name": "stderr",
     "output_type": "stream",
     "text": [
      "\r",
      " 54%|█████▍    | 217/400 [32:34<32:49, 10.76s/it]"
     ]
    },
    {
     "name": "stdout",
     "output_type": "stream",
     "text": [
      "0    1.141026\n",
      "Name: potDipole strength, dtype: float64\n",
      "estimated attractor dimension:  1.7597022054331866\n",
      "Filament behavior:  2n-period\n",
      "Attribute not found\n"
     ]
    },
    {
     "name": "stderr",
     "output_type": "stream",
     "text": [
      "\r",
      " 55%|█████▍    | 218/400 [32:45<32:38, 10.76s/it]"
     ]
    },
    {
     "name": "stdout",
     "output_type": "stream",
     "text": [
      "0    1.141026\n",
      "Name: potDipole strength, dtype: float64\n",
      "estimated attractor dimension:  1.7779086705790719\n",
      "Filament behavior:  2n-period\n",
      "Attribute not found\n"
     ]
    },
    {
     "name": "stderr",
     "output_type": "stream",
     "text": [
      "\r",
      " 55%|█████▍    | 219/400 [32:56<32:37, 10.82s/it]"
     ]
    },
    {
     "name": "stdout",
     "output_type": "stream",
     "text": [
      "0    1.141026\n",
      "Name: potDipole strength, dtype: float64\n",
      "estimated attractor dimension:  1.7062478635353864\n",
      "Filament behavior:  2n-period\n",
      "Attribute not found\n"
     ]
    },
    {
     "name": "stderr",
     "output_type": "stream",
     "text": [
      "\r",
      " 55%|█████▌    | 220/400 [33:07<32:30, 10.83s/it]"
     ]
    },
    {
     "name": "stdout",
     "output_type": "stream",
     "text": [
      "0    1.141026\n",
      "Name: potDipole strength, dtype: float64\n",
      "estimated attractor dimension:  1.7229373117291054\n",
      "Filament behavior:  2n-period\n",
      "Attribute not found\n"
     ]
    },
    {
     "name": "stderr",
     "output_type": "stream",
     "text": [
      "\r",
      " 55%|█████▌    | 221/400 [33:18<32:38, 10.94s/it]"
     ]
    },
    {
     "name": "stdout",
     "output_type": "stream",
     "text": [
      "0    2.551282\n",
      "Name: potDipole strength, dtype: float64\n",
      "estimated attractor dimension:  1.4770348841266194\n",
      "Filament behavior:  1-period\n",
      "Attribute not found\n"
     ]
    },
    {
     "name": "stderr",
     "output_type": "stream",
     "text": [
      "\r",
      " 56%|█████▌    | 222/400 [33:29<32:32, 10.97s/it]"
     ]
    },
    {
     "name": "stdout",
     "output_type": "stream",
     "text": [
      "0    2.551282\n",
      "Name: potDipole strength, dtype: float64\n",
      "estimated attractor dimension:  1.4642800737148203\n",
      "Filament behavior:  1-period\n",
      "Attribute not found\n"
     ]
    },
    {
     "name": "stderr",
     "output_type": "stream",
     "text": [
      "\r",
      " 56%|█████▌    | 223/400 [33:40<32:10, 10.91s/it]"
     ]
    },
    {
     "name": "stdout",
     "output_type": "stream",
     "text": [
      "0    2.551282\n",
      "Name: potDipole strength, dtype: float64\n",
      "estimated attractor dimension:  1.4404000576971248\n",
      "Filament behavior:  1-period\n",
      "Attribute not found\n"
     ]
    },
    {
     "name": "stderr",
     "output_type": "stream",
     "text": [
      "\r",
      " 56%|█████▌    | 224/400 [33:51<31:49, 10.85s/it]"
     ]
    },
    {
     "name": "stdout",
     "output_type": "stream",
     "text": [
      "0    2.551282\n",
      "Name: potDipole strength, dtype: float64\n",
      "estimated attractor dimension:  1.4584274181196024\n",
      "Filament behavior:  1-period\n",
      "Attribute not found\n"
     ]
    },
    {
     "name": "stderr",
     "output_type": "stream",
     "text": [
      "\r",
      " 56%|█████▋    | 225/400 [34:01<31:33, 10.82s/it]"
     ]
    },
    {
     "name": "stdout",
     "output_type": "stream",
     "text": [
      "0    2.551282\n",
      "Name: potDipole strength, dtype: float64\n",
      "estimated attractor dimension:  1.494671981321649\n",
      "Filament behavior:  1-period\n",
      "Attribute not found\n"
     ]
    },
    {
     "name": "stderr",
     "output_type": "stream",
     "text": [
      "\r",
      " 56%|█████▋    | 226/400 [34:12<31:16, 10.79s/it]"
     ]
    },
    {
     "name": "stdout",
     "output_type": "stream",
     "text": [
      "0    2.551282\n",
      "Name: potDipole strength, dtype: float64\n",
      "estimated attractor dimension:  1.4861657338973198\n",
      "Filament behavior:  1-period\n",
      "Attribute not found\n"
     ]
    },
    {
     "name": "stderr",
     "output_type": "stream",
     "text": [
      "\r",
      " 57%|█████▋    | 227/400 [34:23<31:03, 10.77s/it]"
     ]
    },
    {
     "name": "stdout",
     "output_type": "stream",
     "text": [
      "0    2.551282\n",
      "Name: potDipole strength, dtype: float64\n",
      "estimated attractor dimension:  1.4904940774724913\n",
      "Filament behavior:  1-period\n",
      "Attribute not found\n"
     ]
    },
    {
     "name": "stderr",
     "output_type": "stream",
     "text": [
      "\r",
      " 57%|█████▋    | 228/400 [34:33<30:53, 10.77s/it]"
     ]
    },
    {
     "name": "stdout",
     "output_type": "stream",
     "text": [
      "0    2.551282\n",
      "Name: potDipole strength, dtype: float64\n",
      "estimated attractor dimension:  1.4561661477259706\n",
      "Filament behavior:  1-period\n",
      "Attribute not found\n"
     ]
    },
    {
     "name": "stderr",
     "output_type": "stream",
     "text": [
      "\r",
      " 57%|█████▋    | 229/400 [34:44<30:40, 10.76s/it]"
     ]
    },
    {
     "name": "stdout",
     "output_type": "stream",
     "text": [
      "0    2.551282\n",
      "Name: potDipole strength, dtype: float64\n",
      "estimated attractor dimension:  1.4608066203766452\n",
      "Filament behavior:  1-period\n",
      "Attribute not found\n"
     ]
    },
    {
     "name": "stderr",
     "output_type": "stream",
     "text": [
      "\r",
      " 57%|█████▊    | 230/400 [34:55<30:27, 10.75s/it]"
     ]
    },
    {
     "name": "stdout",
     "output_type": "stream",
     "text": [
      "0    2.551282\n",
      "Name: potDipole strength, dtype: float64\n",
      "estimated attractor dimension:  1.4756047629591387\n",
      "Filament behavior:  1-period\n",
      "Attribute not found\n"
     ]
    },
    {
     "name": "stderr",
     "output_type": "stream",
     "text": [
      "\r",
      " 58%|█████▊    | 231/400 [35:06<30:15, 10.75s/it]"
     ]
    },
    {
     "name": "stdout",
     "output_type": "stream",
     "text": [
      "0    1.012821\n",
      "Name: potDipole strength, dtype: float64\n",
      "estimated attractor dimension:  1.2303409977893962\n",
      "Filament behavior:  1-period\n",
      "Attribute not found\n"
     ]
    },
    {
     "name": "stderr",
     "output_type": "stream",
     "text": [
      "\r",
      " 58%|█████▊    | 232/400 [35:16<30:04, 10.74s/it]"
     ]
    },
    {
     "name": "stdout",
     "output_type": "stream",
     "text": [
      "0    1.012821\n",
      "Name: potDipole strength, dtype: float64\n",
      "estimated attractor dimension:  1.2481471998580618\n",
      "Filament behavior:  1-period\n",
      "Attribute not found\n"
     ]
    },
    {
     "name": "stderr",
     "output_type": "stream",
     "text": [
      "\r",
      " 58%|█████▊    | 233/400 [35:27<29:53, 10.74s/it]"
     ]
    },
    {
     "name": "stdout",
     "output_type": "stream",
     "text": [
      "0    1.012821\n",
      "Name: potDipole strength, dtype: float64\n",
      "estimated attractor dimension:  1.2578901588170603\n",
      "Filament behavior:  1-period\n",
      "Attribute not found\n"
     ]
    },
    {
     "name": "stderr",
     "output_type": "stream",
     "text": [
      "\r",
      " 58%|█████▊    | 234/400 [35:38<29:43, 10.74s/it]"
     ]
    },
    {
     "name": "stdout",
     "output_type": "stream",
     "text": [
      "0    1.012821\n",
      "Name: potDipole strength, dtype: float64\n",
      "estimated attractor dimension:  1.258015019560301\n",
      "Filament behavior:  1-period\n",
      "Attribute not found\n"
     ]
    },
    {
     "name": "stderr",
     "output_type": "stream",
     "text": [
      "\r",
      " 59%|█████▉    | 235/400 [35:49<29:31, 10.74s/it]"
     ]
    },
    {
     "name": "stdout",
     "output_type": "stream",
     "text": [
      "0    1.012821\n",
      "Name: potDipole strength, dtype: float64\n",
      "estimated attractor dimension:  1.259712708669623\n",
      "Filament behavior:  1-period\n",
      "Attribute not found\n"
     ]
    },
    {
     "name": "stderr",
     "output_type": "stream",
     "text": [
      "\r",
      " 59%|█████▉    | 236/400 [35:59<29:21, 10.74s/it]"
     ]
    },
    {
     "name": "stdout",
     "output_type": "stream",
     "text": [
      "0    1.012821\n",
      "Name: potDipole strength, dtype: float64\n",
      "estimated attractor dimension:  1.2304862283669022\n",
      "Filament behavior:  1-period\n",
      "Attribute not found\n"
     ]
    },
    {
     "name": "stderr",
     "output_type": "stream",
     "text": [
      "\r",
      " 59%|█████▉    | 237/400 [36:10<29:10, 10.74s/it]"
     ]
    },
    {
     "name": "stdout",
     "output_type": "stream",
     "text": [
      "0    1.012821\n",
      "Name: potDipole strength, dtype: float64\n",
      "estimated attractor dimension:  1.2527967938436306\n",
      "Filament behavior:  1-period\n",
      "Attribute not found\n"
     ]
    },
    {
     "name": "stderr",
     "output_type": "stream",
     "text": [
      "\r",
      " 60%|█████▉    | 238/400 [36:21<28:58, 10.73s/it]"
     ]
    },
    {
     "name": "stdout",
     "output_type": "stream",
     "text": [
      "0    1.012821\n",
      "Name: potDipole strength, dtype: float64\n",
      "estimated attractor dimension:  1.2304862283669022\n",
      "Filament behavior:  1-period\n",
      "Attribute not found\n"
     ]
    },
    {
     "name": "stderr",
     "output_type": "stream",
     "text": [
      "\r",
      " 60%|█████▉    | 239/400 [36:32<28:47, 10.73s/it]"
     ]
    },
    {
     "name": "stdout",
     "output_type": "stream",
     "text": [
      "0    1.012821\n",
      "Name: potDipole strength, dtype: float64\n",
      "estimated attractor dimension:  1.2236333551069907\n",
      "Filament behavior:  1-period\n",
      "Attribute not found\n"
     ]
    },
    {
     "name": "stderr",
     "output_type": "stream",
     "text": [
      "\r",
      " 60%|██████    | 240/400 [36:42<28:37, 10.73s/it]"
     ]
    },
    {
     "name": "stdout",
     "output_type": "stream",
     "text": [
      "0    1.012821\n",
      "Name: potDipole strength, dtype: float64\n",
      "estimated attractor dimension:  1.2531164952379747\n",
      "Filament behavior:  1-period\n",
      "Attribute not found\n"
     ]
    },
    {
     "name": "stderr",
     "output_type": "stream",
     "text": [
      "\r",
      " 60%|██████    | 241/400 [36:53<28:30, 10.76s/it]"
     ]
    },
    {
     "name": "stdout",
     "output_type": "stream",
     "text": [
      "0    2.294872\n",
      "Name: potDipole strength, dtype: float64\n",
      "estimated attractor dimension:  1.8805105027059363\n",
      "Filament behavior:  aperiodic\n",
      "Attribute not found\n"
     ]
    },
    {
     "name": "stderr",
     "output_type": "stream",
     "text": [
      "\r",
      " 60%|██████    | 242/400 [37:04<28:23, 10.78s/it]"
     ]
    },
    {
     "name": "stdout",
     "output_type": "stream",
     "text": [
      "0    2.294872\n",
      "Name: potDipole strength, dtype: float64\n",
      "estimated attractor dimension:  1.7457099140159664\n",
      "Filament behavior:  aperiodic\n",
      "Attribute not found\n"
     ]
    },
    {
     "name": "stderr",
     "output_type": "stream",
     "text": [
      "\r",
      " 61%|██████    | 243/400 [37:15<28:11, 10.78s/it]"
     ]
    },
    {
     "name": "stdout",
     "output_type": "stream",
     "text": [
      "0    2.294872\n",
      "Name: potDipole strength, dtype: float64\n",
      "estimated attractor dimension:  1.7457099140159664\n",
      "Filament behavior:  aperiodic\n",
      "Attribute not found\n"
     ]
    },
    {
     "name": "stderr",
     "output_type": "stream",
     "text": [
      "\r",
      " 61%|██████    | 244/400 [37:26<28:02, 10.79s/it]"
     ]
    },
    {
     "name": "stdout",
     "output_type": "stream",
     "text": [
      "0    2.294872\n",
      "Name: potDipole strength, dtype: float64\n",
      "estimated attractor dimension:  1.795523180296715\n",
      "Filament behavior:  aperiodic\n",
      "Attribute not found\n"
     ]
    },
    {
     "name": "stderr",
     "output_type": "stream",
     "text": [
      "\r",
      " 61%|██████▏   | 245/400 [37:36<27:52, 10.79s/it]"
     ]
    },
    {
     "name": "stdout",
     "output_type": "stream",
     "text": [
      "0    2.294872\n",
      "Name: potDipole strength, dtype: float64\n",
      "estimated attractor dimension:  1.8404067724376385\n",
      "Filament behavior:  aperiodic\n",
      "Attribute not found\n"
     ]
    },
    {
     "name": "stderr",
     "output_type": "stream",
     "text": [
      "\r",
      " 62%|██████▏   | 246/400 [37:47<27:41, 10.79s/it]"
     ]
    },
    {
     "name": "stdout",
     "output_type": "stream",
     "text": [
      "0    2.294872\n",
      "Name: potDipole strength, dtype: float64\n",
      "estimated attractor dimension:  1.8851281243464542\n",
      "Filament behavior:  aperiodic\n",
      "Attribute not found\n"
     ]
    },
    {
     "name": "stderr",
     "output_type": "stream",
     "text": [
      "\r",
      " 62%|██████▏   | 247/400 [37:58<27:31, 10.80s/it]"
     ]
    },
    {
     "name": "stdout",
     "output_type": "stream",
     "text": [
      "0    2.294872\n",
      "Name: potDipole strength, dtype: float64\n",
      "estimated attractor dimension:  1.7567508022754044\n",
      "Filament behavior:  aperiodic\n",
      "Attribute not found\n"
     ]
    },
    {
     "name": "stderr",
     "output_type": "stream",
     "text": [
      "\r",
      " 62%|██████▏   | 248/400 [38:09<27:20, 10.79s/it]"
     ]
    },
    {
     "name": "stdout",
     "output_type": "stream",
     "text": [
      "0    2.294872\n",
      "Name: potDipole strength, dtype: float64\n",
      "estimated attractor dimension:  1.8789874935743889\n",
      "Filament behavior:  aperiodic\n",
      "Attribute not found\n"
     ]
    },
    {
     "name": "stderr",
     "output_type": "stream",
     "text": [
      "\r",
      " 62%|██████▏   | 249/400 [38:19<27:08, 10.79s/it]"
     ]
    },
    {
     "name": "stdout",
     "output_type": "stream",
     "text": [
      "0    2.294872\n",
      "Name: potDipole strength, dtype: float64\n",
      "estimated attractor dimension:  1.8434605918700566\n",
      "Filament behavior:  aperiodic\n",
      "Attribute not found\n"
     ]
    },
    {
     "name": "stderr",
     "output_type": "stream",
     "text": [
      "\r",
      " 62%|██████▎   | 250/400 [38:30<26:57, 10.78s/it]"
     ]
    },
    {
     "name": "stdout",
     "output_type": "stream",
     "text": [
      "0    2.294872\n",
      "Name: potDipole strength, dtype: float64\n",
      "estimated attractor dimension:  1.8746378648152047\n",
      "Filament behavior:  aperiodic\n",
      "Attribute not found\n",
      "Shape modes data not found!\n",
      "Attribute not found\n",
      "Shape modes data not found!\n",
      "Attribute not found\n",
      "Shape modes data not found!\n",
      "Attribute not found\n",
      "Shape modes data not found!\n",
      "Attribute not found\n",
      "Shape modes data not found!\n",
      "Attribute not found\n",
      "Shape modes data not found!\n",
      "Attribute not found\n",
      "Shape modes data not found!\n",
      "Attribute not found\n",
      "Shape modes data not found!\n",
      "Attribute not found\n",
      "Shape modes data not found!\n",
      "Attribute not found\n",
      "Shape modes data not found!\n",
      "Attribute not found\n"
     ]
    },
    {
     "name": "stderr",
     "output_type": "stream",
     "text": [
      "\r",
      " 65%|██████▌   | 261/400 [38:41<06:17,  2.72s/it]"
     ]
    },
    {
     "name": "stdout",
     "output_type": "stream",
     "text": [
      "0    0.75641\n",
      "Name: potDipole strength, dtype: float64\n",
      "estimated attractor dimension:  0.0\n",
      "Filament behavior:  1-period\n",
      "Attribute not found\n"
     ]
    },
    {
     "name": "stderr",
     "output_type": "stream",
     "text": [
      "\r",
      " 66%|██████▌   | 262/400 [38:52<08:04,  3.51s/it]"
     ]
    },
    {
     "name": "stdout",
     "output_type": "stream",
     "text": [
      "0    0.75641\n",
      "Name: potDipole strength, dtype: float64\n",
      "estimated attractor dimension:  0.0\n",
      "Filament behavior:  1-period\n",
      "Attribute not found\n"
     ]
    },
    {
     "name": "stderr",
     "output_type": "stream",
     "text": [
      "\r",
      " 66%|██████▌   | 263/400 [39:03<10:04,  4.42s/it]"
     ]
    },
    {
     "name": "stdout",
     "output_type": "stream",
     "text": [
      "0    0.75641\n",
      "Name: potDipole strength, dtype: float64\n",
      "estimated attractor dimension:  0.0\n",
      "Filament behavior:  1-period\n",
      "Attribute not found\n"
     ]
    },
    {
     "name": "stderr",
     "output_type": "stream",
     "text": [
      "\r",
      " 66%|██████▌   | 264/400 [39:14<12:13,  5.40s/it]"
     ]
    },
    {
     "name": "stdout",
     "output_type": "stream",
     "text": [
      "0    0.75641\n",
      "Name: potDipole strength, dtype: float64\n",
      "estimated attractor dimension:  0.0\n",
      "Filament behavior:  1-period\n",
      "Attribute not found\n"
     ]
    },
    {
     "name": "stderr",
     "output_type": "stream",
     "text": [
      "\r",
      " 66%|██████▋   | 265/400 [39:25<14:21,  6.38s/it]"
     ]
    },
    {
     "name": "stdout",
     "output_type": "stream",
     "text": [
      "0    0.75641\n",
      "Name: potDipole strength, dtype: float64\n",
      "estimated attractor dimension:  0.0\n",
      "Filament behavior:  1-period\n",
      "Attribute not found\n"
     ]
    },
    {
     "name": "stderr",
     "output_type": "stream",
     "text": [
      "\r",
      " 66%|██████▋   | 266/400 [39:36<16:20,  7.31s/it]"
     ]
    },
    {
     "name": "stdout",
     "output_type": "stream",
     "text": [
      "0    0.75641\n",
      "Name: potDipole strength, dtype: float64\n",
      "estimated attractor dimension:  0.0\n",
      "Filament behavior:  1-period\n",
      "Attribute not found\n"
     ]
    },
    {
     "name": "stderr",
     "output_type": "stream",
     "text": [
      "\r",
      " 67%|██████▋   | 267/400 [39:47<18:01,  8.13s/it]"
     ]
    },
    {
     "name": "stdout",
     "output_type": "stream",
     "text": [
      "0    0.75641\n",
      "Name: potDipole strength, dtype: float64\n",
      "estimated attractor dimension:  0.0\n",
      "Filament behavior:  1-period\n",
      "Attribute not found\n"
     ]
    },
    {
     "name": "stderr",
     "output_type": "stream",
     "text": [
      "\r",
      " 67%|██████▋   | 268/400 [39:58<19:21,  8.80s/it]"
     ]
    },
    {
     "name": "stdout",
     "output_type": "stream",
     "text": [
      "0    0.75641\n",
      "Name: potDipole strength, dtype: float64\n",
      "estimated attractor dimension:  0.0\n",
      "Filament behavior:  1-period\n",
      "Attribute not found\n"
     ]
    },
    {
     "name": "stderr",
     "output_type": "stream",
     "text": [
      "\r",
      " 67%|██████▋   | 269/400 [40:09<20:27,  9.37s/it]"
     ]
    },
    {
     "name": "stdout",
     "output_type": "stream",
     "text": [
      "0    0.75641\n",
      "Name: potDipole strength, dtype: float64\n",
      "estimated attractor dimension:  0.0\n",
      "Filament behavior:  1-period\n",
      "Attribute not found\n"
     ]
    },
    {
     "name": "stderr",
     "output_type": "stream",
     "text": [
      "\r",
      " 68%|██████▊   | 270/400 [40:20<21:14,  9.81s/it]"
     ]
    },
    {
     "name": "stdout",
     "output_type": "stream",
     "text": [
      "0    0.75641\n",
      "Name: potDipole strength, dtype: float64\n",
      "estimated attractor dimension:  0.0\n",
      "Filament behavior:  1-period\n",
      "Attribute not found\n",
      "Shape modes data not found!\n",
      "Attribute not found\n",
      "Shape modes data not found!\n",
      "Attribute not found\n",
      "Shape modes data not found!\n",
      "Attribute not found\n",
      "Shape modes data not found!\n",
      "Attribute not found\n",
      "Shape modes data not found!\n",
      "Attribute not found\n"
     ]
    },
    {
     "name": "stderr",
     "output_type": "stream",
     "text": [
      "\r",
      " 69%|██████▉   | 276/400 [40:31<08:44,  4.23s/it]"
     ]
    },
    {
     "name": "stdout",
     "output_type": "stream",
     "text": [
      "0    2.102564\n",
      "Name: potDipole strength, dtype: float64\n",
      "estimated attractor dimension:  0.6285620559218905\n",
      "Filament behavior:  2n-period\n",
      "Attribute not found\n",
      "Shape modes data not found!\n",
      "Attribute not found\n",
      "Shape modes data not found!\n",
      "Attribute not found\n",
      "Shape modes data not found!\n",
      "Attribute not found\n",
      "Shape modes data not found!\n",
      "Attribute not found\n"
     ]
    },
    {
     "name": "stderr",
     "output_type": "stream",
     "text": [
      "\r",
      " 70%|███████   | 281/400 [40:42<06:31,  3.29s/it]"
     ]
    },
    {
     "name": "stdout",
     "output_type": "stream",
     "text": [
      "0    1.333333\n",
      "Name: potDipole strength, dtype: float64\n",
      "estimated attractor dimension:  1.9089882875198485\n",
      "Filament behavior:  2n-period\n",
      "Attribute not found\n"
     ]
    },
    {
     "name": "stderr",
     "output_type": "stream",
     "text": [
      "\r",
      " 70%|███████   | 282/400 [40:53<08:08,  4.14s/it]"
     ]
    },
    {
     "name": "stdout",
     "output_type": "stream",
     "text": [
      "0    1.333333\n",
      "Name: potDipole strength, dtype: float64\n",
      "estimated attractor dimension:  1.7144775172081383\n",
      "Filament behavior:  2n-period\n",
      "Attribute not found\n"
     ]
    },
    {
     "name": "stderr",
     "output_type": "stream",
     "text": [
      "\r",
      " 71%|███████   | 283/400 [41:03<09:52,  5.07s/it]"
     ]
    },
    {
     "name": "stdout",
     "output_type": "stream",
     "text": [
      "0    1.333333\n",
      "Name: potDipole strength, dtype: float64\n",
      "estimated attractor dimension:  1.9231938761890197\n",
      "Filament behavior:  2n-period\n",
      "Attribute not found\n"
     ]
    },
    {
     "name": "stderr",
     "output_type": "stream",
     "text": [
      "\r",
      " 71%|███████   | 284/400 [41:14<11:37,  6.02s/it]"
     ]
    },
    {
     "name": "stdout",
     "output_type": "stream",
     "text": [
      "0    1.333333\n",
      "Name: potDipole strength, dtype: float64\n",
      "estimated attractor dimension:  1.9231938761890197\n",
      "Filament behavior:  2n-period\n",
      "Attribute not found\n"
     ]
    },
    {
     "name": "stderr",
     "output_type": "stream",
     "text": [
      "\r",
      " 71%|███████▏  | 285/400 [41:25<13:16,  6.93s/it]"
     ]
    },
    {
     "name": "stdout",
     "output_type": "stream",
     "text": [
      "0    1.333333\n",
      "Name: potDipole strength, dtype: float64\n",
      "estimated attractor dimension:  1.8013434505702086\n",
      "Filament behavior:  2n-period\n",
      "Attribute not found\n"
     ]
    },
    {
     "name": "stderr",
     "output_type": "stream",
     "text": [
      "\r",
      " 72%|███████▏  | 286/400 [41:35<14:43,  7.75s/it]"
     ]
    },
    {
     "name": "stdout",
     "output_type": "stream",
     "text": [
      "0    1.333333\n",
      "Name: potDipole strength, dtype: float64\n",
      "estimated attractor dimension:  1.7478691740823535\n",
      "Filament behavior:  2n-period\n",
      "Attribute not found\n"
     ]
    },
    {
     "name": "stderr",
     "output_type": "stream",
     "text": [
      "\r",
      " 72%|███████▏  | 287/400 [41:46<15:55,  8.45s/it]"
     ]
    },
    {
     "name": "stdout",
     "output_type": "stream",
     "text": [
      "0    1.333333\n",
      "Name: potDipole strength, dtype: float64\n",
      "estimated attractor dimension:  1.7878893905461628\n",
      "Filament behavior:  2n-period\n",
      "Attribute not found\n"
     ]
    },
    {
     "name": "stderr",
     "output_type": "stream",
     "text": [
      "\r",
      " 72%|███████▏  | 288/400 [41:57<16:51,  9.03s/it]"
     ]
    },
    {
     "name": "stdout",
     "output_type": "stream",
     "text": [
      "0    1.333333\n",
      "Name: potDipole strength, dtype: float64\n",
      "estimated attractor dimension:  1.9365379239552873\n",
      "Filament behavior:  2n-period\n",
      "Attribute not found\n"
     ]
    },
    {
     "name": "stderr",
     "output_type": "stream",
     "text": [
      "\r",
      " 72%|███████▏  | 289/400 [42:08<17:34,  9.50s/it]"
     ]
    },
    {
     "name": "stdout",
     "output_type": "stream",
     "text": [
      "0    1.333333\n",
      "Name: potDipole strength, dtype: float64\n",
      "estimated attractor dimension:  1.8013434505702086\n",
      "Filament behavior:  2n-period\n",
      "Attribute not found\n"
     ]
    },
    {
     "name": "stderr",
     "output_type": "stream",
     "text": [
      "\r",
      " 72%|███████▎  | 290/400 [42:18<18:01,  9.83s/it]"
     ]
    },
    {
     "name": "stdout",
     "output_type": "stream",
     "text": [
      "0    1.333333\n",
      "Name: potDipole strength, dtype: float64\n",
      "estimated attractor dimension:  1.9270254191648257\n",
      "Filament behavior:  2n-period\n",
      "Attribute not found\n"
     ]
    },
    {
     "name": "stderr",
     "output_type": "stream",
     "text": [
      "\r",
      " 73%|███████▎  | 291/400 [42:29<18:19, 10.08s/it]"
     ]
    },
    {
     "name": "stdout",
     "output_type": "stream",
     "text": [
      "0    2.038462\n",
      "Name: potDipole strength, dtype: float64\n",
      "estimated attractor dimension:  1.861666239146371\n",
      "Filament behavior:  2n-period\n",
      "Attribute not found\n"
     ]
    },
    {
     "name": "stderr",
     "output_type": "stream",
     "text": [
      "\r",
      " 73%|███████▎  | 292/400 [42:40<18:29, 10.27s/it]"
     ]
    },
    {
     "name": "stdout",
     "output_type": "stream",
     "text": [
      "0    2.038462\n",
      "Name: potDipole strength, dtype: float64\n",
      "estimated attractor dimension:  2.006493821349152\n",
      "Filament behavior:  2n-period\n",
      "Attribute not found\n",
      "Shape modes data not found!\n",
      "Attribute not found\n",
      "Shape modes data not found!\n",
      "Attribute not found\n",
      "Shape modes data not found!\n",
      "Attribute not found\n"
     ]
    },
    {
     "name": "stderr",
     "output_type": "stream",
     "text": [
      "\r",
      " 74%|███████▍  | 296/400 [42:51<09:38,  5.57s/it]"
     ]
    },
    {
     "name": "stdout",
     "output_type": "stream",
     "text": [
      "0    2.038462\n",
      "Name: potDipole strength, dtype: float64\n",
      "estimated attractor dimension:  1.9880104863718062\n",
      "Filament behavior:  2n-period\n",
      "Attribute not found\n",
      "Shape modes data not found!\n",
      "Attribute not found\n",
      "Shape modes data not found!\n",
      "Attribute not found\n",
      "Shape modes data not found!\n",
      "Attribute not found\n",
      "Shape modes data not found!\n",
      "Attribute not found\n"
     ]
    },
    {
     "name": "stderr",
     "output_type": "stream",
     "text": [
      "\r",
      " 75%|███████▌  | 301/400 [43:02<06:14,  3.78s/it]"
     ]
    },
    {
     "name": "stdout",
     "output_type": "stream",
     "text": [
      "0    0.820513\n",
      "Name: potDipole strength, dtype: float64\n",
      "estimated attractor dimension:  0.0\n",
      "Filament behavior:  1-period\n",
      "Attribute not found\n"
     ]
    },
    {
     "name": "stderr",
     "output_type": "stream",
     "text": [
      "\r",
      " 76%|███████▌  | 302/400 [43:13<07:42,  4.72s/it]"
     ]
    },
    {
     "name": "stdout",
     "output_type": "stream",
     "text": [
      "0    0.820513\n",
      "Name: potDipole strength, dtype: float64\n",
      "estimated attractor dimension:  0.0\n",
      "Filament behavior:  1-period\n",
      "Attribute not found\n"
     ]
    },
    {
     "name": "stderr",
     "output_type": "stream",
     "text": [
      "\r",
      " 76%|███████▌  | 303/400 [43:23<09:12,  5.69s/it]"
     ]
    },
    {
     "name": "stdout",
     "output_type": "stream",
     "text": [
      "0    0.820513\n",
      "Name: potDipole strength, dtype: float64\n",
      "estimated attractor dimension:  0.0\n",
      "Filament behavior:  1-period\n",
      "Attribute not found\n"
     ]
    },
    {
     "name": "stderr",
     "output_type": "stream",
     "text": [
      "\r",
      " 76%|███████▌  | 304/400 [43:34<10:37,  6.64s/it]"
     ]
    },
    {
     "name": "stdout",
     "output_type": "stream",
     "text": [
      "0    0.820513\n",
      "Name: potDipole strength, dtype: float64\n",
      "estimated attractor dimension:  0.0\n",
      "Filament behavior:  1-period\n",
      "Attribute not found\n"
     ]
    },
    {
     "name": "stderr",
     "output_type": "stream",
     "text": [
      "\r",
      " 76%|███████▋  | 305/400 [43:45<11:53,  7.51s/it]"
     ]
    },
    {
     "name": "stdout",
     "output_type": "stream",
     "text": [
      "0    0.820513\n",
      "Name: potDipole strength, dtype: float64\n",
      "estimated attractor dimension:  0.0\n",
      "Filament behavior:  1-period\n",
      "Attribute not found\n"
     ]
    },
    {
     "name": "stderr",
     "output_type": "stream",
     "text": [
      "\r",
      " 76%|███████▋  | 306/400 [43:56<12:58,  8.29s/it]"
     ]
    },
    {
     "name": "stdout",
     "output_type": "stream",
     "text": [
      "0    0.820513\n",
      "Name: potDipole strength, dtype: float64\n",
      "estimated attractor dimension:  0.0\n",
      "Filament behavior:  1-period\n",
      "Attribute not found\n"
     ]
    },
    {
     "name": "stderr",
     "output_type": "stream",
     "text": [
      "\r",
      " 77%|███████▋  | 307/400 [44:07<13:50,  8.93s/it]"
     ]
    },
    {
     "name": "stdout",
     "output_type": "stream",
     "text": [
      "0    0.820513\n",
      "Name: potDipole strength, dtype: float64\n",
      "estimated attractor dimension:  0.0\n",
      "Filament behavior:  1-period\n",
      "Attribute not found\n"
     ]
    },
    {
     "name": "stderr",
     "output_type": "stream",
     "text": [
      "\r",
      " 77%|███████▋  | 308/400 [44:18<14:28,  9.44s/it]"
     ]
    },
    {
     "name": "stdout",
     "output_type": "stream",
     "text": [
      "0    0.820513\n",
      "Name: potDipole strength, dtype: float64\n",
      "estimated attractor dimension:  0.0\n",
      "Filament behavior:  1-period\n",
      "Attribute not found\n"
     ]
    },
    {
     "name": "stderr",
     "output_type": "stream",
     "text": [
      "\r",
      " 77%|███████▋  | 309/400 [44:29<14:53,  9.81s/it]"
     ]
    },
    {
     "name": "stdout",
     "output_type": "stream",
     "text": [
      "0    0.820513\n",
      "Name: potDipole strength, dtype: float64\n",
      "estimated attractor dimension:  0.0\n",
      "Filament behavior:  1-period\n",
      "Attribute not found\n"
     ]
    },
    {
     "name": "stderr",
     "output_type": "stream",
     "text": [
      "\r",
      " 78%|███████▊  | 310/400 [44:40<15:11, 10.12s/it]"
     ]
    },
    {
     "name": "stdout",
     "output_type": "stream",
     "text": [
      "0    0.820513\n",
      "Name: potDipole strength, dtype: float64\n",
      "estimated attractor dimension:  0.0\n",
      "Filament behavior:  1-period\n",
      "Attribute not found\n"
     ]
    },
    {
     "name": "stderr",
     "output_type": "stream",
     "text": [
      "\r",
      " 78%|███████▊  | 311/400 [44:50<15:17, 10.31s/it]"
     ]
    },
    {
     "name": "stdout",
     "output_type": "stream",
     "text": [
      "0    1.846154\n",
      "Name: potDipole strength, dtype: float64\n",
      "estimated attractor dimension:  2.1696666958314004\n",
      "Filament behavior:  aperiodic\n",
      "Attribute not found\n"
     ]
    },
    {
     "name": "stderr",
     "output_type": "stream",
     "text": [
      "\r",
      " 78%|███████▊  | 312/400 [45:01<15:19, 10.45s/it]"
     ]
    },
    {
     "name": "stdout",
     "output_type": "stream",
     "text": [
      "0    1.846154\n",
      "Name: potDipole strength, dtype: float64\n",
      "estimated attractor dimension:  2.1571289302495265\n",
      "Filament behavior:  aperiodic\n",
      "Attribute not found\n"
     ]
    },
    {
     "name": "stderr",
     "output_type": "stream",
     "text": [
      "\r",
      " 78%|███████▊  | 313/400 [45:12<15:17, 10.54s/it]"
     ]
    },
    {
     "name": "stdout",
     "output_type": "stream",
     "text": [
      "0    1.846154\n",
      "Name: potDipole strength, dtype: float64\n",
      "estimated attractor dimension:  2.159210117373077\n",
      "Filament behavior:  aperiodic\n",
      "Attribute not found\n"
     ]
    },
    {
     "name": "stderr",
     "output_type": "stream",
     "text": [
      "\r",
      " 78%|███████▊  | 314/400 [45:23<15:13, 10.62s/it]"
     ]
    },
    {
     "name": "stdout",
     "output_type": "stream",
     "text": [
      "0    1.846154\n",
      "Name: potDipole strength, dtype: float64\n",
      "estimated attractor dimension:  2.090426927633099\n",
      "Filament behavior:  aperiodic\n",
      "Attribute not found\n"
     ]
    },
    {
     "name": "stderr",
     "output_type": "stream",
     "text": [
      "\r",
      " 79%|███████▉  | 315/400 [45:33<15:06, 10.67s/it]"
     ]
    },
    {
     "name": "stdout",
     "output_type": "stream",
     "text": [
      "0    1.846154\n",
      "Name: potDipole strength, dtype: float64\n",
      "estimated attractor dimension:  2.191463945039103\n",
      "Filament behavior:  aperiodic\n",
      "Attribute not found\n"
     ]
    },
    {
     "name": "stderr",
     "output_type": "stream",
     "text": [
      "\r",
      " 79%|███████▉  | 316/400 [45:44<14:58, 10.70s/it]"
     ]
    },
    {
     "name": "stdout",
     "output_type": "stream",
     "text": [
      "0    1.846154\n",
      "Name: potDipole strength, dtype: float64\n",
      "estimated attractor dimension:  2.118967124205412\n",
      "Filament behavior:  aperiodic\n",
      "Attribute not found\n"
     ]
    },
    {
     "name": "stderr",
     "output_type": "stream",
     "text": [
      "\r",
      " 79%|███████▉  | 317/400 [45:55<14:50, 10.72s/it]"
     ]
    },
    {
     "name": "stdout",
     "output_type": "stream",
     "text": [
      "0    1.846154\n",
      "Name: potDipole strength, dtype: float64\n",
      "estimated attractor dimension:  2.218806523052072\n",
      "Filament behavior:  aperiodic\n",
      "Attribute not found\n"
     ]
    },
    {
     "name": "stderr",
     "output_type": "stream",
     "text": [
      "\r",
      " 80%|███████▉  | 318/400 [46:06<14:42, 10.76s/it]"
     ]
    },
    {
     "name": "stdout",
     "output_type": "stream",
     "text": [
      "0    1.846154\n",
      "Name: potDipole strength, dtype: float64\n",
      "estimated attractor dimension:  2.2183356202135625\n",
      "Filament behavior:  aperiodic\n",
      "Attribute not found\n"
     ]
    },
    {
     "name": "stderr",
     "output_type": "stream",
     "text": [
      "\r",
      " 80%|███████▉  | 319/400 [46:17<14:32, 10.77s/it]"
     ]
    },
    {
     "name": "stdout",
     "output_type": "stream",
     "text": [
      "0    1.846154\n",
      "Name: potDipole strength, dtype: float64\n",
      "estimated attractor dimension:  2.2495906587685446\n",
      "Filament behavior:  aperiodic\n",
      "Attribute not found\n"
     ]
    },
    {
     "name": "stderr",
     "output_type": "stream",
     "text": [
      "\r",
      " 80%|████████  | 320/400 [46:27<14:21, 10.77s/it]"
     ]
    },
    {
     "name": "stdout",
     "output_type": "stream",
     "text": [
      "0    1.846154\n",
      "Name: potDipole strength, dtype: float64\n",
      "estimated attractor dimension:  2.1827581142833443\n",
      "Filament behavior:  aperiodic\n",
      "Attribute not found\n"
     ]
    },
    {
     "name": "stderr",
     "output_type": "stream",
     "text": [
      "\r",
      " 80%|████████  | 321/400 [46:38<14:11, 10.78s/it]"
     ]
    },
    {
     "name": "stdout",
     "output_type": "stream",
     "text": [
      "0    1.653846\n",
      "Name: potDipole strength, dtype: float64\n",
      "estimated attractor dimension:  1.8697405615846237\n",
      "Filament behavior:  aperiodic\n",
      "Attribute not found\n"
     ]
    },
    {
     "name": "stderr",
     "output_type": "stream",
     "text": [
      "\r",
      " 80%|████████  | 322/400 [46:49<14:01, 10.78s/it]"
     ]
    },
    {
     "name": "stdout",
     "output_type": "stream",
     "text": [
      "0    1.653846\n",
      "Name: potDipole strength, dtype: float64\n",
      "estimated attractor dimension:  1.9628889963733118\n",
      "Filament behavior:  aperiodic\n",
      "Attribute not found\n"
     ]
    },
    {
     "name": "stderr",
     "output_type": "stream",
     "text": [
      "\r",
      " 81%|████████  | 323/400 [47:00<13:49, 10.78s/it]"
     ]
    },
    {
     "name": "stdout",
     "output_type": "stream",
     "text": [
      "0    1.653846\n",
      "Name: potDipole strength, dtype: float64\n",
      "estimated attractor dimension:  1.9732774111844302\n",
      "Filament behavior:  aperiodic\n",
      "Attribute not found\n"
     ]
    },
    {
     "name": "stderr",
     "output_type": "stream",
     "text": [
      "\r",
      " 81%|████████  | 324/400 [47:11<13:39, 10.78s/it]"
     ]
    },
    {
     "name": "stdout",
     "output_type": "stream",
     "text": [
      "0    1.653846\n",
      "Name: potDipole strength, dtype: float64\n",
      "estimated attractor dimension:  1.9725288517583388\n",
      "Filament behavior:  aperiodic\n",
      "Attribute not found\n"
     ]
    },
    {
     "name": "stderr",
     "output_type": "stream",
     "text": [
      "\r",
      " 81%|████████▏ | 325/400 [47:21<13:28, 10.78s/it]"
     ]
    },
    {
     "name": "stdout",
     "output_type": "stream",
     "text": [
      "0    1.653846\n",
      "Name: potDipole strength, dtype: float64\n",
      "estimated attractor dimension:  1.9618924461886715\n",
      "Filament behavior:  aperiodic\n",
      "Attribute not found\n"
     ]
    },
    {
     "name": "stderr",
     "output_type": "stream",
     "text": [
      "\r",
      " 82%|████████▏ | 326/400 [47:32<13:18, 10.79s/it]"
     ]
    },
    {
     "name": "stdout",
     "output_type": "stream",
     "text": [
      "0    1.653846\n",
      "Name: potDipole strength, dtype: float64\n",
      "estimated attractor dimension:  1.8970409166525002\n",
      "Filament behavior:  aperiodic\n",
      "Attribute not found\n"
     ]
    },
    {
     "name": "stderr",
     "output_type": "stream",
     "text": [
      "\r",
      " 82%|████████▏ | 327/400 [47:43<13:07, 10.79s/it]"
     ]
    },
    {
     "name": "stdout",
     "output_type": "stream",
     "text": [
      "0    1.653846\n",
      "Name: potDipole strength, dtype: float64\n",
      "estimated attractor dimension:  1.9618924461886715\n",
      "Filament behavior:  aperiodic\n",
      "Attribute not found\n"
     ]
    },
    {
     "name": "stderr",
     "output_type": "stream",
     "text": [
      "\r",
      " 82%|████████▏ | 328/400 [47:54<12:57, 10.80s/it]"
     ]
    },
    {
     "name": "stdout",
     "output_type": "stream",
     "text": [
      "0    1.653846\n",
      "Name: potDipole strength, dtype: float64\n",
      "estimated attractor dimension:  1.9214534624508874\n",
      "Filament behavior:  aperiodic\n",
      "Attribute not found\n"
     ]
    },
    {
     "name": "stderr",
     "output_type": "stream",
     "text": [
      "\r",
      " 82%|████████▏ | 329/400 [48:05<12:47, 10.81s/it]"
     ]
    },
    {
     "name": "stdout",
     "output_type": "stream",
     "text": [
      "0    1.653846\n",
      "Name: potDipole strength, dtype: float64\n",
      "estimated attractor dimension:  1.9712479223377655\n",
      "Filament behavior:  aperiodic\n",
      "Attribute not found\n"
     ]
    },
    {
     "name": "stderr",
     "output_type": "stream",
     "text": [
      "\r",
      " 82%|████████▎ | 330/400 [48:15<12:36, 10.80s/it]"
     ]
    },
    {
     "name": "stdout",
     "output_type": "stream",
     "text": [
      "0    1.653846\n",
      "Name: potDipole strength, dtype: float64\n",
      "estimated attractor dimension:  1.8918346438441036\n",
      "Filament behavior:  aperiodic\n",
      "Attribute not found\n"
     ]
    },
    {
     "name": "stderr",
     "output_type": "stream",
     "text": [
      "\r",
      " 83%|████████▎ | 331/400 [48:26<12:23, 10.78s/it]"
     ]
    },
    {
     "name": "stdout",
     "output_type": "stream",
     "text": [
      "0    1.910256\n",
      "Name: potDipole strength, dtype: float64\n",
      "estimated attractor dimension:  1.8085683842484466\n",
      "Filament behavior:  2n-period\n",
      "Attribute not found\n"
     ]
    },
    {
     "name": "stderr",
     "output_type": "stream",
     "text": [
      "\r",
      " 83%|████████▎ | 332/400 [48:37<12:12, 10.77s/it]"
     ]
    },
    {
     "name": "stdout",
     "output_type": "stream",
     "text": [
      "0    1.910256\n",
      "Name: potDipole strength, dtype: float64\n",
      "estimated attractor dimension:  1.9034725605346026\n",
      "Filament behavior:  2n-period\n",
      "Attribute not found\n"
     ]
    },
    {
     "name": "stderr",
     "output_type": "stream",
     "text": [
      "\r",
      " 83%|████████▎ | 333/400 [48:48<12:01, 10.77s/it]"
     ]
    },
    {
     "name": "stdout",
     "output_type": "stream",
     "text": [
      "0    1.910256\n",
      "Name: potDipole strength, dtype: float64\n",
      "estimated attractor dimension:  1.7954014461252823\n",
      "Filament behavior:  2n-period\n",
      "Attribute not found\n"
     ]
    },
    {
     "name": "stderr",
     "output_type": "stream",
     "text": [
      "\r",
      " 84%|████████▎ | 334/400 [48:58<11:50, 10.76s/it]"
     ]
    },
    {
     "name": "stdout",
     "output_type": "stream",
     "text": [
      "0    1.910256\n",
      "Name: potDipole strength, dtype: float64\n",
      "estimated attractor dimension:  1.8776976312995097\n",
      "Filament behavior:  2n-period\n",
      "Attribute not found\n"
     ]
    },
    {
     "name": "stderr",
     "output_type": "stream",
     "text": [
      "\r",
      " 84%|████████▍ | 335/400 [49:09<11:39, 10.77s/it]"
     ]
    },
    {
     "name": "stdout",
     "output_type": "stream",
     "text": [
      "0    1.910256\n",
      "Name: potDipole strength, dtype: float64\n",
      "estimated attractor dimension:  1.8688312130652516\n",
      "Filament behavior:  2n-period\n",
      "Attribute not found\n"
     ]
    },
    {
     "name": "stderr",
     "output_type": "stream",
     "text": [
      "\r",
      " 84%|████████▍ | 336/400 [49:20<11:28, 10.76s/it]"
     ]
    },
    {
     "name": "stdout",
     "output_type": "stream",
     "text": [
      "0    1.910256\n",
      "Name: potDipole strength, dtype: float64\n",
      "estimated attractor dimension:  1.8262170517040563\n",
      "Filament behavior:  2n-period\n",
      "Attribute not found\n"
     ]
    },
    {
     "name": "stderr",
     "output_type": "stream",
     "text": [
      "\r",
      " 84%|████████▍ | 337/400 [49:31<11:17, 10.76s/it]"
     ]
    },
    {
     "name": "stdout",
     "output_type": "stream",
     "text": [
      "0    1.910256\n",
      "Name: potDipole strength, dtype: float64\n",
      "estimated attractor dimension:  1.8641922417253793\n",
      "Filament behavior:  2n-period\n",
      "Attribute not found\n"
     ]
    },
    {
     "name": "stderr",
     "output_type": "stream",
     "text": [
      "\r",
      " 84%|████████▍ | 338/400 [49:41<11:06, 10.76s/it]"
     ]
    },
    {
     "name": "stdout",
     "output_type": "stream",
     "text": [
      "0    1.910256\n",
      "Name: potDipole strength, dtype: float64\n",
      "estimated attractor dimension:  1.8986229759354256\n",
      "Filament behavior:  2n-period\n",
      "Attribute not found\n"
     ]
    },
    {
     "name": "stderr",
     "output_type": "stream",
     "text": [
      "\r",
      " 85%|████████▍ | 339/400 [49:52<10:56, 10.76s/it]"
     ]
    },
    {
     "name": "stdout",
     "output_type": "stream",
     "text": [
      "0    1.910256\n",
      "Name: potDipole strength, dtype: float64\n",
      "estimated attractor dimension:  1.8982062358871354\n",
      "Filament behavior:  2n-period\n",
      "Attribute not found\n"
     ]
    },
    {
     "name": "stderr",
     "output_type": "stream",
     "text": [
      "\r",
      " 85%|████████▌ | 340/400 [50:03<10:45, 10.77s/it]"
     ]
    },
    {
     "name": "stdout",
     "output_type": "stream",
     "text": [
      "0    1.910256\n",
      "Name: potDipole strength, dtype: float64\n",
      "estimated attractor dimension:  1.8555772944523896\n",
      "Filament behavior:  2n-period\n",
      "Attribute not found\n",
      "Shape modes data not found!\n",
      "Attribute not found\n",
      "Shape modes data not found!\n",
      "Attribute not found\n",
      "Shape modes data not found!\n",
      "Attribute not found\n",
      "Shape modes data not found!\n",
      "Attribute not found\n"
     ]
    },
    {
     "name": "stderr",
     "output_type": "stream",
     "text": [
      "\r",
      " 86%|████████▋ | 345/400 [50:05<03:23,  3.69s/it]"
     ]
    },
    {
     "name": "stdout",
     "output_type": "stream",
     "text": [
      "0    2.74359\n",
      "Name: potDipole strength, dtype: float64\n",
      "estimated attractor dimension:  1.7234870083548826\n",
      "Filament behavior:  escape\n",
      "Attribute not found\n",
      "Shape modes data not found!\n",
      "Attribute not found\n",
      "Shape modes data not found!\n",
      "Attribute not found\n"
     ]
    },
    {
     "name": "stderr",
     "output_type": "stream",
     "text": [
      "\r",
      " 87%|████████▋ | 348/400 [50:16<03:10,  3.67s/it]"
     ]
    },
    {
     "name": "stdout",
     "output_type": "stream",
     "text": [
      "0    2.74359\n",
      "Name: potDipole strength, dtype: float64\n",
      "estimated attractor dimension:  1.8357664180457043\n",
      "Filament behavior:  aperiodic\n",
      "Attribute not found\n",
      "Shape modes data not found!\n",
      "Attribute not found\n",
      "Shape modes data not found!\n",
      "Attribute not found\n"
     ]
    },
    {
     "name": "stderr",
     "output_type": "stream",
     "text": [
      "\r",
      " 88%|████████▊ | 351/400 [50:27<02:58,  3.64s/it]"
     ]
    },
    {
     "name": "stdout",
     "output_type": "stream",
     "text": [
      "0    3.0\n",
      "Name: potDipole strength, dtype: float64\n",
      "estimated attractor dimension:  0.8916807723625992\n",
      "Filament behavior:  aperiodic\n",
      "Attribute not found\n"
     ]
    },
    {
     "name": "stderr",
     "output_type": "stream",
     "text": [
      "\r",
      " 88%|████████▊ | 352/400 [50:37<03:42,  4.64s/it]"
     ]
    },
    {
     "name": "stdout",
     "output_type": "stream",
     "text": [
      "0    3.0\n",
      "Name: potDipole strength, dtype: float64\n",
      "estimated attractor dimension:  0.7787056542766226\n",
      "Filament behavior:  aperiodic\n",
      "Attribute not found\n"
     ]
    },
    {
     "name": "stderr",
     "output_type": "stream",
     "text": [
      "\r",
      " 88%|████████▊ | 353/400 [50:48<04:26,  5.67s/it]"
     ]
    },
    {
     "name": "stdout",
     "output_type": "stream",
     "text": [
      "0    3.0\n",
      "Name: potDipole strength, dtype: float64\n",
      "estimated attractor dimension:  0.6747883429572471\n",
      "Filament behavior:  2n-period\n",
      "Attribute not found\n"
     ]
    },
    {
     "name": "stderr",
     "output_type": "stream",
     "text": [
      "\r",
      " 88%|████████▊ | 354/400 [50:59<05:06,  6.66s/it]"
     ]
    },
    {
     "name": "stdout",
     "output_type": "stream",
     "text": [
      "0    3.0\n",
      "Name: potDipole strength, dtype: float64\n",
      "estimated attractor dimension:  1.038553845636138\n",
      "Filament behavior:  aperiodic\n",
      "Attribute not found\n"
     ]
    },
    {
     "name": "stderr",
     "output_type": "stream",
     "text": [
      "\r",
      " 89%|████████▉ | 355/400 [51:10<05:39,  7.55s/it]"
     ]
    },
    {
     "name": "stdout",
     "output_type": "stream",
     "text": [
      "0    3.0\n",
      "Name: potDipole strength, dtype: float64\n",
      "estimated attractor dimension:  1.038553845636138\n",
      "Filament behavior:  aperiodic\n",
      "Attribute not found\n"
     ]
    },
    {
     "name": "stderr",
     "output_type": "stream",
     "text": [
      "\r",
      " 89%|████████▉ | 356/400 [51:20<06:05,  8.30s/it]"
     ]
    },
    {
     "name": "stdout",
     "output_type": "stream",
     "text": [
      "0    3.0\n",
      "Name: potDipole strength, dtype: float64\n",
      "estimated attractor dimension:  0.840443926690783\n",
      "Filament behavior:  2n-period\n",
      "Attribute not found\n"
     ]
    },
    {
     "name": "stderr",
     "output_type": "stream",
     "text": [
      "\r",
      " 89%|████████▉ | 357/400 [51:31<06:23,  8.92s/it]"
     ]
    },
    {
     "name": "stdout",
     "output_type": "stream",
     "text": [
      "0    3.0\n",
      "Name: potDipole strength, dtype: float64\n",
      "estimated attractor dimension:  0.6819888273142546\n",
      "Filament behavior:  2n-period\n",
      "Attribute not found\n"
     ]
    },
    {
     "name": "stderr",
     "output_type": "stream",
     "text": [
      "\r",
      " 90%|████████▉ | 358/400 [51:42<06:34,  9.40s/it]"
     ]
    },
    {
     "name": "stdout",
     "output_type": "stream",
     "text": [
      "0    3.0\n",
      "Name: potDipole strength, dtype: float64\n",
      "estimated attractor dimension:  0.8843009592541162\n",
      "Filament behavior:  2n-period\n",
      "Attribute not found\n"
     ]
    },
    {
     "name": "stderr",
     "output_type": "stream",
     "text": [
      "\r",
      " 90%|████████▉ | 359/400 [51:53<06:40,  9.77s/it]"
     ]
    },
    {
     "name": "stdout",
     "output_type": "stream",
     "text": [
      "0    3.0\n",
      "Name: potDipole strength, dtype: float64\n",
      "estimated attractor dimension:  0.7787056542766226\n",
      "Filament behavior:  aperiodic\n",
      "Attribute not found\n"
     ]
    },
    {
     "name": "stderr",
     "output_type": "stream",
     "text": [
      "\r",
      " 90%|█████████ | 360/400 [52:03<06:41, 10.04s/it]"
     ]
    },
    {
     "name": "stdout",
     "output_type": "stream",
     "text": [
      "0    3.0\n",
      "Name: potDipole strength, dtype: float64\n",
      "estimated attractor dimension:  1.0688843400726011\n",
      "Filament behavior:  2n-period\n",
      "Attribute not found\n",
      "Shape modes data not found!\n",
      "Attribute not found\n",
      "Shape modes data not found!\n",
      "Attribute not found\n",
      "Shape modes data not found!\n",
      "Attribute not found\n",
      "Shape modes data not found!\n",
      "Attribute not found\n",
      "Shape modes data not found!\n",
      "Attribute not found\n",
      "Shape modes data not found!\n",
      "Attribute not found\n",
      "Shape modes data not found!\n",
      "Attribute not found\n",
      "Shape modes data not found!\n",
      "Attribute not found\n",
      "Shape modes data not found!\n",
      "Attribute not found\n",
      "Shape modes data not found!\n",
      "Attribute not found\n"
     ]
    },
    {
     "name": "stderr",
     "output_type": "stream",
     "text": [
      "\r",
      " 93%|█████████▎| 371/400 [52:15<01:17,  2.69s/it]"
     ]
    },
    {
     "name": "stdout",
     "output_type": "stream",
     "text": [
      "0    0.628205\n",
      "Name: potDipole strength, dtype: float64\n",
      "estimated attractor dimension:  0.0\n",
      "Filament behavior:  1-period\n",
      "Attribute not found\n"
     ]
    },
    {
     "name": "stderr",
     "output_type": "stream",
     "text": [
      "\r",
      " 93%|█████████▎| 372/400 [52:26<01:38,  3.51s/it]"
     ]
    },
    {
     "name": "stdout",
     "output_type": "stream",
     "text": [
      "0    0.628205\n",
      "Name: potDipole strength, dtype: float64\n",
      "estimated attractor dimension:  0.0\n",
      "Filament behavior:  1-period\n",
      "Attribute not found\n"
     ]
    },
    {
     "name": "stderr",
     "output_type": "stream",
     "text": [
      "\r",
      " 93%|█████████▎| 373/400 [52:37<01:59,  4.43s/it]"
     ]
    },
    {
     "name": "stdout",
     "output_type": "stream",
     "text": [
      "0    0.628205\n",
      "Name: potDipole strength, dtype: float64\n",
      "estimated attractor dimension:  0.0\n",
      "Filament behavior:  1-period\n",
      "Attribute not found\n"
     ]
    },
    {
     "name": "stderr",
     "output_type": "stream",
     "text": [
      "\r",
      " 94%|█████████▎| 374/400 [52:48<02:21,  5.44s/it]"
     ]
    },
    {
     "name": "stdout",
     "output_type": "stream",
     "text": [
      "0    0.628205\n",
      "Name: potDipole strength, dtype: float64\n",
      "estimated attractor dimension:  0.0\n",
      "Filament behavior:  1-period\n",
      "Attribute not found\n"
     ]
    },
    {
     "name": "stderr",
     "output_type": "stream",
     "text": [
      "\r",
      " 94%|█████████▍| 375/400 [53:00<02:41,  6.47s/it]"
     ]
    },
    {
     "name": "stdout",
     "output_type": "stream",
     "text": [
      "0    0.628205\n",
      "Name: potDipole strength, dtype: float64\n",
      "estimated attractor dimension:  0.0\n",
      "Filament behavior:  1-period\n",
      "Attribute not found\n"
     ]
    },
    {
     "name": "stderr",
     "output_type": "stream",
     "text": [
      "\r",
      " 94%|█████████▍| 376/400 [53:11<02:57,  7.41s/it]"
     ]
    },
    {
     "name": "stdout",
     "output_type": "stream",
     "text": [
      "0    0.628205\n",
      "Name: potDipole strength, dtype: float64\n",
      "estimated attractor dimension:  0.0\n",
      "Filament behavior:  1-period\n",
      "Attribute not found\n"
     ]
    },
    {
     "name": "stderr",
     "output_type": "stream",
     "text": [
      "\r",
      " 94%|█████████▍| 377/400 [53:22<03:10,  8.26s/it]"
     ]
    },
    {
     "name": "stdout",
     "output_type": "stream",
     "text": [
      "0    0.628205\n",
      "Name: potDipole strength, dtype: float64\n",
      "estimated attractor dimension:  0.0\n",
      "Filament behavior:  1-period\n",
      "Attribute not found\n"
     ]
    },
    {
     "name": "stderr",
     "output_type": "stream",
     "text": [
      "\r",
      " 94%|█████████▍| 378/400 [53:33<03:17,  8.97s/it]"
     ]
    },
    {
     "name": "stdout",
     "output_type": "stream",
     "text": [
      "0    0.628205\n",
      "Name: potDipole strength, dtype: float64\n",
      "estimated attractor dimension:  0.0\n",
      "Filament behavior:  1-period\n",
      "Attribute not found\n"
     ]
    },
    {
     "name": "stderr",
     "output_type": "stream",
     "text": [
      "\r",
      " 95%|█████████▍| 379/400 [53:45<03:20,  9.53s/it]"
     ]
    },
    {
     "name": "stdout",
     "output_type": "stream",
     "text": [
      "0    0.628205\n",
      "Name: potDipole strength, dtype: float64\n",
      "estimated attractor dimension:  0.0\n",
      "Filament behavior:  1-period\n",
      "Attribute not found\n"
     ]
    },
    {
     "name": "stderr",
     "output_type": "stream",
     "text": [
      "\r",
      " 95%|█████████▌| 380/400 [53:56<03:20, 10.00s/it]"
     ]
    },
    {
     "name": "stdout",
     "output_type": "stream",
     "text": [
      "0    0.628205\n",
      "Name: potDipole strength, dtype: float64\n",
      "estimated attractor dimension:  0.0\n",
      "Filament behavior:  1-period\n",
      "Attribute not found\n"
     ]
    },
    {
     "name": "stderr",
     "output_type": "stream",
     "text": [
      "\r",
      " 95%|█████████▌| 381/400 [54:07<03:14, 10.25s/it]"
     ]
    },
    {
     "name": "stdout",
     "output_type": "stream",
     "text": [
      "0    2.615385\n",
      "Name: potDipole strength, dtype: float64\n",
      "estimated attractor dimension:  1.8755549006601542\n",
      "Filament behavior:  aperiodic\n",
      "Attribute not found\n"
     ]
    },
    {
     "name": "stderr",
     "output_type": "stream",
     "text": [
      "\r",
      " 96%|█████████▌| 382/400 [54:18<03:07, 10.42s/it]"
     ]
    },
    {
     "name": "stdout",
     "output_type": "stream",
     "text": [
      "0    2.615385\n",
      "Name: potDipole strength, dtype: float64\n",
      "estimated attractor dimension:  1.875776830794616\n",
      "Filament behavior:  aperiodic\n",
      "Attribute not found\n"
     ]
    },
    {
     "name": "stderr",
     "output_type": "stream",
     "text": [
      "\r",
      " 96%|█████████▌| 383/400 [54:29<02:59, 10.55s/it]"
     ]
    },
    {
     "name": "stdout",
     "output_type": "stream",
     "text": [
      "0    2.615385\n",
      "Name: potDipole strength, dtype: float64\n",
      "estimated attractor dimension:  1.8432950602009552\n",
      "Filament behavior:  aperiodic\n",
      "Attribute not found\n"
     ]
    },
    {
     "name": "stderr",
     "output_type": "stream",
     "text": [
      "\r",
      " 96%|█████████▌| 384/400 [54:39<02:50, 10.63s/it]"
     ]
    },
    {
     "name": "stdout",
     "output_type": "stream",
     "text": [
      "0    2.615385\n",
      "Name: potDipole strength, dtype: float64\n",
      "estimated attractor dimension:  1.8167710936393657\n",
      "Filament behavior:  aperiodic\n",
      "Attribute not found\n"
     ]
    },
    {
     "name": "stderr",
     "output_type": "stream",
     "text": [
      "\r",
      " 96%|█████████▋| 385/400 [54:50<02:40, 10.69s/it]"
     ]
    },
    {
     "name": "stdout",
     "output_type": "stream",
     "text": [
      "0    2.615385\n",
      "Name: potDipole strength, dtype: float64\n",
      "estimated attractor dimension:  1.8167710936393657\n",
      "Filament behavior:  aperiodic\n",
      "Attribute not found\n"
     ]
    },
    {
     "name": "stderr",
     "output_type": "stream",
     "text": [
      "\r",
      " 96%|█████████▋| 386/400 [55:01<02:29, 10.70s/it]"
     ]
    },
    {
     "name": "stdout",
     "output_type": "stream",
     "text": [
      "0    2.615385\n",
      "Name: potDipole strength, dtype: float64\n",
      "estimated attractor dimension:  1.3312639165189797\n",
      "Filament behavior:  1-period\n",
      "Attribute not found\n"
     ]
    },
    {
     "name": "stderr",
     "output_type": "stream",
     "text": [
      "\r",
      " 97%|█████████▋| 387/400 [55:12<02:19, 10.74s/it]"
     ]
    },
    {
     "name": "stdout",
     "output_type": "stream",
     "text": [
      "0    2.615385\n",
      "Name: potDipole strength, dtype: float64\n",
      "estimated attractor dimension:  1.825092855152984\n",
      "Filament behavior:  aperiodic\n",
      "Attribute not found\n"
     ]
    },
    {
     "name": "stderr",
     "output_type": "stream",
     "text": [
      "\r",
      " 97%|█████████▋| 388/400 [55:23<02:09, 10.76s/it]"
     ]
    },
    {
     "name": "stdout",
     "output_type": "stream",
     "text": [
      "0    2.615385\n",
      "Name: potDipole strength, dtype: float64\n",
      "estimated attractor dimension:  1.1791529139579768\n",
      "Filament behavior:  1-period\n",
      "Attribute not found\n"
     ]
    },
    {
     "name": "stderr",
     "output_type": "stream",
     "text": [
      "\r",
      " 97%|█████████▋| 389/400 [55:33<01:58, 10.76s/it]"
     ]
    },
    {
     "name": "stdout",
     "output_type": "stream",
     "text": [
      "0    2.615385\n",
      "Name: potDipole strength, dtype: float64\n",
      "estimated attractor dimension:  1.232632599948223\n",
      "Filament behavior:  1-period\n",
      "Attribute not found\n"
     ]
    },
    {
     "name": "stderr",
     "output_type": "stream",
     "text": [
      "100%|██████████| 400/400 [55:44<00:00,  8.36s/it]"
     ]
    },
    {
     "name": "stdout",
     "output_type": "stream",
     "text": [
      "0    2.615385\n",
      "Name: potDipole strength, dtype: float64\n",
      "estimated attractor dimension:  1.7915062938891628\n",
      "Filament behavior:  aperiodic\n",
      "Attribute not found\n",
      "Shape modes data not found!\n",
      "Attribute not found\n",
      "Shape modes data not found!\n",
      "Attribute not found\n",
      "Shape modes data not found!\n",
      "Attribute not found\n",
      "Shape modes data not found!\n",
      "Attribute not found\n",
      "Shape modes data not found!\n",
      "Attribute not found\n",
      "Shape modes data not found!\n",
      "Attribute not found\n",
      "Shape modes data not found!\n",
      "Attribute not found\n",
      "Shape modes data not found!\n",
      "Attribute not found\n",
      "Shape modes data not found!\n",
      "Attribute not found\n",
      "Shape modes data not found!\n"
     ]
    },
    {
     "name": "stderr",
     "output_type": "stream",
     "text": [
      "\n"
     ]
    }
   ],
   "source": [
    "for file in tqdm(full_path_list):\n",
    "  \n",
    "    estimate_attractor_dimension(file)\n",
    "    \n",
    " \n",
    "        \n",
    "        \n",
    "        \n",
    "        \n",
    "    \n",
    "    \n",
    "\n"
   ]
  },
  {
   "cell_type": "code",
   "execution_count": null,
   "id": "absolute-language",
   "metadata": {},
   "outputs": [],
   "source": []
  }
 ],
 "metadata": {
  "kernelspec": {
   "display_name": "Python 3",
   "language": "python",
   "name": "python3"
  },
  "language_info": {
   "codemirror_mode": {
    "name": "ipython",
    "version": 3
   },
   "file_extension": ".py",
   "mimetype": "text/x-python",
   "name": "python",
   "nbconvert_exporter": "python",
   "pygments_lexer": "ipython3",
   "version": "3.6.10"
  }
 },
 "nbformat": 4,
 "nbformat_minor": 5
}
