{
 "cells": [
  {
   "cell_type": "markdown",
   "id": "later-irrigation",
   "metadata": {},
   "source": [
    "# Shape Mode Decomposition-Batch Analysis\n",
    "\n",
    "Use this notebook to calculate the following for a batch of simulations\n",
    "\n",
    "Results:\n",
    "- Filament shape modes\n",
    "- Mode amplitude of the filament for each shape mode vs time\n",
    "- PCA dimensionality estimate using participation ratio"
   ]
  },
  {
   "cell_type": "code",
   "execution_count": 6,
   "id": "magnetic-carroll",
   "metadata": {},
   "outputs": [],
   "source": [
    "import sys\n",
    "if 'init_modules' in globals().keys():\n",
    "    # second or subsequent run: remove all but initially loaded modules\n",
    "    for m in sys.modules.keys():\n",
    "        if m not in init_modules:\n",
    "            del(sys.modules[m])\n",
    "else:\n",
    "    # first run: find out which modules were initially loaded\n",
    "    init_modules = sys.modules.keys()\n",
    "    \n",
    "import numpy as np\n",
    "from scipy import signal\n",
    "from scipy import interpolate\n",
    "import matplotlib.pyplot as plt \n",
    "import seaborn as sns\n",
    "from scipy import interpolate\n",
    "\n",
    "import os\n",
    "import pyfilaments.analysisutils as analysis\n",
    "import imp\n",
    "imp.reload(analysis)\n",
    "%matplotlib notebook\n",
    "plt.close('all')\n",
    "\n",
    "# Figure parameters\n",
    "from matplotlib import rcParams\n",
    "from matplotlib import rc\n",
    "from matplotlib import cm\n",
    "from tqdm import tqdm\n",
    "\n",
    "rc('font', family='sans-serif') \n",
    "rc('font', serif='Helvetica') \n",
    "rc('text', usetex='false') \n",
    "rcParams.update({'font.size': 12})\n",
    "\n",
    "from joblib import Parallel, delayed\n",
    "import multiprocessing"
   ]
  },
  {
   "cell_type": "code",
   "execution_count": 7,
   "id": "focused-dealer",
   "metadata": {},
   "outputs": [
    {
     "name": "stdout",
     "output_type": "stream",
     "text": [
      "40\n"
     ]
    }
   ],
   "source": [
    "# batch_data_folder = '/home/deepak/ActiveFilamentsSearch_backup_3/ModellingResults/Analysis_test'\n",
    "\n",
    "batch_data_folder = '/home/deepak/ActiveFilamentsSearch_backup_3/ActivityStrengthSweep_widerICS_FINAL_2021-12-23'\n",
    "\n",
    "# batch_data_folder = '/home/deepak/ActiveFilamentsSearch_backup_3/ActivityStrengthSweeps_diffActivityTimeScales_FINAL/activityTime_750'\n",
    "\n",
    "data_folders = os.listdir(batch_data_folder)\n",
    "\n",
    "print(len(data_folders))"
   ]
  },
  {
   "cell_type": "code",
   "execution_count": 8,
   "id": "worthy-zimbabwe",
   "metadata": {},
   "outputs": [
    {
     "name": "stderr",
     "output_type": "stream",
     "text": [
      "100%|██████████| 40/40 [00:00<00:00, 5416.90it/s]"
     ]
    },
    {
     "name": "stdout",
     "output_type": "stream",
     "text": [
      "400\n"
     ]
    },
    {
     "name": "stderr",
     "output_type": "stream",
     "text": [
      "\n"
     ]
    }
   ],
   "source": [
    "# Batch analysis\n",
    "\n",
    "# Create file list\n",
    "\n",
    "full_path_list = []\n",
    "\n",
    "for folder in tqdm(data_folders):\n",
    "    \n",
    "    cwd = os.path.join(batch_data_folder, folder)\n",
    "\n",
    "    files = [file for file in os.listdir(cwd) if file.endswith('.hdf5') ]\n",
    "    \n",
    "    \n",
    "    for file in files:\n",
    "        \n",
    "        full_path_list.append(os.path.join(cwd, file))\n",
    "        \n",
    "\n",
    "print(len(full_path_list))\n",
    "\n"
   ]
  },
  {
   "cell_type": "code",
   "execution_count": 9,
   "id": "accredited-account",
   "metadata": {},
   "outputs": [],
   "source": [
    "plt.close('all')\n",
    "\n",
    "\n",
    "def run_pca(full_path = None):\n",
    "\n",
    "        fil = analysis.analysisTools(file = full_path)\n",
    "\n",
    "        ic_analysis_folder = os.path.join(fil.rootFolder, 'IC_analysis')\n",
    "\n",
    "        fil.ic_analysis_folder = ic_analysis_folder\n",
    "        \n",
    "        print(fil.Time[-1])\n",
    "\n",
    "        if(fil.Time[-1] >= 250*fil.activity_timescale):\n",
    "            # Completed simulation found.\n",
    "            # Run the PCA analysis\n",
    "            \n",
    "            print('completed simulation data found!')\n",
    "            # Compute tangent angle matrix\n",
    "            fil.compute_tangent_angle_matrix()\n",
    "\n",
    "            # Neglect transients\n",
    "            start_cycle = 100 # Ignore the first 100 cycles to remove transients\n",
    "\n",
    "            start_time = start_cycle*fil.activity_timescale\n",
    "\n",
    "            start_index = next((i for i,x in enumerate(fil.Time) if x>= start_time), 0)\n",
    "\n",
    "            # Ignore the transients in the simulation\n",
    "            fil.tangent_angles_matrix = fil.tangent_angles_matrix[start_index:,:]\n",
    "\n",
    "\n",
    "            # Compute the shape Covariance matrix\n",
    "            fil.compute_shape_covariance_matrix()\n",
    "\n",
    "            # Eigen-decomposition of the covariance matrix\n",
    "            d_sig, eigenvectors_sig, d_normalized =\\\n",
    "            fil.matrix_eigen_decomposition(matrix = fil.covariance_matrix)\n",
    "\n",
    "            # PCA dimension based on partcipation ratio\n",
    "            pca_dim = fil.compute_participation_ratio()\n",
    "            \n",
    "            print(pca_dim)\n",
    "\n",
    "            # Save the eigenvectors\n",
    "            fil.save_eigenvectors()\n",
    "\n",
    "#             fil.plot_shape_modes(save = False)\n",
    "            fil.project_filament_shapes()\n",
    "            fil.save_mode_amplitudes()\n",
    "\n",
    "\n",
    "            found_completed_sim = True\n",
    "\n",
    "        "
   ]
  },
  {
   "cell_type": "code",
   "execution_count": 10,
   "id": "contrary-personal",
   "metadata": {},
   "outputs": [
    {
     "name": "stderr",
     "output_type": "stream",
     "text": [
      "[Parallel(n_jobs=12)]: Using backend LokyBackend with 12 concurrent workers.\n",
      "[Parallel(n_jobs=12)]: Done   1 tasks      | elapsed:   10.3s\n",
      "[Parallel(n_jobs=12)]: Done   8 tasks      | elapsed:   13.2s\n",
      "[Parallel(n_jobs=12)]: Done  17 tasks      | elapsed:   24.3s\n",
      "[Parallel(n_jobs=12)]: Done  26 tasks      | elapsed:   30.0s\n",
      "[Parallel(n_jobs=12)]: Done  37 tasks      | elapsed:   36.2s\n",
      "[Parallel(n_jobs=12)]: Done  48 tasks      | elapsed:   43.8s\n",
      "[Parallel(n_jobs=12)]: Done  61 tasks      | elapsed:   54.4s\n",
      "[Parallel(n_jobs=12)]: Done  74 tasks      | elapsed:  1.1min\n",
      "[Parallel(n_jobs=12)]: Done  89 tasks      | elapsed:  1.2min\n",
      "[Parallel(n_jobs=12)]: Done 104 tasks      | elapsed:  1.5min\n",
      "[Parallel(n_jobs=12)]: Done 121 tasks      | elapsed:  1.8min\n",
      "[Parallel(n_jobs=12)]: Done 138 tasks      | elapsed:  2.0min\n",
      "[Parallel(n_jobs=12)]: Done 157 tasks      | elapsed:  2.2min\n",
      "[Parallel(n_jobs=12)]: Done 176 tasks      | elapsed:  2.4min\n",
      "[Parallel(n_jobs=12)]: Done 197 tasks      | elapsed:  2.7min\n",
      "[Parallel(n_jobs=12)]: Done 218 tasks      | elapsed:  3.1min\n",
      "[Parallel(n_jobs=12)]: Done 241 tasks      | elapsed:  3.4min\n",
      "[Parallel(n_jobs=12)]: Done 264 tasks      | elapsed:  3.5min\n",
      "[Parallel(n_jobs=12)]: Done 289 tasks      | elapsed:  3.7min\n",
      "[Parallel(n_jobs=12)]: Done 314 tasks      | elapsed:  4.2min\n",
      "[Parallel(n_jobs=12)]: Done 341 tasks      | elapsed:  4.4min\n",
      "[Parallel(n_jobs=12)]: Done 368 tasks      | elapsed:  4.7min\n",
      "[Parallel(n_jobs=12)]: Done 400 out of 400 | elapsed:  5.0min finished\n"
     ]
    }
   ],
   "source": [
    "num_cores = multiprocessing.cpu_count()\n",
    "\n",
    "num_cores = 12\n",
    "\n",
    "results = Parallel(n_jobs=num_cores, verbose=10)(delayed(run_pca)(file) for file in full_path_list)\n"
   ]
  },
  {
   "cell_type": "code",
   "execution_count": 7,
   "id": "incredible-austin",
   "metadata": {},
   "outputs": [
    {
     "name": "stderr",
     "output_type": "stream",
     "text": [
      "\r",
      "  0%|          | 0/60 [00:00<?, ?it/s]"
     ]
    },
    {
     "name": "stdout",
     "output_type": "stream",
     "text": [
      "187500.0\n",
      "completed simulation data found!\n"
     ]
    },
    {
     "name": "stderr",
     "output_type": "stream",
     "text": [
      "\r",
      "  2%|▏         | 1/60 [00:03<03:13,  3.27s/it]"
     ]
    },
    {
     "name": "stdout",
     "output_type": "stream",
     "text": [
      "No:of spatial points: 100\n",
      "No:of time points: 22501\n",
      "(22501, 100)\n",
      "(22501, 100)\n",
      "No:of eigenvalues to explain 95 perc of variance: 3\n",
      "1.9896095767834021\n",
      "187500.0\n",
      "completed simulation data found!\n"
     ]
    },
    {
     "name": "stderr",
     "output_type": "stream",
     "text": [
      "\r",
      "  3%|▎         | 2/60 [00:06<03:10,  3.29s/it]"
     ]
    },
    {
     "name": "stdout",
     "output_type": "stream",
     "text": [
      "No:of spatial points: 100\n",
      "No:of time points: 22501\n",
      "(22501, 100)\n",
      "(22501, 100)\n",
      "No:of eigenvalues to explain 95 perc of variance: 3\n",
      "1.9896057599960786\n",
      "187500.0\n",
      "completed simulation data found!\n"
     ]
    },
    {
     "name": "stderr",
     "output_type": "stream",
     "text": [
      "\r",
      "  5%|▌         | 3/60 [00:09<03:09,  3.32s/it]"
     ]
    },
    {
     "name": "stdout",
     "output_type": "stream",
     "text": [
      "No:of spatial points: 100\n",
      "No:of time points: 22501\n",
      "(22501, 100)\n",
      "(22501, 100)\n",
      "No:of eigenvalues to explain 95 perc of variance: 3\n",
      "1.9896072926958972\n",
      "11925.0\n",
      "21590.0\n",
      "4385.0\n",
      "187500.0\n",
      "completed simulation data found!\n"
     ]
    },
    {
     "name": "stderr",
     "output_type": "stream",
     "text": [
      "\r",
      " 12%|█▏        | 7/60 [00:13<01:21,  1.53s/it]"
     ]
    },
    {
     "name": "stdout",
     "output_type": "stream",
     "text": [
      "No:of spatial points: 100\n",
      "No:of time points: 22501\n",
      "(22501, 100)\n",
      "(22501, 100)\n",
      "No:of eigenvalues to explain 95 perc of variance: 3\n",
      "1.7848407353560405\n",
      "187500.0\n",
      "completed simulation data found!\n"
     ]
    },
    {
     "name": "stderr",
     "output_type": "stream",
     "text": [
      "\r",
      " 13%|█▎        | 8/60 [00:16<01:38,  1.90s/it]"
     ]
    },
    {
     "name": "stdout",
     "output_type": "stream",
     "text": [
      "No:of spatial points: 100\n",
      "No:of time points: 22501\n",
      "(22501, 100)\n",
      "(22501, 100)\n",
      "No:of eigenvalues to explain 95 perc of variance: 3\n",
      "1.789739137708847\n",
      "187500.0\n",
      "completed simulation data found!\n"
     ]
    },
    {
     "name": "stderr",
     "output_type": "stream",
     "text": [
      "\r",
      " 15%|█▌        | 9/60 [00:19<01:53,  2.23s/it]"
     ]
    },
    {
     "name": "stdout",
     "output_type": "stream",
     "text": [
      "No:of spatial points: 100\n",
      "No:of time points: 22501\n",
      "(22501, 100)\n",
      "(22501, 100)\n",
      "No:of eigenvalues to explain 95 perc of variance: 3\n",
      "1.7762426582228288\n",
      "187500.0\n",
      "completed simulation data found!\n"
     ]
    },
    {
     "name": "stderr",
     "output_type": "stream",
     "text": [
      "\r",
      " 17%|█▋        | 10/60 [00:23<02:04,  2.48s/it]"
     ]
    },
    {
     "name": "stdout",
     "output_type": "stream",
     "text": [
      "No:of spatial points: 100\n",
      "No:of time points: 22501\n",
      "(22501, 100)\n",
      "(22501, 100)\n",
      "No:of eigenvalues to explain 95 perc of variance: 3\n",
      "1.693655540161482\n",
      "187500.0\n",
      "completed simulation data found!\n"
     ]
    },
    {
     "name": "stderr",
     "output_type": "stream",
     "text": [
      "\r",
      " 18%|█▊        | 11/60 [00:26<02:12,  2.70s/it]"
     ]
    },
    {
     "name": "stdout",
     "output_type": "stream",
     "text": [
      "No:of spatial points: 100\n",
      "No:of time points: 22501\n",
      "(22501, 100)\n",
      "(22501, 100)\n",
      "No:of eigenvalues to explain 95 perc of variance: 3\n",
      "1.779529515554481\n",
      "187500.0\n",
      "completed simulation data found!\n"
     ]
    },
    {
     "name": "stderr",
     "output_type": "stream",
     "text": [
      "\r",
      " 20%|██        | 12/60 [00:29<02:16,  2.85s/it]"
     ]
    },
    {
     "name": "stdout",
     "output_type": "stream",
     "text": [
      "No:of spatial points: 100\n",
      "No:of time points: 22501\n",
      "(22501, 100)\n",
      "(22501, 100)\n",
      "No:of eigenvalues to explain 95 perc of variance: 3\n",
      "1.7661077575572242\n",
      "9690.0\n",
      "16435.0\n",
      "14940.0\n",
      "187500.0\n",
      "completed simulation data found!\n"
     ]
    },
    {
     "name": "stderr",
     "output_type": "stream",
     "text": [
      "\r",
      " 27%|██▋       | 16/60 [00:33<01:11,  1.63s/it]"
     ]
    },
    {
     "name": "stdout",
     "output_type": "stream",
     "text": [
      "No:of spatial points: 100\n",
      "No:of time points: 22501\n",
      "(22501, 100)\n",
      "(22501, 100)\n",
      "No:of eigenvalues to explain 95 perc of variance: 3\n",
      "1.667002173465426\n",
      "187500.0\n",
      "completed simulation data found!\n"
     ]
    },
    {
     "name": "stderr",
     "output_type": "stream",
     "text": [
      "\r",
      " 28%|██▊       | 17/60 [00:36<01:22,  1.93s/it]"
     ]
    },
    {
     "name": "stdout",
     "output_type": "stream",
     "text": [
      "No:of spatial points: 100\n",
      "No:of time points: 22501\n",
      "(22501, 100)\n",
      "(22501, 100)\n",
      "No:of eigenvalues to explain 95 perc of variance: 3\n",
      "1.7176399801301632\n",
      "187500.0\n",
      "completed simulation data found!\n"
     ]
    },
    {
     "name": "stderr",
     "output_type": "stream",
     "text": [
      "\r",
      " 30%|███       | 18/60 [00:39<01:32,  2.21s/it]"
     ]
    },
    {
     "name": "stdout",
     "output_type": "stream",
     "text": [
      "No:of spatial points: 100\n",
      "No:of time points: 22501\n",
      "(22501, 100)\n",
      "(22501, 100)\n",
      "No:of eigenvalues to explain 95 perc of variance: 3\n",
      "1.759371711943269\n",
      "187500.0\n",
      "completed simulation data found!\n"
     ]
    },
    {
     "name": "stderr",
     "output_type": "stream",
     "text": [
      "\r",
      " 32%|███▏      | 19/60 [00:43<01:40,  2.46s/it]"
     ]
    },
    {
     "name": "stdout",
     "output_type": "stream",
     "text": [
      "No:of spatial points: 100\n",
      "No:of time points: 22501\n",
      "(22501, 100)\n",
      "(22501, 100)\n",
      "No:of eigenvalues to explain 95 perc of variance: 5\n",
      "3.8401294722397843\n",
      "187500.0\n",
      "completed simulation data found!\n"
     ]
    },
    {
     "name": "stderr",
     "output_type": "stream",
     "text": [
      "\r",
      " 33%|███▎      | 20/60 [00:46<01:46,  2.67s/it]"
     ]
    },
    {
     "name": "stdout",
     "output_type": "stream",
     "text": [
      "No:of spatial points: 100\n",
      "No:of time points: 22501\n",
      "(22501, 100)\n",
      "(22501, 100)\n",
      "No:of eigenvalues to explain 95 perc of variance: 5\n",
      "3.84012929453255\n",
      "187500.0\n",
      "completed simulation data found!\n"
     ]
    },
    {
     "name": "stderr",
     "output_type": "stream",
     "text": [
      "\r",
      " 35%|███▌      | 21/60 [00:49<01:50,  2.84s/it]"
     ]
    },
    {
     "name": "stdout",
     "output_type": "stream",
     "text": [
      "No:of spatial points: 100\n",
      "No:of time points: 22501\n",
      "(22501, 100)\n",
      "(22501, 100)\n",
      "No:of eigenvalues to explain 95 perc of variance: 5\n",
      "3.840130271409342\n",
      "187500.0\n",
      "completed simulation data found!\n"
     ]
    },
    {
     "name": "stderr",
     "output_type": "stream",
     "text": [
      "\r",
      " 37%|███▋      | 22/60 [00:53<01:52,  2.95s/it]"
     ]
    },
    {
     "name": "stdout",
     "output_type": "stream",
     "text": [
      "No:of spatial points: 100\n",
      "No:of time points: 22501\n",
      "(22501, 100)\n",
      "(22501, 100)\n",
      "No:of eigenvalues to explain 95 perc of variance: 3\n",
      "1.7769931865116424\n",
      "187500.0\n",
      "completed simulation data found!\n"
     ]
    },
    {
     "name": "stderr",
     "output_type": "stream",
     "text": [
      "\r",
      " 38%|███▊      | 23/60 [00:56<01:53,  3.06s/it]"
     ]
    },
    {
     "name": "stdout",
     "output_type": "stream",
     "text": [
      "No:of spatial points: 100\n",
      "No:of time points: 22501\n",
      "(22501, 100)\n",
      "(22501, 100)\n",
      "No:of eigenvalues to explain 95 perc of variance: 2\n",
      "1.7621059168902726\n",
      "187500.0\n",
      "completed simulation data found!\n"
     ]
    },
    {
     "name": "stderr",
     "output_type": "stream",
     "text": [
      "\r",
      " 40%|████      | 24/60 [00:59<01:52,  3.13s/it]"
     ]
    },
    {
     "name": "stdout",
     "output_type": "stream",
     "text": [
      "No:of spatial points: 100\n",
      "No:of time points: 22501\n",
      "(22501, 100)\n",
      "(22501, 100)\n",
      "No:of eigenvalues to explain 95 perc of variance: 3\n",
      "1.7935983383291119\n",
      "187500.0\n",
      "completed simulation data found!\n"
     ]
    },
    {
     "name": "stderr",
     "output_type": "stream",
     "text": [
      "\r",
      " 42%|████▏     | 25/60 [01:03<01:52,  3.22s/it]"
     ]
    },
    {
     "name": "stdout",
     "output_type": "stream",
     "text": [
      "No:of spatial points: 100\n",
      "No:of time points: 22501\n",
      "(22501, 100)\n",
      "(22501, 100)\n",
      "No:of eigenvalues to explain 95 perc of variance: 4\n",
      "2.5989466533083347\n",
      "187500.0\n",
      "completed simulation data found!\n"
     ]
    },
    {
     "name": "stderr",
     "output_type": "stream",
     "text": [
      "\r",
      " 43%|████▎     | 26/60 [01:06<01:52,  3.30s/it]"
     ]
    },
    {
     "name": "stdout",
     "output_type": "stream",
     "text": [
      "No:of spatial points: 100\n",
      "No:of time points: 22501\n",
      "(22501, 100)\n",
      "(22501, 100)\n",
      "No:of eigenvalues to explain 95 perc of variance: 4\n",
      "2.48409172115467\n",
      "187500.0\n",
      "completed simulation data found!\n"
     ]
    },
    {
     "name": "stderr",
     "output_type": "stream",
     "text": [
      "\r",
      " 45%|████▌     | 27/60 [01:09<01:49,  3.32s/it]"
     ]
    },
    {
     "name": "stdout",
     "output_type": "stream",
     "text": [
      "No:of spatial points: 100\n",
      "No:of time points: 22501\n",
      "(22501, 100)\n",
      "(22501, 100)\n",
      "No:of eigenvalues to explain 95 perc of variance: 4\n",
      "2.484339638827684\n",
      "187500.0\n",
      "completed simulation data found!\n"
     ]
    },
    {
     "name": "stderr",
     "output_type": "stream",
     "text": [
      "\r",
      " 47%|████▋     | 28/60 [01:13<01:46,  3.32s/it]"
     ]
    },
    {
     "name": "stdout",
     "output_type": "stream",
     "text": [
      "No:of spatial points: 100\n",
      "No:of time points: 22501\n",
      "(22501, 100)\n",
      "(22501, 100)\n",
      "No:of eigenvalues to explain 95 perc of variance: 3\n",
      "1.8580721976597532\n",
      "187500.0\n",
      "completed simulation data found!\n"
     ]
    },
    {
     "name": "stderr",
     "output_type": "stream",
     "text": [
      "\r",
      " 48%|████▊     | 29/60 [01:16<01:43,  3.34s/it]"
     ]
    },
    {
     "name": "stdout",
     "output_type": "stream",
     "text": [
      "No:of spatial points: 100\n",
      "No:of time points: 22501\n",
      "(22501, 100)\n",
      "(22501, 100)\n",
      "No:of eigenvalues to explain 95 perc of variance: 3\n",
      "1.8615439702071097\n",
      "187500.0\n",
      "completed simulation data found!\n"
     ]
    },
    {
     "name": "stderr",
     "output_type": "stream",
     "text": [
      "\r",
      " 50%|█████     | 30/60 [01:20<01:40,  3.34s/it]"
     ]
    },
    {
     "name": "stdout",
     "output_type": "stream",
     "text": [
      "No:of spatial points: 100\n",
      "No:of time points: 22501\n",
      "(22501, 100)\n",
      "(22501, 100)\n",
      "No:of eigenvalues to explain 95 perc of variance: 3\n",
      "1.8599937979023615\n",
      "187500.0\n",
      "completed simulation data found!\n"
     ]
    },
    {
     "name": "stderr",
     "output_type": "stream",
     "text": [
      "\r",
      " 52%|█████▏    | 31/60 [01:23<01:36,  3.34s/it]"
     ]
    },
    {
     "name": "stdout",
     "output_type": "stream",
     "text": [
      "No:of spatial points: 100\n",
      "No:of time points: 22501\n",
      "(22501, 100)\n",
      "(22501, 100)\n",
      "No:of eigenvalues to explain 95 perc of variance: 2\n",
      "1.1294023306011975\n",
      "187500.0\n",
      "completed simulation data found!\n"
     ]
    },
    {
     "name": "stderr",
     "output_type": "stream",
     "text": [
      "\r",
      " 53%|█████▎    | 32/60 [01:26<01:32,  3.32s/it]"
     ]
    },
    {
     "name": "stdout",
     "output_type": "stream",
     "text": [
      "No:of spatial points: 100\n",
      "No:of time points: 22501\n",
      "(22501, 100)\n",
      "(22501, 100)\n",
      "No:of eigenvalues to explain 95 perc of variance: 2\n",
      "1.1294030260059582\n",
      "187500.0\n",
      "completed simulation data found!\n"
     ]
    },
    {
     "name": "stderr",
     "output_type": "stream",
     "text": [
      "\r",
      " 55%|█████▌    | 33/60 [01:29<01:28,  3.29s/it]"
     ]
    },
    {
     "name": "stdout",
     "output_type": "stream",
     "text": [
      "No:of spatial points: 100\n",
      "No:of time points: 22501\n",
      "(22501, 100)\n",
      "(22501, 100)\n",
      "No:of eigenvalues to explain 95 perc of variance: 2\n",
      "1.1294024824350066\n",
      "187500.0\n",
      "completed simulation data found!\n"
     ]
    },
    {
     "name": "stderr",
     "output_type": "stream",
     "text": [
      "\r",
      " 57%|█████▋    | 34/60 [01:33<01:25,  3.27s/it]"
     ]
    },
    {
     "name": "stdout",
     "output_type": "stream",
     "text": [
      "No:of spatial points: 100\n",
      "No:of time points: 22501\n",
      "(22501, 100)\n",
      "(22501, 100)\n",
      "No:of eigenvalues to explain 95 perc of variance: 3\n",
      "1.631023032555138\n",
      "187500.0\n",
      "completed simulation data found!\n"
     ]
    },
    {
     "name": "stderr",
     "output_type": "stream",
     "text": [
      "\r",
      " 58%|█████▊    | 35/60 [01:36<01:21,  3.28s/it]"
     ]
    },
    {
     "name": "stdout",
     "output_type": "stream",
     "text": [
      "No:of spatial points: 100\n",
      "No:of time points: 22501\n",
      "(22501, 100)\n",
      "(22501, 100)\n",
      "No:of eigenvalues to explain 95 perc of variance: 3\n",
      "1.6385503335730494\n",
      "187500.0\n",
      "completed simulation data found!\n"
     ]
    },
    {
     "name": "stderr",
     "output_type": "stream",
     "text": [
      "\r",
      " 60%|██████    | 36/60 [01:39<01:18,  3.27s/it]"
     ]
    },
    {
     "name": "stdout",
     "output_type": "stream",
     "text": [
      "No:of spatial points: 100\n",
      "No:of time points: 22501\n",
      "(22501, 100)\n",
      "(22501, 100)\n",
      "No:of eigenvalues to explain 95 perc of variance: 3\n",
      "1.662579875263557\n",
      "187500.0\n",
      "completed simulation data found!\n"
     ]
    },
    {
     "name": "stderr",
     "output_type": "stream",
     "text": [
      "\r",
      " 62%|██████▏   | 37/60 [01:42<01:15,  3.27s/it]"
     ]
    },
    {
     "name": "stdout",
     "output_type": "stream",
     "text": [
      "No:of spatial points: 100\n",
      "No:of time points: 22501\n",
      "(22501, 100)\n",
      "(22501, 100)\n",
      "No:of eigenvalues to explain 95 perc of variance: 3\n",
      "2.2370811216195223\n",
      "187500.0\n",
      "completed simulation data found!\n"
     ]
    },
    {
     "name": "stderr",
     "output_type": "stream",
     "text": [
      "\r",
      " 63%|██████▎   | 38/60 [01:46<01:11,  3.26s/it]"
     ]
    },
    {
     "name": "stdout",
     "output_type": "stream",
     "text": [
      "No:of spatial points: 100\n",
      "No:of time points: 22501\n",
      "(22501, 100)\n",
      "(22501, 100)\n",
      "No:of eigenvalues to explain 95 perc of variance: 3\n",
      "2.237083170682566\n",
      "187500.0\n",
      "completed simulation data found!\n"
     ]
    },
    {
     "name": "stderr",
     "output_type": "stream",
     "text": [
      "\r",
      " 65%|██████▌   | 39/60 [01:49<01:08,  3.26s/it]"
     ]
    },
    {
     "name": "stdout",
     "output_type": "stream",
     "text": [
      "No:of spatial points: 100\n",
      "No:of time points: 22501\n",
      "(22501, 100)\n",
      "(22501, 100)\n",
      "No:of eigenvalues to explain 95 perc of variance: 3\n",
      "2.237081915610547\n",
      "72735.0\n",
      "20205.0\n",
      "14985.0\n",
      "187500.0\n",
      "completed simulation data found!\n"
     ]
    },
    {
     "name": "stderr",
     "output_type": "stream",
     "text": [
      "\r",
      " 72%|███████▏  | 43/60 [01:52<00:29,  1.71s/it]"
     ]
    },
    {
     "name": "stdout",
     "output_type": "stream",
     "text": [
      "No:of spatial points: 100\n",
      "No:of time points: 22501\n",
      "(22501, 100)\n",
      "(22501, 100)\n",
      "No:of eigenvalues to explain 95 perc of variance: 5\n",
      "2.855561804406819\n",
      "187500.0\n",
      "completed simulation data found!\n"
     ]
    },
    {
     "name": "stderr",
     "output_type": "stream",
     "text": [
      "\r",
      " 73%|███████▎  | 44/60 [01:55<00:31,  1.99s/it]"
     ]
    },
    {
     "name": "stdout",
     "output_type": "stream",
     "text": [
      "No:of spatial points: 100\n",
      "No:of time points: 22501\n",
      "(22501, 100)\n",
      "(22501, 100)\n",
      "No:of eigenvalues to explain 95 perc of variance: 5\n",
      "3.2460073222623764\n",
      "187500.0\n",
      "completed simulation data found!\n"
     ]
    },
    {
     "name": "stderr",
     "output_type": "stream",
     "text": [
      "\r",
      " 75%|███████▌  | 45/60 [01:59<00:33,  2.25s/it]"
     ]
    },
    {
     "name": "stdout",
     "output_type": "stream",
     "text": [
      "No:of spatial points: 100\n",
      "No:of time points: 22501\n",
      "(22501, 100)\n",
      "(22501, 100)\n",
      "No:of eigenvalues to explain 95 perc of variance: 5\n",
      "2.8556025532432474\n",
      "44115.0\n",
      "50865.0\n",
      "18680.0\n",
      "187500.0\n",
      "completed simulation data found!\n"
     ]
    },
    {
     "name": "stderr",
     "output_type": "stream",
     "text": [
      "\r",
      " 82%|████████▏ | 49/60 [02:02<00:16,  1.46s/it]"
     ]
    },
    {
     "name": "stdout",
     "output_type": "stream",
     "text": [
      "No:of spatial points: 100\n",
      "No:of time points: 22501\n",
      "(22501, 100)\n",
      "(22501, 100)\n",
      "No:of eigenvalues to explain 95 perc of variance: 2\n",
      "1.1474656939317378\n",
      "187500.0\n",
      "completed simulation data found!\n"
     ]
    },
    {
     "name": "stderr",
     "output_type": "stream",
     "text": [
      "\r",
      " 83%|████████▎ | 50/60 [02:05<00:17,  1.75s/it]"
     ]
    },
    {
     "name": "stdout",
     "output_type": "stream",
     "text": [
      "No:of spatial points: 100\n",
      "No:of time points: 22501\n",
      "(22501, 100)\n",
      "(22501, 100)\n",
      "No:of eigenvalues to explain 95 perc of variance: 2\n",
      "1.1474663035256722\n",
      "187500.0\n",
      "completed simulation data found!\n"
     ]
    },
    {
     "name": "stderr",
     "output_type": "stream",
     "text": [
      "\r",
      " 85%|████████▌ | 51/60 [02:08<00:18,  2.02s/it]"
     ]
    },
    {
     "name": "stdout",
     "output_type": "stream",
     "text": [
      "No:of spatial points: 100\n",
      "No:of time points: 22501\n",
      "(22501, 100)\n",
      "(22501, 100)\n",
      "No:of eigenvalues to explain 95 perc of variance: 2\n",
      "1.1474666126704203\n",
      "187500.0\n",
      "completed simulation data found!\n"
     ]
    },
    {
     "name": "stderr",
     "output_type": "stream",
     "text": [
      "\r",
      " 87%|████████▋ | 52/60 [02:11<00:18,  2.27s/it]"
     ]
    },
    {
     "name": "stdout",
     "output_type": "stream",
     "text": [
      "No:of spatial points: 100\n",
      "No:of time points: 22501\n",
      "(22501, 100)\n",
      "(22501, 100)\n",
      "No:of eigenvalues to explain 95 perc of variance: 1\n",
      "1.042946840105424\n",
      "187500.0\n",
      "completed simulation data found!\n"
     ]
    },
    {
     "name": "stderr",
     "output_type": "stream",
     "text": [
      "\r",
      " 88%|████████▊ | 53/60 [02:15<00:17,  2.52s/it]"
     ]
    },
    {
     "name": "stdout",
     "output_type": "stream",
     "text": [
      "No:of spatial points: 100\n",
      "No:of time points: 22501\n",
      "(22501, 100)\n",
      "(22501, 100)\n",
      "No:of eigenvalues to explain 95 perc of variance: 1\n",
      "1.0429408232024913\n",
      "187500.0\n",
      "completed simulation data found!\n"
     ]
    },
    {
     "name": "stderr",
     "output_type": "stream",
     "text": [
      "\r",
      " 90%|█████████ | 54/60 [02:18<00:16,  2.71s/it]"
     ]
    },
    {
     "name": "stdout",
     "output_type": "stream",
     "text": [
      "No:of spatial points: 100\n",
      "No:of time points: 22501\n",
      "(22501, 100)\n",
      "(22501, 100)\n",
      "No:of eigenvalues to explain 95 perc of variance: 1\n",
      "1.0431878554418252\n",
      "187500.0\n",
      "completed simulation data found!\n"
     ]
    },
    {
     "name": "stderr",
     "output_type": "stream",
     "text": [
      "\r",
      " 92%|█████████▏| 55/60 [02:21<00:14,  2.88s/it]"
     ]
    },
    {
     "name": "stdout",
     "output_type": "stream",
     "text": [
      "No:of spatial points: 100\n",
      "No:of time points: 22501\n",
      "(22501, 100)\n",
      "(22501, 100)\n",
      "No:of eigenvalues to explain 95 perc of variance: 3\n",
      "1.69556167136997\n",
      "187500.0\n",
      "completed simulation data found!\n"
     ]
    },
    {
     "name": "stderr",
     "output_type": "stream",
     "text": [
      "\r",
      " 93%|█████████▎| 56/60 [02:25<00:12,  3.02s/it]"
     ]
    },
    {
     "name": "stdout",
     "output_type": "stream",
     "text": [
      "No:of spatial points: 100\n",
      "No:of time points: 22501\n",
      "(22501, 100)\n",
      "(22501, 100)\n",
      "No:of eigenvalues to explain 95 perc of variance: 3\n",
      "1.6955620155946478\n",
      "187500.0\n",
      "completed simulation data found!\n"
     ]
    },
    {
     "name": "stderr",
     "output_type": "stream",
     "text": [
      "\r",
      " 95%|█████████▌| 57/60 [02:28<00:09,  3.11s/it]"
     ]
    },
    {
     "name": "stdout",
     "output_type": "stream",
     "text": [
      "No:of spatial points: 100\n",
      "No:of time points: 22501\n",
      "(22501, 100)\n",
      "(22501, 100)\n",
      "No:of eigenvalues to explain 95 perc of variance: 3\n",
      "1.6955603058376292\n",
      "187500.0\n",
      "completed simulation data found!\n"
     ]
    },
    {
     "name": "stderr",
     "output_type": "stream",
     "text": [
      "\r",
      " 97%|█████████▋| 58/60 [02:31<00:06,  3.17s/it]"
     ]
    },
    {
     "name": "stdout",
     "output_type": "stream",
     "text": [
      "No:of spatial points: 100\n",
      "No:of time points: 22501\n",
      "(22501, 100)\n",
      "(22501, 100)\n",
      "No:of eigenvalues to explain 95 perc of variance: 4\n",
      "2.3442856619447388\n",
      "187500.0\n",
      "completed simulation data found!\n"
     ]
    },
    {
     "name": "stderr",
     "output_type": "stream",
     "text": [
      "\r",
      " 98%|█████████▊| 59/60 [02:35<00:03,  3.23s/it]"
     ]
    },
    {
     "name": "stdout",
     "output_type": "stream",
     "text": [
      "No:of spatial points: 100\n",
      "No:of time points: 22501\n",
      "(22501, 100)\n",
      "(22501, 100)\n",
      "No:of eigenvalues to explain 95 perc of variance: 4\n",
      "2.3023024055845114\n",
      "187500.0\n",
      "completed simulation data found!\n"
     ]
    },
    {
     "name": "stderr",
     "output_type": "stream",
     "text": [
      "100%|██████████| 60/60 [02:38<00:00,  2.64s/it]"
     ]
    },
    {
     "name": "stdout",
     "output_type": "stream",
     "text": [
      "No:of spatial points: 100\n",
      "No:of time points: 22501\n",
      "(22501, 100)\n",
      "(22501, 100)\n",
      "No:of eigenvalues to explain 95 perc of variance: 4\n",
      "2.3016503891025226\n"
     ]
    },
    {
     "name": "stderr",
     "output_type": "stream",
     "text": [
      "\n"
     ]
    }
   ],
   "source": [
    "for file in tqdm(full_path_list):\n",
    "    run_pca(file)"
   ]
  },
  {
   "cell_type": "code",
   "execution_count": 23,
   "id": "furnished-grove",
   "metadata": {},
   "outputs": [],
   "source": [
    "def run_shape_mode_decomposition(file):\n",
    "    \n",
    "    fil = analysis.analysisTools(file = file)\n",
    "\n",
    "    ic_analysis_folder = os.path.join(fil.rootFolder, 'IC_analysis')\n",
    "\n",
    "    fil.ic_analysis_folder = ic_analysis_folder\n",
    "\n",
    "    print(fil.Time[-1])\n",
    "\n",
    "    if(fil.Time[-1]==250*fil.activity_timescale):\n",
    "        # Completed simulation found.\n",
    "        # Run the PCA analysis\n",
    "\n",
    "        print('completed simulation data found!')\n",
    "        # Compute tangent angle matrix\n",
    "        fil.compute_tangent_angle_matrix()\n",
    "\n",
    "        # Neglect transients\n",
    "        start_cycle = 0 # Ignore the first 100 cycles to remove transients\n",
    "\n",
    "        start_time = start_cycle*fil.activity_timescale\n",
    "\n",
    "        start_index = next((i for i,x in enumerate(fil.Time) if x>= start_time), 0)\n",
    "\n",
    "        # Ignore the transients in the simulation\n",
    "        fil.tangent_angles_matrix = fil.tangent_angles_matrix[start_index:,:]\n",
    "\n",
    "        # Compute the shape Covariance matrix\n",
    "        fil.compute_shape_covariance_matrix()\n",
    "\n",
    "        # Eigen-decomposition of the covariance matrix\n",
    "        d_sig, eigenvectors_sig, d_normalized =\\\n",
    "        fil.matrix_eigen_decomposition(matrix = fil.covariance_matrix)\n",
    "\n",
    "\n",
    "        # Save the no:of eigvalues necessary to explain 95% of variance to file\n",
    "#         fil.save_eigenvectors()\n",
    "\n",
    "    #             fil.plot_shape_modes(save = False)\n",
    "        fil.project_filament_shapes()\n",
    "        fil.save_mode_amplitudes()\n",
    "\n",
    "\n",
    "        found_completed_sim = True"
   ]
  },
  {
   "cell_type": "code",
   "execution_count": 13,
   "id": "higher-george",
   "metadata": {},
   "outputs": [],
   "source": [
    "file = '/home/deepak/ActiveFilamentsSearch_backup_3/ActivityStrengthSweeps_diffActivityTimeScales_FINAL/activityTime_750/SimData_Np_32_Shape_line_kappa_hat_6_k_25_b0_2.1_F_0_S_0_D_0.5_activityTime_750_simType_point/sim_data_00_.hdf5'"
   ]
  },
  {
   "cell_type": "code",
   "execution_count": 16,
   "id": "false-round",
   "metadata": {},
   "outputs": [
    {
     "name": "stdout",
     "output_type": "stream",
     "text": [
      "187500.0\n",
      "completed simulation data found!\n",
      "No:of spatial points: 100\n",
      "No:of time points: 37501\n",
      "(37501, 100)\n",
      "(37501, 100)\n",
      "No:of eigenvalues to explain 95 perc of variance: 3\n"
     ]
    }
   ],
   "source": [
    "run_shape_mode_decomposition(file)"
   ]
  },
  {
   "cell_type": "code",
   "execution_count": 24,
   "id": "raised-television",
   "metadata": {},
   "outputs": [
    {
     "name": "stderr",
     "output_type": "stream",
     "text": [
      "  0%|          | 0/400 [00:00<?, ?it/s][Parallel(n_jobs=12)]: Using backend LokyBackend with 12 concurrent workers.\n",
      "[Parallel(n_jobs=12)]: Done   1 tasks      | elapsed:    0.2s\n",
      "[Parallel(n_jobs=12)]: Batch computation too fast (0.1595s.) Setting batch_size=2.\n",
      "  6%|▌         | 24/400 [00:00<00:02, 149.58it/s][Parallel(n_jobs=12)]: Done   8 tasks      | elapsed:    0.2s\n",
      " 12%|█▏        | 48/400 [00:00<00:01, 178.04it/s][Parallel(n_jobs=12)]: Done  17 tasks      | elapsed:    0.3s\n",
      "[Parallel(n_jobs=12)]: Batch computation too fast (0.1896s.) Setting batch_size=4.\n",
      "[Parallel(n_jobs=12)]: Done  28 tasks      | elapsed:    0.4s\n",
      "[Parallel(n_jobs=12)]: Done  50 tasks      | elapsed:    0.6s\n",
      " 30%|███       | 120/400 [00:00<00:01, 212.45it/s][Parallel(n_jobs=12)]: Done  72 tasks      | elapsed:    0.9s\n",
      " 42%|████▏     | 168/400 [00:00<00:01, 172.77it/s][Parallel(n_jobs=12)]: Done 124 tasks      | elapsed:    1.5s\n",
      " 66%|██████▌   | 264/400 [00:01<00:01, 130.03it/s][Parallel(n_jobs=12)]: Done 176 tasks      | elapsed:    2.0s\n",
      " 78%|███████▊  | 312/400 [00:02<00:00, 102.98it/s][Parallel(n_jobs=12)]: Done 236 tasks      | elapsed:    2.6s\n",
      "100%|██████████| 400/400 [00:02<00:00, 137.82it/s]\n",
      "[Parallel(n_jobs=12)]: Done 296 tasks      | elapsed:    3.2s\n",
      "[Parallel(n_jobs=12)]: Done 343 tasks      | elapsed:    3.6s\n",
      "[Parallel(n_jobs=12)]: Done 377 out of 400 | elapsed:    3.9s remaining:    0.2s\n",
      "[Parallel(n_jobs=12)]: Done 400 out of 400 | elapsed:    4.0s finished\n"
     ]
    }
   ],
   "source": [
    "num_cores = multiprocessing.cpu_count()\n",
    "\n",
    "num_cores = 12\n",
    "\n",
    "results = Parallel(n_jobs=num_cores, verbose=10)(delayed(run_shape_mode_decomposition)(file) for file in tqdm(full_path_list))"
   ]
  },
  {
   "cell_type": "code",
   "execution_count": null,
   "id": "radio-obligation",
   "metadata": {},
   "outputs": [],
   "source": []
  }
 ],
 "metadata": {
  "kernelspec": {
   "display_name": "Python 3",
   "language": "python",
   "name": "python3"
  },
  "language_info": {
   "codemirror_mode": {
    "name": "ipython",
    "version": 3
   },
   "file_extension": ".py",
   "mimetype": "text/x-python",
   "name": "python",
   "nbconvert_exporter": "python",
   "pygments_lexer": "ipython3",
   "version": "3.6.10"
  }
 },
 "nbformat": 4,
 "nbformat_minor": 5
}
