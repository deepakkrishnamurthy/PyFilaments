{
 "cells": [
  {
   "cell_type": "markdown",
   "id": "canadian-tower",
   "metadata": {},
   "source": [
    "# Analyze dynamics and frequency spectra of filaments driven with a constant compressive tip follower-force"
   ]
  },
  {
   "cell_type": "code",
   "execution_count": null,
   "id": "organizational-swaziland",
   "metadata": {},
   "outputs": [],
   "source": []
  }
 ],
 "metadata": {
  "kernelspec": {
   "display_name": "Python 3",
   "language": "python",
   "name": "python3"
  },
  "language_info": {
   "codemirror_mode": {
    "name": "ipython",
    "version": 3
   },
   "file_extension": ".py",
   "mimetype": "text/x-python",
   "name": "python",
   "nbconvert_exporter": "python",
   "pygments_lexer": "ipython3",
   "version": "3.6.10"
  }
 },
 "nbformat": 4,
 "nbformat_minor": 5
}
