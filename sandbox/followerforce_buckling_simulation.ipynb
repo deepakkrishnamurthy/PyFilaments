{
 "cells": [
  {
   "cell_type": "markdown",
   "id": "suffering-hunger",
   "metadata": {},
   "source": [
    "# Simulate Filament Dynamics under Follower-force compression and extension\n",
    "\t- Simulates filament dynamics from different initial orientations.\n",
    "\t- Computes filament orientation before and after one activity cycle (compressive-extensional) cycle"
   ]
  },
  {
   "cell_type": "code",
   "execution_count": 31,
   "id": "original-awareness",
   "metadata": {},
   "outputs": [
    {
     "name": "stdout",
     "output_type": "stream",
     "text": [
      "linux system\n"
     ]
    }
   ],
   "source": [
    "import sys\n",
    "if 'init_modules' in globals().keys():\n",
    "    # second or subsequent run: remove all but initially loaded modules\n",
    "    for m in sys.modules.keys():\n",
    "        if m not in init_modules:\n",
    "            del(sys.modules[m])\n",
    "else:\n",
    "    # first run: find out which modules were initially loaded\n",
    "    init_modules = sys.modules.keys()\n",
    "    \n",
    "from pyfilaments.activeFilaments import activeFilament\n",
    "import numpy as np\n",
    "from scipy import signal\n",
    "from scipy import interpolate\n",
    "import matplotlib.pyplot as plt \n",
    "from sys import platform\n",
    "\n",
    "from joblib import Parallel, delayed\n",
    "import multiprocessing\n",
    "\n",
    "# Check which platform\n",
    "if platform == \"linux\" or platform == \"linux2\":\n",
    "    print(\"linux system\")\n",
    "    # root_path = '/home/deepak/LacryModelling_Local/SimulationData'\n",
    "    root_path = '/home/deepak/Dropbox/LacryModeling/ModellingResults'\n",
    "\n",
    "\n",
    "elif platform == 'darwin':\n",
    "    print(\"OSX system\")\n",
    "    root_path = '/Users/deepak/Dropbox/LacryModeling/'"
   ]
  },
  {
   "cell_type": "markdown",
   "id": "rolled-noise",
   "metadata": {},
   "source": [
    "## Setup filament parameters"
   ]
  },
  {
   "cell_type": "code",
   "execution_count": 32,
   "id": "average-chancellor",
   "metadata": {},
   "outputs": [],
   "source": [
    "radius = 1\n",
    "bc = {0:'clamped', -1:'free'} # Filament BC\n",
    "\n",
    "# Bond length\n",
    "b0 = 2.1\n",
    "\n",
    "# Activity profile parameters\n",
    "\n",
    "\n",
    "n_activity_cycles = 1.5 \t# No:of activity cycles we want to simulate\n",
    "activity_timescale = 750\t\n",
    "duty_cycle = 0.5\n",
    "\n",
    "Tf = n_activity_cycles*activity_timescale\n",
    "time_step_save = 1\n",
    "Npts = int(Tf/time_step_save)\n",
    "\n",
    "init_angle_array = np.linspace(0, np.pi/2, 50)\n",
    "\n",
    "# bending_stiffness_array = [90, 95, 100]\n",
    "k = 25\n",
    "\n",
    "# activity_strength_array = np.linspace(0.5, 3, 20)\n",
    "activity_strength_array = [1.07692307692308, 1.14102564102564, 2.61538461538461]"
   ]
  },
  {
   "cell_type": "markdown",
   "id": "stuck-satin",
   "metadata": {},
   "source": [
    "## Batch simulation function"
   ]
  },
  {
   "cell_type": "code",
   "execution_count": 33,
   "id": "molecular-shore",
   "metadata": {},
   "outputs": [],
   "source": [
    "save_path = '/home/deepak/ActiveFilamentsSearch_backup_3/FollowerForce_BucklingDynamics_Simulations'\n",
    "\n",
    "def run_parametric_simulation(pid, init_angle, activity_strength, activity_timescale, Tf):\n",
    "\n",
    "\n",
    "    fil = activeFilament(dim = 3, Np = 32, radius = radius, b0 = b0*radius, k = k, S0 = 0, D0 = activity_strength, bc = bc)\n",
    "\n",
    "    print(init_angle)\n",
    "    fil.simulate(Tf, Npts, save = True, overwrite = False, path = save_path, sim_type = 'point', \n",
    "    init_condition = {'shape':'line', 'angle': init_angle}, \n",
    "    activity={'type':'square-wave','activity_timescale':activity_timescale, 'duty_cycle':duty_cycle, 'start phase':np.pi},\n",
    "                note = str(round(init_angle, 2)))\n"
   ]
  },
  {
   "cell_type": "markdown",
   "id": "foreign-turkish",
   "metadata": {},
   "source": [
    "## Run a parallel batch simulation for different parameters and initial angles"
   ]
  },
  {
   "cell_type": "code",
   "execution_count": 25,
   "id": "funny-thriller",
   "metadata": {},
   "outputs": [
    {
     "name": "stderr",
     "output_type": "stream",
     "text": [
      "[Parallel(n_jobs=12)]: Using backend LokyBackend with 12 concurrent workers.\n",
      "[Parallel(n_jobs=12)]: Done   1 tasks      | elapsed:    5.2s\n",
      "[Parallel(n_jobs=12)]: Done   8 tasks      | elapsed:    8.3s\n",
      "[Parallel(n_jobs=12)]: Done  17 tasks      | elapsed:   12.9s\n",
      "[Parallel(n_jobs=12)]: Done  26 tasks      | elapsed:   15.4s\n",
      "[Parallel(n_jobs=12)]: Done  33 out of  50 | elapsed:   20.6s remaining:   10.6s\n",
      "[Parallel(n_jobs=12)]: Done  39 out of  50 | elapsed:   22.0s remaining:    6.2s\n",
      "[Parallel(n_jobs=12)]: Done  45 out of  50 | elapsed:   24.3s remaining:    2.7s\n",
      "[Parallel(n_jobs=12)]: Done  50 out of  50 | elapsed:   25.7s finished\n",
      "[Parallel(n_jobs=12)]: Using backend LokyBackend with 12 concurrent workers.\n",
      "[Parallel(n_jobs=12)]: Done   1 tasks      | elapsed:    3.8s\n",
      "[Parallel(n_jobs=12)]: Done   8 tasks      | elapsed:    7.1s\n",
      "[Parallel(n_jobs=12)]: Done  17 tasks      | elapsed:   11.5s\n",
      "[Parallel(n_jobs=12)]: Done  26 tasks      | elapsed:   14.4s\n",
      "[Parallel(n_jobs=12)]: Done  33 out of  50 | elapsed:   19.2s remaining:    9.9s\n",
      "[Parallel(n_jobs=12)]: Done  39 out of  50 | elapsed:   20.9s remaining:    5.9s\n",
      "[Parallel(n_jobs=12)]: Done  45 out of  50 | elapsed:   22.9s remaining:    2.5s\n",
      "[Parallel(n_jobs=12)]: Done  50 out of  50 | elapsed:   24.6s finished\n",
      "[Parallel(n_jobs=12)]: Using backend LokyBackend with 12 concurrent workers.\n",
      "[Parallel(n_jobs=12)]: Done   1 tasks      | elapsed:    4.0s\n",
      "[Parallel(n_jobs=12)]: Done   8 tasks      | elapsed:    7.3s\n",
      "[Parallel(n_jobs=12)]: Done  17 tasks      | elapsed:   12.1s\n",
      "[Parallel(n_jobs=12)]: Done  26 tasks      | elapsed:   15.4s\n",
      "[Parallel(n_jobs=12)]: Done  33 out of  50 | elapsed:   20.3s remaining:   10.5s\n",
      "[Parallel(n_jobs=12)]: Done  39 out of  50 | elapsed:   22.4s remaining:    6.3s\n",
      "[Parallel(n_jobs=12)]: Done  45 out of  50 | elapsed:   24.3s remaining:    2.7s\n",
      "[Parallel(n_jobs=12)]: Done  50 out of  50 | elapsed:   26.1s finished\n"
     ]
    }
   ],
   "source": [
    "num_cores = multiprocessing.cpu_count()\n",
    "\n",
    "num_cores = 12\n",
    "\n",
    "\n",
    "for activity_strength in activity_strength_array:\n",
    "\n",
    "    results = Parallel(n_jobs = num_cores,  verbose=10)(delayed(run_parametric_simulation)(pid, init_angle, activity_strength, activity_timescale, Tf) for pid, init_angle in enumerate(init_angle_array))\n"
   ]
  },
  {
   "cell_type": "markdown",
   "id": "continent-textbook",
   "metadata": {},
   "source": [
    "## Batch simulations for different activity time-scales"
   ]
  },
  {
   "cell_type": "code",
   "execution_count": 34,
   "id": "relevant-norfolk",
   "metadata": {},
   "outputs": [
    {
     "name": "stdout",
     "output_type": "stream",
     "text": [
      "Running Activity time-scale: 100.0...\n"
     ]
    },
    {
     "name": "stderr",
     "output_type": "stream",
     "text": [
      "[Parallel(n_jobs=12)]: Using backend LokyBackend with 12 concurrent workers.\n",
      "[Parallel(n_jobs=12)]: Done   1 tasks      | elapsed:    2.0s\n",
      "[Parallel(n_jobs=12)]: Done   8 tasks      | elapsed:    2.4s\n",
      "[Parallel(n_jobs=12)]: Done  17 tasks      | elapsed:    3.0s\n",
      "[Parallel(n_jobs=12)]: Done  26 tasks      | elapsed:    3.5s\n",
      "[Parallel(n_jobs=12)]: Done  33 out of  50 | elapsed:    4.1s remaining:    2.1s\n",
      "[Parallel(n_jobs=12)]: Done  39 out of  50 | elapsed:    4.3s remaining:    1.2s\n",
      "[Parallel(n_jobs=12)]: Done  45 out of  50 | elapsed:    4.6s remaining:    0.5s\n",
      "[Parallel(n_jobs=12)]: Done  50 out of  50 | elapsed:    4.8s finished\n"
     ]
    },
    {
     "name": "stdout",
     "output_type": "stream",
     "text": [
      "Running Activity time-scale: 575.0...\n"
     ]
    },
    {
     "name": "stderr",
     "output_type": "stream",
     "text": [
      "[Parallel(n_jobs=12)]: Using backend LokyBackend with 12 concurrent workers.\n",
      "[Parallel(n_jobs=12)]: Done   1 tasks      | elapsed:    3.1s\n",
      "[Parallel(n_jobs=12)]: Done   8 tasks      | elapsed:    5.6s\n",
      "[Parallel(n_jobs=12)]: Done  17 tasks      | elapsed:    9.0s\n",
      "[Parallel(n_jobs=12)]: Done  26 tasks      | elapsed:   11.1s\n",
      "[Parallel(n_jobs=12)]: Done  33 out of  50 | elapsed:   15.1s remaining:    7.8s\n",
      "[Parallel(n_jobs=12)]: Done  39 out of  50 | elapsed:   16.4s remaining:    4.6s\n",
      "[Parallel(n_jobs=12)]: Done  45 out of  50 | elapsed:   18.2s remaining:    2.0s\n",
      "[Parallel(n_jobs=12)]: Done  50 out of  50 | elapsed:   19.3s finished\n",
      "[Parallel(n_jobs=12)]: Using backend LokyBackend with 12 concurrent workers.\n"
     ]
    },
    {
     "name": "stdout",
     "output_type": "stream",
     "text": [
      "Running Activity time-scale: 1050.0...\n"
     ]
    },
    {
     "name": "stderr",
     "output_type": "stream",
     "text": [
      "[Parallel(n_jobs=12)]: Done   1 tasks      | elapsed:    6.0s\n",
      "[Parallel(n_jobs=12)]: Done   8 tasks      | elapsed:    9.9s\n",
      "[Parallel(n_jobs=12)]: Done  17 tasks      | elapsed:   18.2s\n",
      "[Parallel(n_jobs=12)]: Done  26 tasks      | elapsed:   20.5s\n",
      "[Parallel(n_jobs=12)]: Done  33 out of  50 | elapsed:   26.4s remaining:   13.6s\n",
      "[Parallel(n_jobs=12)]: Done  39 out of  50 | elapsed:   30.1s remaining:    8.5s\n",
      "[Parallel(n_jobs=12)]: Done  45 out of  50 | elapsed:   33.8s remaining:    3.8s\n",
      "[Parallel(n_jobs=12)]: Done  50 out of  50 | elapsed:   35.9s finished\n",
      "[Parallel(n_jobs=12)]: Using backend LokyBackend with 12 concurrent workers.\n"
     ]
    },
    {
     "name": "stdout",
     "output_type": "stream",
     "text": [
      "Running Activity time-scale: 1525.0...\n"
     ]
    },
    {
     "name": "stderr",
     "output_type": "stream",
     "text": [
      "[Parallel(n_jobs=12)]: Done   1 tasks      | elapsed:    9.8s\n",
      "[Parallel(n_jobs=12)]: Done   8 tasks      | elapsed:   14.7s\n",
      "[Parallel(n_jobs=12)]: Done  17 tasks      | elapsed:   23.6s\n",
      "[Parallel(n_jobs=12)]: Done  26 tasks      | elapsed:   30.9s\n",
      "[Parallel(n_jobs=12)]: Done  33 out of  50 | elapsed:   40.0s remaining:   20.6s\n",
      "[Parallel(n_jobs=12)]: Done  39 out of  50 | elapsed:   44.8s remaining:   12.6s\n",
      "[Parallel(n_jobs=12)]: Done  45 out of  50 | elapsed:   49.1s remaining:    5.5s\n",
      "[Parallel(n_jobs=12)]: Done  50 out of  50 | elapsed:   53.2s finished\n",
      "[Parallel(n_jobs=12)]: Using backend LokyBackend with 12 concurrent workers.\n"
     ]
    },
    {
     "name": "stdout",
     "output_type": "stream",
     "text": [
      "Running Activity time-scale: 2000.0...\n"
     ]
    },
    {
     "name": "stderr",
     "output_type": "stream",
     "text": [
      "[Parallel(n_jobs=12)]: Done   1 tasks      | elapsed:   10.9s\n",
      "[Parallel(n_jobs=12)]: Done   8 tasks      | elapsed:   19.1s\n",
      "[Parallel(n_jobs=12)]: Done  17 tasks      | elapsed:   31.5s\n",
      "[Parallel(n_jobs=12)]: Done  26 tasks      | elapsed:   39.9s\n",
      "[Parallel(n_jobs=12)]: Done  33 out of  50 | elapsed:   50.1s remaining:   25.8s\n",
      "[Parallel(n_jobs=12)]: Done  39 out of  50 | elapsed:   58.2s remaining:   16.4s\n",
      "[Parallel(n_jobs=12)]: Done  45 out of  50 | elapsed:  1.1min remaining:    7.0s\n",
      "[Parallel(n_jobs=12)]: Done  50 out of  50 | elapsed:  1.1min finished\n"
     ]
    }
   ],
   "source": [
    "num_cores = multiprocessing.cpu_count()\n",
    "\n",
    "num_cores = 12\n",
    "\n",
    "activity_timescale_array = np.linspace(100, 2000, 5)\n",
    "\n",
    "activity_strength = 1.65\n",
    "\n",
    "for activity_timescale in activity_timescale_array:\n",
    "    Tf = n_activity_cycles*activity_timescale\n",
    "    time_step_save = 1\n",
    "    Npts = int(Tf/time_step_save)\n",
    "    print('Running Activity time-scale: {}...'.format(activity_timescale))\n",
    "    \n",
    "    results = Parallel(n_jobs = num_cores,  verbose=10)(delayed(run_parametric_simulation)(pid, init_angle, activity_strength, activity_timescale, Tf) for pid, init_angle in enumerate(init_angle_array))\n"
   ]
  },
  {
   "cell_type": "code",
   "execution_count": null,
   "id": "sustainable-nightmare",
   "metadata": {},
   "outputs": [],
   "source": []
  }
 ],
 "metadata": {
  "kernelspec": {
   "display_name": "Python 3",
   "language": "python",
   "name": "python3"
  },
  "language_info": {
   "codemirror_mode": {
    "name": "ipython",
    "version": 3
   },
   "file_extension": ".py",
   "mimetype": "text/x-python",
   "name": "python",
   "nbconvert_exporter": "python",
   "pygments_lexer": "ipython3",
   "version": "3.6.10"
  }
 },
 "nbformat": 4,
 "nbformat_minor": 5
}
