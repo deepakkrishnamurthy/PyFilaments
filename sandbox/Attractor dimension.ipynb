{
 "cells": [
  {
   "cell_type": "markdown",
   "id": "472dccbf",
   "metadata": {},
   "source": [
    "# Estimate attractor dimension given N dimensional time-series data"
   ]
  },
  {
   "cell_type": "code",
   "execution_count": 1,
   "id": "39745bc2",
   "metadata": {},
   "outputs": [],
   "source": [
    "import skdim\n",
    "import numpy as np\n",
    "\n"
   ]
  },
  {
   "cell_type": "code",
   "execution_count": 4,
   "id": "507b0614",
   "metadata": {},
   "outputs": [
    {
     "name": "stdout",
     "output_type": "stream",
     "text": [
      "2.835366369114016 3.0\n"
     ]
    }
   ],
   "source": [
    "#generate data : np.array (n_points x n_dim). Here a uniformly sampled 5-ball embedded in 10 dimensions\n",
    "data = np.zeros((1000,10))\n",
    "data[:,:3] = skdim.datasets.hyperBall(n = 1000, d = 3, radius = 1, random_state = 0)\n",
    "\n",
    "#estimate global intrinsic dimension\n",
    "danco = skdim.id.DANCo().fit(data)\n",
    "#estimate local intrinsic dimension (dimension in k-nearest-neighborhoods around each point):\n",
    "lpca = skdim.id.lPCA().fit_pw(data,\n",
    "                              n_neighbors = 100,\n",
    "                              n_jobs = 1)\n",
    "                            \n",
    "#get estimated intrinsic dimension\n",
    "print(danco.dimension_, np.mean(lpca.dimension_pw_)) "
   ]
  },
  {
   "cell_type": "code",
   "execution_count": 11,
   "id": "a895fc86",
   "metadata": {},
   "outputs": [],
   "source": [
    "# Correlation dimension\n",
    "\n",
    "corr_dim = skdim.id.CorrInt().fit(data)"
   ]
  },
  {
   "cell_type": "code",
   "execution_count": 10,
   "id": "0c6a90c3",
   "metadata": {},
   "outputs": [
    {
     "data": {
      "text/plain": [
       "2.7981705273429083"
      ]
     },
     "execution_count": 10,
     "metadata": {},
     "output_type": "execute_result"
    }
   ],
   "source": [
    "corr_dim.dimension_"
   ]
  },
  {
   "cell_type": "code",
   "execution_count": null,
   "id": "e9eb2ca0",
   "metadata": {},
   "outputs": [],
   "source": [
    "# Load an example "
   ]
  }
 ],
 "metadata": {
  "kernelspec": {
   "display_name": "Python 3",
   "language": "python",
   "name": "python3"
  },
  "language_info": {
   "codemirror_mode": {
    "name": "ipython",
    "version": 3
   },
   "file_extension": ".py",
   "mimetype": "text/x-python",
   "name": "python",
   "nbconvert_exporter": "python",
   "pygments_lexer": "ipython3",
   "version": "3.6.13"
  }
 },
 "nbformat": 4,
 "nbformat_minor": 5
}
