{
 "cells": [
  {
   "cell_type": "markdown",
   "id": "b0b49ab9",
   "metadata": {},
   "source": [
    "# Estimate attractor dimension given N dimensional time-series data"
   ]
  },
  {
   "cell_type": "code",
   "execution_count": 1,
   "id": "e632b7b9",
   "metadata": {},
   "outputs": [],
   "source": [
    "import skdim\n",
    "import numpy as np\n",
    "\n"
   ]
  },
  {
   "cell_type": "code",
   "execution_count": 17,
   "id": "65f911e9",
   "metadata": {},
   "outputs": [
    {
     "name": "stdout",
     "output_type": "stream",
     "text": [
      "2.9330115407758512 3.0\n"
     ]
    }
   ],
   "source": [
    "#generate data : np.array (n_points x n_dim). Here a uniformly sampled 5-ball embedded in 10 dimensions\n",
    "data = np.zeros((10000,10))\n",
    "data[:,:3] = skdim.datasets.hyperBall(n = 10000, d = 3, radius = 1, random_state = 0)\n",
    "\n",
    "#estimate global intrinsic dimension\n",
    "danco = skdim.id.DANCo().fit(data)\n",
    "#estimate local intrinsic dimension (dimension in k-nearest-neighborhoods around each point):\n",
    "lpca = skdim.id.lPCA().fit_pw(data,\n",
    "                              n_neighbors = 100,\n",
    "                              n_jobs = 1)\n",
    "                            \n",
    "#get estimated intrinsic dimension\n",
    "print(danco.dimension_, np.mean(lpca.dimension_pw_)) "
   ]
  },
  {
   "cell_type": "code",
   "execution_count": 18,
   "id": "74cdc925",
   "metadata": {},
   "outputs": [
    {
     "data": {
      "text/plain": [
       "2.9330291542031164"
      ]
     },
     "execution_count": 18,
     "metadata": {},
     "output_type": "execute_result"
    }
   ],
   "source": [
    "# Correlation dimension\n",
    "\n",
    "corr_dim = skdim.id.CorrInt().fit(data)\n",
    "corr_dim.dimension_"
   ]
  },
  {
   "cell_type": "code",
   "execution_count": 14,
   "id": "f1ded10b",
   "metadata": {},
   "outputs": [
    {
     "data": {
      "text/plain": [
       "3.6068171672424416"
      ]
     },
     "execution_count": 14,
     "metadata": {},
     "output_type": "execute_result"
    }
   ],
   "source": []
  },
  {
   "cell_type": "code",
   "execution_count": null,
   "id": "e643eafe",
   "metadata": {},
   "outputs": [],
   "source": [
    "# Load an example "
   ]
  }
 ],
 "metadata": {
  "kernelspec": {
   "display_name": "Python 3",
   "language": "python",
   "name": "python3"
  },
  "language_info": {
   "codemirror_mode": {
    "name": "ipython",
    "version": 3
   },
   "file_extension": ".py",
   "mimetype": "text/x-python",
   "name": "python",
   "nbconvert_exporter": "python",
   "pygments_lexer": "ipython3",
   "version": "3.6.13"
  }
 },
 "nbformat": 4,
 "nbformat_minor": 5
}
