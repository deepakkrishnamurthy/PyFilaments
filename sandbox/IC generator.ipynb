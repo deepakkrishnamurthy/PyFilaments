{
 "cells": [
  {
   "cell_type": "markdown",
   "id": "rational-convention",
   "metadata": {},
   "source": [
    "# Generate Initial Conditions for Filament Simulations"
   ]
  },
  {
   "cell_type": "code",
   "execution_count": 1,
   "id": "least-hometown",
   "metadata": {},
   "outputs": [],
   "source": [
    "import sys\n",
    "if 'init_modules' in globals().keys():\n",
    "    # second or subsequent run: remove all but initially loaded modules\n",
    "    for m in sys.modules.keys():\n",
    "        if m not in init_modules:\n",
    "            del(sys.modules[m])\n",
    "else:\n",
    "    # first run: find out which modules were initially loaded\n",
    "    init_modules = sys.modules.keys()\n",
    "    \n",
    "from pyfilaments.activeFilaments import activeFilament\n",
    "import numpy as np\n",
    "from scipy import signal\n",
    "from scipy import interpolate\n",
    "import matplotlib.pyplot as plt \n",
    "from sys import platform\n",
    "\n",
    "from joblib import Parallel, delayed\n",
    "import multiprocessing"
   ]
  },
  {
   "cell_type": "code",
   "execution_count": null,
   "id": "typical-mambo",
   "metadata": {},
   "outputs": [],
   "source": [
    "# Filament parameters\n",
    "# Activity profile parameters\n",
    "activity_timescale = 750\n",
    "duty_cycle = 0.5\n",
    "\n",
    "# No:of activity cycles we want to simulate\n",
    "n_activity_cycles = 10\n",
    "# Total simulation time\n",
    "Tf = activity_timescale*n_activity_cycles\n",
    "\n",
    "# Total simulation time\n",
    "# No:of time points saved\n",
    "time_step_save = 20\n",
    "Npts = int(Tf/time_step_save)\n",
    "\n",
    "\n",
    "bc = {0:'clamped', -1:'free'} # Filament BCs\n",
    "\n",
    "DIMS = 3\n",
    "Np = 32\n",
    "radius = 1\n",
    "b0 = 2.1*radius\n",
    "k = 25\n",
    "S0 = 0\n",
    "D0 = 1.5\n",
    "\n",
    "# Filament activity sweep\n",
    "fil = activeFilament(dim = 3, Np = 32, radius = radius, b0 = 2.1*radius, k = 100, S0 = 0, \n",
    "    D0 = parameter, bc = bc)\n",
    "\n",
    "fil.simulate(Tf, Npts, n_cycles = n_activity_cycles, save = True, overwrite = False, path = root_path, sim_type = 'point', \n",
    "init_condition = {'shape':'line'}, \n",
    "activity={'type':'square-wave','activity_timescale':activity_timescale, 'duty_cycle':duty_cycle, 'start phase':0})\n"
   ]
  },
  {
   "cell_type": "code",
   "execution_count": null,
   "id": "modified-border",
   "metadata": {},
   "outputs": [],
   "source": [
    "# Run a filament simulation to first generate different filament shapes\n",
    "# No:of activity cycles we want to simulate\n",
    "n_activity_cycles = 10\n",
    "# Total simulation time\n",
    "Tf = fil.activity_timescale*n_activity_cycles\n",
    "\n",
    "# activity_timescale = 1000\n",
    "\n",
    "# Total simulation time\n",
    "# No:of time points saved\n",
    "time_step_save = 20\n",
    "Npts = int(Tf/time_step_save)\n",
    "\n",
    "bc = {0:'clamped', -1:'free'}\n",
    "\n",
    "dim = fil.dim\n",
    "Np = fil.Np\n",
    "radius = fil.radius\n",
    "b0 = fil.b0\n",
    "k = fil.k\n",
    "S0 = fil.S0\n",
    "D0 = fil.D0\n",
    "activity_timescale = fil.activity_timescale"
   ]
  }
 ],
 "metadata": {
  "kernelspec": {
   "display_name": "Python 3",
   "language": "python",
   "name": "python3"
  },
  "language_info": {
   "codemirror_mode": {
    "name": "ipython",
    "version": 3
   },
   "file_extension": ".py",
   "mimetype": "text/x-python",
   "name": "python",
   "nbconvert_exporter": "python",
   "pygments_lexer": "ipython3",
   "version": "3.6.10"
  }
 },
 "nbformat": 4,
 "nbformat_minor": 5
}
