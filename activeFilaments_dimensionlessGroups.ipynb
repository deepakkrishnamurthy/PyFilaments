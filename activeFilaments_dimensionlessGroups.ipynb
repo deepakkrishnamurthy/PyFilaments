{
 "cells": [
  {
   "cell_type": "markdown",
   "id": "brave-kenya",
   "metadata": {},
   "source": [
    "# Calculate dimensionless groups and scaling analysis for active filaments"
   ]
  },
  {
   "cell_type": "code",
   "execution_count": 27,
   "id": "least-decade",
   "metadata": {},
   "outputs": [],
   "source": [
    "import numpy as np\n",
    "from scipy import signal\n",
    "from scipy import interpolate\n",
    "import matplotlib.pyplot as plt \n",
    "import os\n",
    "from pyfilaments.activeFilaments import activeFilament\n",
    "\n",
    "%matplotlib notebook\n",
    "\n",
    "a = 1\n",
    "b0 = 4*a\n",
    "Np = 32\n",
    "mu = 1/6.0\n",
    "k = 100 # Spring constant\n",
    "d0 = 1.5 # Activity strength (potential dipole)\n",
    "\n"
   ]
  },
  {
   "cell_type": "code",
   "execution_count": 28,
   "id": "renewable-collect",
   "metadata": {},
   "outputs": [],
   "source": [
    "# Create an active filament object with above parameters\n",
    "fil = activeFilament(dim = 3, Np = Np, radius = a, b0 = b0, k = k, S0 = 0, D0 = d0)\n"
   ]
  },
  {
   "cell_type": "code",
   "execution_count": 29,
   "id": "built-catalyst",
   "metadata": {},
   "outputs": [
    {
     "name": "stdout",
     "output_type": "stream",
     "text": [
      "3\n",
      "[25. 25. 25. 25. 25. 25. 25. 25. 25. 25. 25. 25. 25. 25. 25. 25. 25. 25.\n",
      " 25. 25. 25. 25. 25. 25. 25. 25. 25. 25. 25. 25. 25. 25.]\n"
     ]
    }
   ],
   "source": [
    "import pyfilaments.analysisutils as analysis\n",
    "import imp\n",
    "imp.reload(analysis)\n",
    "filament_analysis = analysis.analysisTools(filament = fil)"
   ]
  },
  {
   "cell_type": "code",
   "execution_count": 30,
   "id": "acceptable-incident",
   "metadata": {},
   "outputs": [
    {
     "name": "stdout",
     "output_type": "stream",
     "text": [
      "**************************************************\n",
      "Time-scales\n",
      "**************************************************\n",
      "Stretch relzation time: 0.21\n",
      "Bend relaxation time: 394035.63\n",
      "Active motility time-scale: 0.67\n",
      "**************************************************\n",
      "**************************************************\n",
      "Dimensionless numbers\n",
      "**************************************************\n",
      "Force per unit lenth due to activity: 0.00202\n",
      "Activity number: 38.44\n",
      "**************************************************\n"
     ]
    }
   ],
   "source": [
    "filament_analysis.relaxation_time_scales()\n",
    "filament_analysis.compute_dimensionless_groups()"
   ]
  },
  {
   "cell_type": "code",
   "execution_count": null,
   "id": "knowing-testing",
   "metadata": {},
   "outputs": [],
   "source": []
  }
 ],
 "metadata": {
  "kernelspec": {
   "display_name": "Python 3",
   "language": "python",
   "name": "python3"
  },
  "language_info": {
   "codemirror_mode": {
    "name": "ipython",
    "version": 3
   },
   "file_extension": ".py",
   "mimetype": "text/x-python",
   "name": "python",
   "nbconvert_exporter": "python",
   "pygments_lexer": "ipython3",
   "version": "3.6.10"
  }
 },
 "nbformat": 4,
 "nbformat_minor": 5
}
