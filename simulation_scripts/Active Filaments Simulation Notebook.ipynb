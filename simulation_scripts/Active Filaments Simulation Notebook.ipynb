{
 "cells": [
  {
   "cell_type": "markdown",
   "id": "beautiful-wallpaper",
   "metadata": {},
   "source": [
    "# Run Active Filaments Simulations\n",
    "Setup and run an active-filament simulation parametric sweep (using parallelization) and save the data.\n"
   ]
  },
  {
   "cell_type": "code",
   "execution_count": 1,
   "id": "wrong-sacrifice",
   "metadata": {},
   "outputs": [
    {
     "name": "stdout",
     "output_type": "stream",
     "text": [
      "linux system\n"
     ]
    }
   ],
   "source": [
    "import sys\n",
    "if 'init_modules' in globals().keys():\n",
    "    # second or subsequent run: remove all but initially loaded modules\n",
    "    for m in sys.modules.keys():\n",
    "        if m not in init_modules:\n",
    "            del(sys.modules[m])\n",
    "else:\n",
    "    # first run: find out which modules were initially loaded\n",
    "    init_modules = sys.modules.keys()\n",
    "    \n",
    "import numpy as np\n",
    "from scipy import signal\n",
    "from scipy import interpolate\n",
    "import matplotlib.pyplot as plt \n",
    "from sys import platform\n",
    "from joblib import Parallel, delayed\n",
    "import multiprocessing\n",
    "from tqdm import tqdm\n",
    "\n",
    "from pyfilaments.activeFilaments import activeFilament\n",
    "from pyfilaments._def import *"
   ]
  },
  {
   "cell_type": "code",
   "execution_count": 2,
   "id": "outer-favorite",
   "metadata": {},
   "outputs": [],
   "source": [
    "# Function definitions\n",
    "\n",
    "def run_parametric_simulation(parameter_to_vary, parameter_value, activity_parameters, \n",
    "                              Tf, Npts, spatial_activity_type):\n",
    "    \n",
    "    # Build a key-word dictionary that can be passed to the Active filament class\n",
    "    kwargs = {'dim':DIMS, 'Np':NP,'radius':RADIUS, 'b0':B0, 'k':K, 'S0':S0, 'D0':D0, 'bc':BC}\n",
    "    \n",
    "    if parameter_to_vary == 'activity time scale':\n",
    "        # If the activity time-scale is changing, recalculate some variables\n",
    "        activity_timescale = parameter_value\n",
    "        Tf = activity_timescale*N_CYCLES\n",
    "        Npts = int(Tf/DELTA_T) # No:of time points saved\n",
    "        activity_parameters[parameter_to_vary] = parameter_value\n",
    "        \n",
    "    else:\n",
    "        # Set the parameter that is being varied (non activity time scale related parameters)\n",
    "        kwargs[parameter_to_vary] = parameter_value\n",
    "        \n",
    "        \n",
    "    # Initialize the activeFilament class based on these parameter values\n",
    "    active_filament = activeFilament(**kwargs)\n",
    "    \n",
    "    # Run the filament simulation\n",
    "    active_filament.simulate(Tf, Npts,  save = True, overwrite = False, \n",
    "                            path = ROOT_PATH, sim_type = spatial_activity_type, init_condition = INIT_SHAPE, \n",
    "                            activity= activity_parameters)"
   ]
  },
  {
   "cell_type": "markdown",
   "id": "blond-poetry",
   "metadata": {},
   "source": [
    "## Filament parameters (common)"
   ]
  },
  {
   "cell_type": "code",
   "execution_count": 3,
   "id": "ultimate-cleaner",
   "metadata": {},
   "outputs": [],
   "source": [
    "#-------------------------------------------------------------\n",
    "# Filament parameters (common to all kinds of simulations)\n",
    "#-------------------------------------------------------------\n",
    "# No:of colloids\n",
    "NP = 32 \n",
    "# Potential Dipole strength\n",
    "D0 = 1.5 \n",
    "\n",
    "N_CYCLES = 50\n",
    "\n",
    "DELTA_T = 5 # This is roughly 4X the axial stretch time-scale which is the smallest time-scale in the dynamics\n",
    "\n",
    "# Relative duration of compression to total cycle duration\n",
    "DUTY_CYCLE = 0.5 \n",
    "\n",
    "# Start phase of the activity cycle\n",
    "START_PHASE = 0\n",
    "\n",
    "# Default activity timescale\n",
    "activity_timescale = 750\n",
    "\n",
    "# Default simulation time\n",
    "Tf = activity_timescale*N_CYCLES\n",
    "Npts = int(Tf/DELTA_T) # No:of time points saved\n",
    "\n",
    "# Spatial activity type\n",
    "spatial_activity_type = 'lacry' # Spatial activity distribution type\n",
    "\n",
    "assert spatial_activity_type in SPATIAL_ACTIVITY_TYPES, 'Spatial Activity type not supported'\n",
    "\n",
    "# Temporal activity type\n",
    "temporal_activity_type = 'square-wave' # Choose from 'square-wave', 'biphasic', 'normal' and 'lognormal'\n",
    "\n",
    "assert temporal_activity_type in TEMPORAL_ACTIVITY_TYPES , 'Activity type not supported'\n",
    "\n"
   ]
  },
  {
   "cell_type": "markdown",
   "id": "limiting-inside",
   "metadata": {},
   "source": [
    "# Run one of the cells below (A-D) to define a temporal activity profile for the simulations"
   ]
  },
  {
   "cell_type": "markdown",
   "id": "friendly-shoot",
   "metadata": {},
   "source": [
    "## (A) Deterministic/Square-wave activity"
   ]
  },
  {
   "cell_type": "code",
   "execution_count": 4,
   "id": "brazilian-terror",
   "metadata": {},
   "outputs": [],
   "source": [
    "# Square-wave (deterministic) activity (Uncomment below)\n",
    "# activity_parameters = {'type':'square-wave','activity time scale':activity_timescale, 'duty_cycle':DUTY_CYCLE, \n",
    "#                         'start phase':START_PHASE}\n",
    "\n",
    "# Constant compressive activity\n",
    "DUTY_CYCLE = 1.0\n",
    "\n",
    "activity_parameters = {'type':'square-wave','activity time scale':activity_timescale, 'duty_cycle':DUTY_CYCLE, \n",
    "                        'start phase':START_PHASE}"
   ]
  },
  {
   "cell_type": "markdown",
   "id": "complimentary-senior",
   "metadata": {},
   "source": [
    "## (B) Biphasic activity"
   ]
  },
  {
   "cell_type": "code",
   "execution_count": null,
   "id": "referenced-delay",
   "metadata": {},
   "outputs": [],
   "source": [
    "# Biphasic activity (Uncomment below)\n",
    "slow_timescale = 750\n",
    "fast_timescale = 250\n",
    "n_slow_cycles = 1\n",
    "n_fast_cycles = 3\n",
    "n_activity_cycles = 10 # No:of activity cycles we want to simulate (for biphasic activity this is the number of slow and fast cycles)\n",
    "Tf = n_activity_cycles*(n_slow_cycles*slow_timescale+n_fast_cycles*fast_timescale)\n",
    "time_step_save = 5 # This is roughly 4X the axial screate_save_foldertretch time-scale which is the smallest time-scale in the dynamics\n",
    "Npts = int(Tf/time_step_save) # No:of time points saved\n",
    "activity_parameters = {'type':'biphasic','activity time scale':{'slow':slow_timescale, 'fast':fast_timescale}, \n",
    "                       'duty_cycle':0.5,'N_cycles':{'slow':n_slow_cycles, 'fast':n_fast_cycles}, \n",
    "                       'start_state':'slow', 'start phase':START_PHASE}"
   ]
  },
  {
   "cell_type": "markdown",
   "id": "valuable-termination",
   "metadata": {},
   "source": [
    "## (C) Lognormal activity"
   ]
  },
  {
   "cell_type": "code",
   "execution_count": 26,
   "id": "known-newfoundland",
   "metadata": {},
   "outputs": [],
   "source": [
    "# Lognormal distributed activity times\n",
    "activity_parameters = {'type':'lognormal','activity time scale':activity_timescale,\n",
    "                    'sigma extension':SIGMA_EXT, 'sigma compression':SIGMA_COMP, \n",
    "                    'n_cycles':N_CYCLES}"
   ]
  },
  {
   "cell_type": "markdown",
   "id": "economic-annual",
   "metadata": {},
   "source": [
    "## (D) Normally distributed activity"
   ]
  },
  {
   "cell_type": "code",
   "execution_count": null,
   "id": "ordinary-learning",
   "metadata": {},
   "outputs": [],
   "source": [
    "# Normally distributed activity times\n",
    "activity_parameters={'type':'normal','activity time scale':activity_timescale, \n",
    "'n_cycles': N_CYCLES, 'duty_cycle':DUTY_CYCLE, 'noise_scale':0.20}"
   ]
  },
  {
   "cell_type": "markdown",
   "id": "homeless-wedding",
   "metadata": {},
   "source": [
    "## Run a Batch Simulation"
   ]
  },
  {
   "cell_type": "code",
   "execution_count": 5,
   "id": "touched-collect",
   "metadata": {},
   "outputs": [
    {
     "name": "stdout",
     "output_type": "stream",
     "text": [
      "[0.1        0.17222222 0.24444444 0.31666667 0.38888889 0.46111111\n",
      " 0.53333333 0.60555556 0.67777778 0.75      ]\n",
      "No:of detected cores: 16\n"
     ]
    },
    {
     "name": "stderr",
     "output_type": "stream",
     "text": [
      "[Parallel(n_jobs=16)]: Using backend LokyBackend with 16 concurrent workers.\n",
      "[Parallel(n_jobs=16)]: Done   3 out of  10 | elapsed:  2.2min remaining:  5.2min\n",
      "[Parallel(n_jobs=16)]: Done   5 out of  10 | elapsed:  2.3min remaining:  2.3min\n",
      "[Parallel(n_jobs=16)]: Done   7 out of  10 | elapsed:  2.5min remaining:  1.1min\n",
      "[Parallel(n_jobs=16)]: Done  10 out of  10 | elapsed:  3.0min finished\n"
     ]
    }
   ],
   "source": [
    "# Setup and run parallel simulation batch\n",
    "parameter_to_vary = 'D0'\n",
    "\n",
    "assert parameter_to_vary in PARAMETERS, \"Not a valid parameter for filament simulations\"\n",
    "\n",
    "parameter_values = np.linspace(0.1, 0.75, 10)\n",
    "# parameter_values = [100, 200]\n",
    "\n",
    "N_IC = 1 # No:of initial conditions to simulate at a given parameter value\n",
    "\n",
    "parameter_list_full = []\n",
    "\n",
    "for ii in range(N_IC):\n",
    "    parameter_list_full.append(parameter_values)\n",
    "\n",
    "parameter_list_full = np.array(parameter_list_full).flatten()\n",
    "\n",
    "print(parameter_list_full)\n",
    "\n",
    "num_cores = multiprocessing.cpu_count()\n",
    "\n",
    "print(\"No:of detected cores: {}\".format(num_cores))\n",
    "\n",
    "results = Parallel(n_jobs = num_cores, verbose=10) \\\n",
    "        (delayed(run_parametric_simulation)(parameter_to_vary, value, activity_parameters, Tf, Npts, spatial_activity_type) for pid, value in enumerate(parameter_list_full))"
   ]
  },
  {
   "cell_type": "code",
   "execution_count": 3,
   "id": "comparable-component",
   "metadata": {},
   "outputs": [
    {
     "data": {
      "text/plain": [
       "{'shape': 'line'}"
      ]
     },
     "execution_count": 3,
     "metadata": {},
     "output_type": "execute_result"
    }
   ],
   "source": [
    "INIT_SHAPE"
   ]
  },
  {
   "cell_type": "code",
   "execution_count": null,
   "id": "cognitive-group",
   "metadata": {},
   "outputs": [],
   "source": []
  }
 ],
 "metadata": {
  "kernelspec": {
   "display_name": "Python 3",
   "language": "python",
   "name": "python3"
  },
  "language_info": {
   "codemirror_mode": {
    "name": "ipython",
    "version": 3
   },
   "file_extension": ".py",
   "mimetype": "text/x-python",
   "name": "python",
   "nbconvert_exporter": "python",
   "pygments_lexer": "ipython3",
   "version": "3.6.10"
  }
 },
 "nbformat": 4,
 "nbformat_minor": 5
}
