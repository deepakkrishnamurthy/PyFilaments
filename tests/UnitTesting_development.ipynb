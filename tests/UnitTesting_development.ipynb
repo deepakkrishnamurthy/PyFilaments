{
 "cells": [
  {
   "cell_type": "code",
   "execution_count": 18,
   "id": "improved-editing",
   "metadata": {},
   "outputs": [],
   "source": [
    "\n",
    "import sys\n",
    "import unittest\n",
    "import inspect\n",
    "from numpy.testing import assert_allclose\n",
    "import numpy as np\n",
    "import scipy as sp\n",
    "from pyfilaments.activeFilaments import activeFilament\n",
    "from pyfilaments import analysisutils\n",
    "\n",
    "Tolerance = 1E-8\n",
    "DIMS = 3"
   ]
  },
  {
   "cell_type": "code",
   "execution_count": 11,
   "id": "primary-plumbing",
   "metadata": {},
   "outputs": [
    {
     "ename": "AttributeError",
     "evalue": "type object 'FilamentOperationsTest' has no attribute 'test_connection_forces'",
     "output_type": "error",
     "traceback": [
      "\u001b[0;31m---------------------------------------------------------------------------\u001b[0m",
      "\u001b[0;31mAttributeError\u001b[0m                            Traceback (most recent call last)",
      "\u001b[0;32m<ipython-input-11-bcc58931b70a>\u001b[0m in \u001b[0;36m<module>\u001b[0;34m\u001b[0m\n\u001b[0;32m----> 1\u001b[0;31m \u001b[0mFilamentOperationsTest\u001b[0m\u001b[0;34m.\u001b[0m\u001b[0mtest_connection_forces\u001b[0m\u001b[0;34m(\u001b[0m\u001b[0;34m)\u001b[0m\u001b[0;34m\u001b[0m\u001b[0;34m\u001b[0m\u001b[0m\n\u001b[0m",
      "\u001b[0;31mAttributeError\u001b[0m: type object 'FilamentOperationsTest' has no attribute 'test_connection_forces'"
     ]
    }
   ],
   "source": []
  },
  {
   "cell_type": "code",
   "execution_count": 19,
   "id": "aeb10bca",
   "metadata": {},
   "outputs": [],
   "source": [
    "def test_connection_forces():\n",
    "    '''\n",
    "    test that all internal connection forces sum to zero\n",
    "    '''\n",
    "    bc = {0:'free', -1:'free'}\n",
    "    Np = 64\n",
    "    fil = activeFilament(dim = DIMS, Np = Np, radius = 1, b0 = 4, k = 100, S0 = 0, D0 = 0, bc = bc)\n",
    "    fil.get_separation_vectors()\n",
    "\n",
    "    fil.filament.connection_forces(fil.dr, fil.dr_hat, fil.F_conn)\n",
    "\n",
    "    F_sum = np.zeros(DIMS)\n",
    "    for ii in range(DIMS):\n",
    "        F_sum[ii] = np.sum(fil.F_conn[ii*Np:(ii+1)*Np])\n",
    "\n",
    "    print(F_sum)\n",
    "\n",
    "#     self.assertTrue((np.asarray(F_sum) < Tolerance).all(),\n",
    "#                    \"Internal connection forces don't sum to zero!\")"
   ]
  },
  {
   "cell_type": "code",
   "execution_count": 20,
   "id": "a9e19a5a",
   "metadata": {},
   "outputs": [
    {
     "name": "stdout",
     "output_type": "stream",
     "text": [
      "[nan nan nan]\n"
     ]
    },
    {
     "name": "stderr",
     "output_type": "stream",
     "text": [
      "/Users/deepak/PyFilaments/pyfilaments/activeFilaments.py:212: RuntimeWarning: invalid value encountered in true_divide\n",
      "  self.dx_hat = self.dx/self.dr\n",
      "/Users/deepak/PyFilaments/pyfilaments/activeFilaments.py:213: RuntimeWarning: invalid value encountered in true_divide\n",
      "  self.dy_hat = self.dy/self.dr\n",
      "/Users/deepak/PyFilaments/pyfilaments/activeFilaments.py:214: RuntimeWarning: invalid value encountered in true_divide\n",
      "  self.dz_hat = self.dz/self.dr\n"
     ]
    }
   ],
   "source": [
    "test_connection_forces()"
   ]
  },
  {
   "cell_type": "code",
   "execution_count": null,
   "id": "0c2a9bda",
   "metadata": {},
   "outputs": [],
   "source": []
  }
 ],
 "metadata": {
  "kernelspec": {
   "display_name": "Python 3",
   "language": "python",
   "name": "python3"
  },
  "language_info": {
   "codemirror_mode": {
    "name": "ipython",
    "version": 3
   },
   "file_extension": ".py",
   "mimetype": "text/x-python",
   "name": "python",
   "nbconvert_exporter": "python",
   "pygments_lexer": "ipython3",
   "version": "3.6.13"
  }
 },
 "nbformat": 4,
 "nbformat_minor": 5
}
