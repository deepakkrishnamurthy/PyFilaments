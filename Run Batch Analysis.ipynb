{
 "cells": [
  {
   "cell_type": "markdown",
   "id": "joint-briefing",
   "metadata": {},
   "source": [
    "# Run analysis on multiple files"
   ]
  },
  {
   "cell_type": "code",
   "execution_count": 8,
   "id": "domestic-belize",
   "metadata": {},
   "outputs": [],
   "source": [
    "import numpy as np\n",
    "import pandas as pd\n",
    "from scipy import signal\n",
    "from scipy import interpolate\n",
    "import matplotlib.pyplot as plt \n",
    "import os\n",
    "import pyfilaments.analysisutils as analysis\n",
    "from tqdm import tqdm\n",
    "\n",
    "from joblib import Parallel, delayed\n",
    "import multiprocessing"
   ]
  },
  {
   "cell_type": "code",
   "execution_count": 17,
   "id": "linear-vietnamese",
   "metadata": {},
   "outputs": [
    {
     "name": "stdout",
     "output_type": "stream",
     "text": [
      "['2021-08-16', '2021-08-15_new']\n",
      "Simulation files:  ['/home/deepak/ActiveFilamentsSearch_backup_3/ModellingResults/2021-08-16/SimResults_Np_32_Shape_line_kappa_hat_6_k_24.12_b0_2.1_F_0_S_0_D_1.5_activityTime_750_simType_point/SimResults_05.hdf5', '/home/deepak/ActiveFilamentsSearch_backup_3/ModellingResults/2021-08-16/SimResults_Np_32_Shape_line_kappa_hat_6_k_24.12_b0_2.1_F_0_S_0_D_1.5_activityTime_750_simType_point/SimResults_03.hdf5', '/home/deepak/ActiveFilamentsSearch_backup_3/ModellingResults/2021-08-16/SimResults_Np_32_Shape_line_kappa_hat_6_k_24.12_b0_2.1_F_0_S_0_D_1.5_activityTime_750_simType_point/SimResults_02.hdf5', '/home/deepak/ActiveFilamentsSearch_backup_3/ModellingResults/2021-08-16/SimResults_Np_32_Shape_line_kappa_hat_6_k_24.12_b0_2.1_F_0_S_0_D_1.5_activityTime_750_simType_point/SimResults_00.hdf5', '/home/deepak/ActiveFilamentsSearch_backup_3/ModellingResults/2021-08-16/SimResults_Np_32_Shape_line_kappa_hat_6_k_24.12_b0_2.1_F_0_S_0_D_1.5_activityTime_750_simType_point/SimResults_04.hdf5', '/home/deepak/ActiveFilamentsSearch_backup_3/ModellingResults/2021-08-16/SimResults_Np_32_Shape_line_kappa_hat_6_k_24.12_b0_2.1_F_0_S_0_D_1.5_activityTime_750_simType_point/SimResults_01.hdf5', '/home/deepak/ActiveFilamentsSearch_backup_3/ModellingResults/2021-08-16/SimResults_Np_32_Shape_line_kappa_hat_6_k_24.09_b0_2.1_F_0_S_0_D_1.5_activityTime_750_simType_point/SimResults_05.hdf5', '/home/deepak/ActiveFilamentsSearch_backup_3/ModellingResults/2021-08-16/SimResults_Np_32_Shape_line_kappa_hat_6_k_24.09_b0_2.1_F_0_S_0_D_1.5_activityTime_750_simType_point/SimResults_03.hdf5', '/home/deepak/ActiveFilamentsSearch_backup_3/ModellingResults/2021-08-16/SimResults_Np_32_Shape_line_kappa_hat_6_k_24.09_b0_2.1_F_0_S_0_D_1.5_activityTime_750_simType_point/SimResults_02.hdf5', '/home/deepak/ActiveFilamentsSearch_backup_3/ModellingResults/2021-08-16/SimResults_Np_32_Shape_line_kappa_hat_6_k_24.09_b0_2.1_F_0_S_0_D_1.5_activityTime_750_simType_point/SimResults_00.hdf5', '/home/deepak/ActiveFilamentsSearch_backup_3/ModellingResults/2021-08-16/SimResults_Np_32_Shape_line_kappa_hat_6_k_24.09_b0_2.1_F_0_S_0_D_1.5_activityTime_750_simType_point/SimResults_04.hdf5', '/home/deepak/ActiveFilamentsSearch_backup_3/ModellingResults/2021-08-16/SimResults_Np_32_Shape_line_kappa_hat_6_k_24.09_b0_2.1_F_0_S_0_D_1.5_activityTime_750_simType_point/SimResults_01.hdf5', '/home/deepak/ActiveFilamentsSearch_backup_3/ModellingResults/2021-08-16/SimResults_Np_32_Shape_line_kappa_hat_6_k_24.08_b0_2.1_F_0_S_0_D_1.5_activityTime_750_simType_point/SimResults_05.hdf5', '/home/deepak/ActiveFilamentsSearch_backup_3/ModellingResults/2021-08-16/SimResults_Np_32_Shape_line_kappa_hat_6_k_24.08_b0_2.1_F_0_S_0_D_1.5_activityTime_750_simType_point/SimResults_03.hdf5', '/home/deepak/ActiveFilamentsSearch_backup_3/ModellingResults/2021-08-16/SimResults_Np_32_Shape_line_kappa_hat_6_k_24.08_b0_2.1_F_0_S_0_D_1.5_activityTime_750_simType_point/SimResults_02.hdf5', '/home/deepak/ActiveFilamentsSearch_backup_3/ModellingResults/2021-08-16/SimResults_Np_32_Shape_line_kappa_hat_6_k_24.08_b0_2.1_F_0_S_0_D_1.5_activityTime_750_simType_point/SimResults_00.hdf5', '/home/deepak/ActiveFilamentsSearch_backup_3/ModellingResults/2021-08-16/SimResults_Np_32_Shape_line_kappa_hat_6_k_24.08_b0_2.1_F_0_S_0_D_1.5_activityTime_750_simType_point/SimResults_04.hdf5', '/home/deepak/ActiveFilamentsSearch_backup_3/ModellingResults/2021-08-16/SimResults_Np_32_Shape_line_kappa_hat_6_k_24.08_b0_2.1_F_0_S_0_D_1.5_activityTime_750_simType_point/SimResults_01.hdf5', '/home/deepak/ActiveFilamentsSearch_backup_3/ModellingResults/2021-08-16/SimResults_Np_32_Shape_line_kappa_hat_6_k_24.1_b0_2.1_F_0_S_0_D_1.5_activityTime_750_simType_point/SimResults_05.hdf5', '/home/deepak/ActiveFilamentsSearch_backup_3/ModellingResults/2021-08-16/SimResults_Np_32_Shape_line_kappa_hat_6_k_24.1_b0_2.1_F_0_S_0_D_1.5_activityTime_750_simType_point/SimResults_03.hdf5', '/home/deepak/ActiveFilamentsSearch_backup_3/ModellingResults/2021-08-16/SimResults_Np_32_Shape_line_kappa_hat_6_k_24.1_b0_2.1_F_0_S_0_D_1.5_activityTime_750_simType_point/SimResults_02.hdf5', '/home/deepak/ActiveFilamentsSearch_backup_3/ModellingResults/2021-08-16/SimResults_Np_32_Shape_line_kappa_hat_6_k_24.1_b0_2.1_F_0_S_0_D_1.5_activityTime_750_simType_point/SimResults_00.hdf5', '/home/deepak/ActiveFilamentsSearch_backup_3/ModellingResults/2021-08-16/SimResults_Np_32_Shape_line_kappa_hat_6_k_24.1_b0_2.1_F_0_S_0_D_1.5_activityTime_750_simType_point/SimResults_04.hdf5', '/home/deepak/ActiveFilamentsSearch_backup_3/ModellingResults/2021-08-16/SimResults_Np_32_Shape_line_kappa_hat_6_k_24.1_b0_2.1_F_0_S_0_D_1.5_activityTime_750_simType_point/SimResults_01.hdf5', '/home/deepak/ActiveFilamentsSearch_backup_3/ModellingResults/2021-08-16/SimResults_Np_32_Shape_line_kappa_hat_6_k_24.11_b0_2.1_F_0_S_0_D_1.5_activityTime_750_simType_point/SimResults_05.hdf5', '/home/deepak/ActiveFilamentsSearch_backup_3/ModellingResults/2021-08-16/SimResults_Np_32_Shape_line_kappa_hat_6_k_24.11_b0_2.1_F_0_S_0_D_1.5_activityTime_750_simType_point/SimResults_03.hdf5', '/home/deepak/ActiveFilamentsSearch_backup_3/ModellingResults/2021-08-16/SimResults_Np_32_Shape_line_kappa_hat_6_k_24.11_b0_2.1_F_0_S_0_D_1.5_activityTime_750_simType_point/SimResults_02.hdf5', '/home/deepak/ActiveFilamentsSearch_backup_3/ModellingResults/2021-08-16/SimResults_Np_32_Shape_line_kappa_hat_6_k_24.11_b0_2.1_F_0_S_0_D_1.5_activityTime_750_simType_point/SimResults_00.hdf5', '/home/deepak/ActiveFilamentsSearch_backup_3/ModellingResults/2021-08-16/SimResults_Np_32_Shape_line_kappa_hat_6_k_24.11_b0_2.1_F_0_S_0_D_1.5_activityTime_750_simType_point/SimResults_04.hdf5', '/home/deepak/ActiveFilamentsSearch_backup_3/ModellingResults/2021-08-16/SimResults_Np_32_Shape_line_kappa_hat_6_k_24.11_b0_2.1_F_0_S_0_D_1.5_activityTime_750_simType_point/SimResults_01.hdf5', '/home/deepak/ActiveFilamentsSearch_backup_3/ModellingResults/2021-08-15_new/SimResults_Np_32_Shape_line_kappa_hat_6_k_24.2_b0_2.1_F_0_S_0_D_1.5_activityTime_750_simType_point/SimResults_02.hdf5', '/home/deepak/ActiveFilamentsSearch_backup_3/ModellingResults/2021-08-15_new/SimResults_Np_32_Shape_line_kappa_hat_6_k_24.2_b0_2.1_F_0_S_0_D_1.5_activityTime_750_simType_point/SimResults_00.hdf5', '/home/deepak/ActiveFilamentsSearch_backup_3/ModellingResults/2021-08-15_new/SimResults_Np_32_Shape_line_kappa_hat_6_k_24.2_b0_2.1_F_0_S_0_D_1.5_activityTime_750_simType_point/SimResults_01.hdf5', '/home/deepak/ActiveFilamentsSearch_backup_3/ModellingResults/2021-08-15_new/SimResults_Np_32_Shape_line_kappa_hat_6_k_24.18_b0_2.1_F_0_S_0_D_1.5_activityTime_750_simType_point/SimResults_02.hdf5', '/home/deepak/ActiveFilamentsSearch_backup_3/ModellingResults/2021-08-15_new/SimResults_Np_32_Shape_line_kappa_hat_6_k_24.18_b0_2.1_F_0_S_0_D_1.5_activityTime_750_simType_point/SimResults_00.hdf5', '/home/deepak/ActiveFilamentsSearch_backup_3/ModellingResults/2021-08-15_new/SimResults_Np_32_Shape_line_kappa_hat_6_k_24.18_b0_2.1_F_0_S_0_D_1.5_activityTime_750_simType_point/SimResults_01.hdf5', '/home/deepak/ActiveFilamentsSearch_backup_3/ModellingResults/2021-08-15_new/SimResults_Np_32_Shape_line_kappa_hat_6_k_24.02_b0_2.1_F_0_S_0_D_1.5_activityTime_750_simType_point/SimResults_02.hdf5', '/home/deepak/ActiveFilamentsSearch_backup_3/ModellingResults/2021-08-15_new/SimResults_Np_32_Shape_line_kappa_hat_6_k_24.02_b0_2.1_F_0_S_0_D_1.5_activityTime_750_simType_point/SimResults_00.hdf5', '/home/deepak/ActiveFilamentsSearch_backup_3/ModellingResults/2021-08-15_new/SimResults_Np_32_Shape_line_kappa_hat_6_k_24.02_b0_2.1_F_0_S_0_D_1.5_activityTime_750_simType_point/SimResults_01.hdf5', '/home/deepak/ActiveFilamentsSearch_backup_3/ModellingResults/2021-08-15_new/SimResults_Np_32_Shape_line_kappa_hat_6_k_24.09_b0_2.1_F_0_S_0_D_1.5_activityTime_750_simType_point/SimResults_02.hdf5', '/home/deepak/ActiveFilamentsSearch_backup_3/ModellingResults/2021-08-15_new/SimResults_Np_32_Shape_line_kappa_hat_6_k_24.09_b0_2.1_F_0_S_0_D_1.5_activityTime_750_simType_point/SimResults_00.hdf5', '/home/deepak/ActiveFilamentsSearch_backup_3/ModellingResults/2021-08-15_new/SimResults_Np_32_Shape_line_kappa_hat_6_k_24.09_b0_2.1_F_0_S_0_D_1.5_activityTime_750_simType_point/SimResults_01.hdf5', '/home/deepak/ActiveFilamentsSearch_backup_3/ModellingResults/2021-08-15_new/SimResults_Np_32_Shape_line_kappa_hat_6_k_24.13_b0_2.1_F_0_S_0_D_1.5_activityTime_750_simType_point/SimResults_02.hdf5', '/home/deepak/ActiveFilamentsSearch_backup_3/ModellingResults/2021-08-15_new/SimResults_Np_32_Shape_line_kappa_hat_6_k_24.13_b0_2.1_F_0_S_0_D_1.5_activityTime_750_simType_point/SimResults_00.hdf5', '/home/deepak/ActiveFilamentsSearch_backup_3/ModellingResults/2021-08-15_new/SimResults_Np_32_Shape_line_kappa_hat_6_k_24.13_b0_2.1_F_0_S_0_D_1.5_activityTime_750_simType_point/SimResults_01.hdf5', '/home/deepak/ActiveFilamentsSearch_backup_3/ModellingResults/2021-08-15_new/SimResults_Np_32_Shape_line_kappa_hat_6_k_24.11_b0_2.1_F_0_S_0_D_1.5_activityTime_750_simType_point/SimResults_02.hdf5', '/home/deepak/ActiveFilamentsSearch_backup_3/ModellingResults/2021-08-15_new/SimResults_Np_32_Shape_line_kappa_hat_6_k_24.11_b0_2.1_F_0_S_0_D_1.5_activityTime_750_simType_point/SimResults_00.hdf5', '/home/deepak/ActiveFilamentsSearch_backup_3/ModellingResults/2021-08-15_new/SimResults_Np_32_Shape_line_kappa_hat_6_k_24.11_b0_2.1_F_0_S_0_D_1.5_activityTime_750_simType_point/SimResults_01.hdf5', '/home/deepak/ActiveFilamentsSearch_backup_3/ModellingResults/2021-08-15_new/SimResults_Np_32_Shape_line_kappa_hat_6_k_24.07_b0_2.1_F_0_S_0_D_1.5_activityTime_750_simType_point/SimResults_02.hdf5', '/home/deepak/ActiveFilamentsSearch_backup_3/ModellingResults/2021-08-15_new/SimResults_Np_32_Shape_line_kappa_hat_6_k_24.07_b0_2.1_F_0_S_0_D_1.5_activityTime_750_simType_point/SimResults_00.hdf5', '/home/deepak/ActiveFilamentsSearch_backup_3/ModellingResults/2021-08-15_new/SimResults_Np_32_Shape_line_kappa_hat_6_k_24.07_b0_2.1_F_0_S_0_D_1.5_activityTime_750_simType_point/SimResults_01.hdf5', '/home/deepak/ActiveFilamentsSearch_backup_3/ModellingResults/2021-08-15_new/SimResults_Np_32_Shape_line_kappa_hat_6_k_24.04_b0_2.1_F_0_S_0_D_1.5_activityTime_750_simType_point/SimResults_02.hdf5', '/home/deepak/ActiveFilamentsSearch_backup_3/ModellingResults/2021-08-15_new/SimResults_Np_32_Shape_line_kappa_hat_6_k_24.04_b0_2.1_F_0_S_0_D_1.5_activityTime_750_simType_point/SimResults_00.hdf5', '/home/deepak/ActiveFilamentsSearch_backup_3/ModellingResults/2021-08-15_new/SimResults_Np_32_Shape_line_kappa_hat_6_k_24.04_b0_2.1_F_0_S_0_D_1.5_activityTime_750_simType_point/SimResults_01.hdf5', '/home/deepak/ActiveFilamentsSearch_backup_3/ModellingResults/2021-08-15_new/SimResults_Np_32_Shape_line_kappa_hat_6_k_24.16_b0_2.1_F_0_S_0_D_1.5_activityTime_750_simType_point/SimResults_02.hdf5', '/home/deepak/ActiveFilamentsSearch_backup_3/ModellingResults/2021-08-15_new/SimResults_Np_32_Shape_line_kappa_hat_6_k_24.16_b0_2.1_F_0_S_0_D_1.5_activityTime_750_simType_point/SimResults_00.hdf5', '/home/deepak/ActiveFilamentsSearch_backup_3/ModellingResults/2021-08-15_new/SimResults_Np_32_Shape_line_kappa_hat_6_k_24.16_b0_2.1_F_0_S_0_D_1.5_activityTime_750_simType_point/SimResults_01.hdf5']\n"
     ]
    }
   ],
   "source": [
    "# data_folder = '/home/deepak/ActiveFilamentsSearch_backup_3/BendingStiffnessSweeps/analysis_test'\n",
    "# data_folder = '/home/deepak/ActiveFilamentsSearch_backup_3/BendingStiffnessSweeps/b0_2_1_FullSweep_Final'\n",
    "\n",
    "# data_folder = '/home/deepak/ActiveFilamentsSearch_backup_3/FinerResolution_BendingStiffness'\n",
    "# data_folder = '/home/deepak/ActiveFilamentsSearch_backup_3/ModellingResults/2021-06-23'\n",
    "data_folder = '/home/deepak/ActiveFilamentsSearch_backup_3/ModellingResults'\n",
    "# data_folder = '/home/deepak/Dropbox/LacryModeling/ModellingResults/StochasticActivity/NormalDistribution'\n",
    "\n",
    "\n",
    "print(os.listdir(data_folder))\n",
    "\n",
    "# Find all simulation data files and create a list\n",
    "files_list = []\n",
    " # Walk through the folders and identify the simulation data files\n",
    "for dirs, subdirs, files in os.walk(data_folder, topdown=False):\n",
    "\n",
    "    root, subFolderName = os.path.split(dirs)\n",
    "\n",
    "    for fileNames in files:\n",
    "        if(fileNames.endswith('hdf5') and fileNames[0] != '.'):\n",
    "            files_list.append(os.path.join(dirs,fileNames))\n",
    "#         if(fileNames.endswith('hdf5') and fileNames[0] != '.' and fileNames == 'SimResults_00.hdf5'):\n",
    "#             files_list.append(os.path.join(dirs,fileNames))\n",
    "\n",
    "print('Simulation files: ', files_list)\n",
    "\n",
    "def run_filament_analysis(file):\n",
    "    print('Analyzing file ...')\n",
    "    print(file)\n",
    "\n",
    "    filament = analysis.analysisTools(file = file)\n",
    "\n",
    "\n",
    "    root_folder, file_name = os.path.split(file)\n",
    "\n",
    "    # Create a data-packet to save for further analysis\n",
    "    # Collect simulation metadata\n",
    "#     metadata_path = os.path.join(root_folder, 'metadata.csv')\n",
    "#     assert(os.path.exists(metadata_path))\n",
    "#     df = pd.read_csv(metadata_path)\n",
    "    \n",
    "    # @@@ Better to use Metadata from the HDF5 file so there is no possible delinking of data and metadata\n",
    "    df = pd.DataFrame({'N particles':[filament.Np],'radius':[filament.radius],'bond length':[filament.b0],\n",
    "                       'spring constant':[filament.k], 'kappa_hat':[filament.kappa_hat], \n",
    "                       'force strength':[filament.F0], 'stresslet strength':[filament.S0], \n",
    "                       'potDipole strength':[filament.D0], 'simulation type':[filament.sim_type], \n",
    "                       'boundary condition 0':[filament.bc[0]], 'boundary condition 1':[filament.bc[-1]], \n",
    "                       ' activity time scale':[filament.activity_timescale], 'viscosity':[filament.mu]})\n",
    "    \n",
    "    \n",
    "    periodic_flag = None \n",
    "    min_period = None\n",
    "    \n",
    "    filament.filament_tip_coverage(save = True)\n",
    "    # Check if simulation was completed or terminated before completion\n",
    "    if(int(filament.Time[-1]) == int(df[' activity time scale']*500)):\n",
    "        simulation_completed = True\n",
    "        # Classify the dynamics\n",
    "        periodic_flag, min_period = filament.classify_filament_dynamics()\n",
    "    else:\n",
    "        simulation_completed = False\n",
    "\n",
    "    df['simulation completed'] = simulation_completed\n",
    "    df['periodic dynamics'] = periodic_flag\n",
    "    df['period'] = min_period\n",
    "    df['max unique locations'] = filament.derived_data['unique position count'][-1]\n",
    "    \n",
    "    save_file = file_name[:-5] + '_analysis.csv'\n",
    "    save_folder = os.path.join(root_folder, 'Analysis')\n",
    "\n",
    "    if(not os.path.exists(save_folder)):\n",
    "        os.makedirs(save_folder)\n",
    "    df.to_csv(os.path.join(save_folder, save_file))\n",
    "\n",
    "\n"
   ]
  },
  {
   "cell_type": "code",
   "execution_count": 18,
   "id": "frozen-timothy",
   "metadata": {},
   "outputs": [
    {
     "name": "stderr",
     "output_type": "stream",
     "text": [
      "  0%|          | 0/57 [00:00<?, ?it/s][Parallel(n_jobs=12)]: Using backend LokyBackend with 12 concurrent workers.\n",
      " 21%|██        | 12/57 [00:00<00:00, 82.03it/s][Parallel(n_jobs=12)]: Done   1 tasks      | elapsed:    8.3s\n",
      " 42%|████▏     | 24/57 [00:08<00:13,  2.47it/s][Parallel(n_jobs=12)]: Done   8 tasks      | elapsed:   15.9s\n",
      " 63%|██████▎   | 36/57 [00:17<00:11,  1.78it/s][Parallel(n_jobs=12)]: Done  17 tasks      | elapsed:   23.9s\n",
      "100%|██████████| 57/57 [00:31<00:00,  1.84it/s]\n",
      "[Parallel(n_jobs=12)]: Done  26 tasks      | elapsed:   31.2s\n",
      "[Parallel(n_jobs=12)]: Done  40 out of  57 | elapsed:   45.4s remaining:   19.3s\n",
      "[Parallel(n_jobs=12)]: Done  46 out of  57 | elapsed:   47.6s remaining:   11.4s\n",
      "[Parallel(n_jobs=12)]: Done  52 out of  57 | elapsed:   53.8s remaining:    5.2s\n",
      "[Parallel(n_jobs=12)]: Done  57 out of  57 | elapsed:   55.5s finished\n"
     ]
    }
   ],
   "source": [
    "num_cores = multiprocessing.cpu_count()\n",
    "\n",
    "num_cores = 12\n",
    "\n",
    "results = Parallel(n_jobs=num_cores,  verbose=10)(delayed(run_filament_analysis)(file) for file in tqdm(files_list))\n"
   ]
  },
  {
   "cell_type": "code",
   "execution_count": null,
   "id": "secret-huntington",
   "metadata": {},
   "outputs": [],
   "source": []
  }
 ],
 "metadata": {
  "kernelspec": {
   "display_name": "Python 3",
   "language": "python",
   "name": "python3"
  },
  "language_info": {
   "codemirror_mode": {
    "name": "ipython",
    "version": 3
   },
   "file_extension": ".py",
   "mimetype": "text/x-python",
   "name": "python",
   "nbconvert_exporter": "python",
   "pygments_lexer": "ipython3",
   "version": "3.6.10"
  }
 },
 "nbformat": 4,
 "nbformat_minor": 5
}
