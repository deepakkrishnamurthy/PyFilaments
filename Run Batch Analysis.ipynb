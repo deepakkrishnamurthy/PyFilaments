{
 "cells": [
  {
   "cell_type": "markdown",
   "id": "joint-briefing",
   "metadata": {},
   "source": [
    "# Run analysis on multiple files"
   ]
  },
  {
   "cell_type": "code",
   "execution_count": 7,
   "id": "domestic-belize",
   "metadata": {},
   "outputs": [],
   "source": [
    "import numpy as np\n",
    "import pandas as pd\n",
    "from scipy import signal\n",
    "from scipy import interpolate\n",
    "import matplotlib.pyplot as plt \n",
    "import os\n",
    "import pyfilaments.analysisutils as analysis\n",
    "from tqdm import tqdm\n",
    "\n",
    "from joblib import Parallel, delayed\n",
    "import multiprocessing"
   ]
  },
  {
   "cell_type": "code",
   "execution_count": 15,
   "id": "linear-vietnamese",
   "metadata": {},
   "outputs": [
    {
     "name": "stdout",
     "output_type": "stream",
     "text": [
      "['SimResults_Np_32_Shape_line_kappa_hat_6_k_24.89_b0_2.1_F_0_S_0_D_1.5_activityTime_750_simType_point', 'SimResults_Np_32_Shape_line_kappa_hat_6_k_25.0_b0_2.1_F_0_S_0_D_1.5_activityTime_750_simType_point', 'SimResults_Np_32_Shape_line_kappa_hat_6_k_24.44_b0_2.1_F_0_S_0_D_1.5_activityTime_750_simType_point', 'SimResults_Np_32_Shape_line_kappa_hat_6_k_24.78_b0_2.1_F_0_S_0_D_1.5_activityTime_750_simType_point', 'SimResults_Np_32_Shape_line_kappa_hat_6_k_24.33_b0_2.1_F_0_S_0_D_1.5_activityTime_750_simType_point', 'SimResults_Np_32_Shape_line_kappa_hat_6_k_24.56_b0_2.1_F_0_S_0_D_1.5_activityTime_750_simType_point', 'SimResults_Np_32_Shape_line_kappa_hat_6_k_24.22_b0_2.1_F_0_S_0_D_1.5_activityTime_750_simType_point', 'SimResults_Np_32_Shape_line_kappa_hat_6_k_24.11_b0_2.1_F_0_S_0_D_1.5_activityTime_750_simType_point', 'SimResults_Np_32_Shape_line_kappa_hat_6_k_24.67_b0_2.1_F_0_S_0_D_1.5_activityTime_750_simType_point', 'SimResults_Np_32_Shape_line_kappa_hat_6_k_24.0_b0_2.1_F_0_S_0_D_1.5_activityTime_750_simType_point']\n",
      "Simulation files:  ['/home/deepak/ActiveFilamentsSearch_backup_3/ModellingResults/2021-06-24/SimResults_Np_32_Shape_line_kappa_hat_6_k_24.89_b0_2.1_F_0_S_0_D_1.5_activityTime_750_simType_point/SimResults_02.hdf5', '/home/deepak/ActiveFilamentsSearch_backup_3/ModellingResults/2021-06-24/SimResults_Np_32_Shape_line_kappa_hat_6_k_24.89_b0_2.1_F_0_S_0_D_1.5_activityTime_750_simType_point/SimResults_00.hdf5', '/home/deepak/ActiveFilamentsSearch_backup_3/ModellingResults/2021-06-24/SimResults_Np_32_Shape_line_kappa_hat_6_k_24.89_b0_2.1_F_0_S_0_D_1.5_activityTime_750_simType_point/SimResults_01.hdf5', '/home/deepak/ActiveFilamentsSearch_backup_3/ModellingResults/2021-06-24/SimResults_Np_32_Shape_line_kappa_hat_6_k_25.0_b0_2.1_F_0_S_0_D_1.5_activityTime_750_simType_point/SimResults_02.hdf5', '/home/deepak/ActiveFilamentsSearch_backup_3/ModellingResults/2021-06-24/SimResults_Np_32_Shape_line_kappa_hat_6_k_25.0_b0_2.1_F_0_S_0_D_1.5_activityTime_750_simType_point/SimResults_00.hdf5', '/home/deepak/ActiveFilamentsSearch_backup_3/ModellingResults/2021-06-24/SimResults_Np_32_Shape_line_kappa_hat_6_k_25.0_b0_2.1_F_0_S_0_D_1.5_activityTime_750_simType_point/SimResults_01.hdf5', '/home/deepak/ActiveFilamentsSearch_backup_3/ModellingResults/2021-06-24/SimResults_Np_32_Shape_line_kappa_hat_6_k_24.44_b0_2.1_F_0_S_0_D_1.5_activityTime_750_simType_point/SimResults_02.hdf5', '/home/deepak/ActiveFilamentsSearch_backup_3/ModellingResults/2021-06-24/SimResults_Np_32_Shape_line_kappa_hat_6_k_24.44_b0_2.1_F_0_S_0_D_1.5_activityTime_750_simType_point/SimResults_00.hdf5', '/home/deepak/ActiveFilamentsSearch_backup_3/ModellingResults/2021-06-24/SimResults_Np_32_Shape_line_kappa_hat_6_k_24.44_b0_2.1_F_0_S_0_D_1.5_activityTime_750_simType_point/SimResults_01.hdf5', '/home/deepak/ActiveFilamentsSearch_backup_3/ModellingResults/2021-06-24/SimResults_Np_32_Shape_line_kappa_hat_6_k_24.78_b0_2.1_F_0_S_0_D_1.5_activityTime_750_simType_point/SimResults_02.hdf5', '/home/deepak/ActiveFilamentsSearch_backup_3/ModellingResults/2021-06-24/SimResults_Np_32_Shape_line_kappa_hat_6_k_24.78_b0_2.1_F_0_S_0_D_1.5_activityTime_750_simType_point/SimResults_00.hdf5', '/home/deepak/ActiveFilamentsSearch_backup_3/ModellingResults/2021-06-24/SimResults_Np_32_Shape_line_kappa_hat_6_k_24.78_b0_2.1_F_0_S_0_D_1.5_activityTime_750_simType_point/SimResults_01.hdf5', '/home/deepak/ActiveFilamentsSearch_backup_3/ModellingResults/2021-06-24/SimResults_Np_32_Shape_line_kappa_hat_6_k_24.33_b0_2.1_F_0_S_0_D_1.5_activityTime_750_simType_point/SimResults_02.hdf5', '/home/deepak/ActiveFilamentsSearch_backup_3/ModellingResults/2021-06-24/SimResults_Np_32_Shape_line_kappa_hat_6_k_24.33_b0_2.1_F_0_S_0_D_1.5_activityTime_750_simType_point/SimResults_00.hdf5', '/home/deepak/ActiveFilamentsSearch_backup_3/ModellingResults/2021-06-24/SimResults_Np_32_Shape_line_kappa_hat_6_k_24.33_b0_2.1_F_0_S_0_D_1.5_activityTime_750_simType_point/SimResults_01.hdf5', '/home/deepak/ActiveFilamentsSearch_backup_3/ModellingResults/2021-06-24/SimResults_Np_32_Shape_line_kappa_hat_6_k_24.56_b0_2.1_F_0_S_0_D_1.5_activityTime_750_simType_point/SimResults_02.hdf5', '/home/deepak/ActiveFilamentsSearch_backup_3/ModellingResults/2021-06-24/SimResults_Np_32_Shape_line_kappa_hat_6_k_24.56_b0_2.1_F_0_S_0_D_1.5_activityTime_750_simType_point/SimResults_00.hdf5', '/home/deepak/ActiveFilamentsSearch_backup_3/ModellingResults/2021-06-24/SimResults_Np_32_Shape_line_kappa_hat_6_k_24.56_b0_2.1_F_0_S_0_D_1.5_activityTime_750_simType_point/SimResults_01.hdf5', '/home/deepak/ActiveFilamentsSearch_backup_3/ModellingResults/2021-06-24/SimResults_Np_32_Shape_line_kappa_hat_6_k_24.22_b0_2.1_F_0_S_0_D_1.5_activityTime_750_simType_point/SimResults_02.hdf5', '/home/deepak/ActiveFilamentsSearch_backup_3/ModellingResults/2021-06-24/SimResults_Np_32_Shape_line_kappa_hat_6_k_24.22_b0_2.1_F_0_S_0_D_1.5_activityTime_750_simType_point/SimResults_00.hdf5', '/home/deepak/ActiveFilamentsSearch_backup_3/ModellingResults/2021-06-24/SimResults_Np_32_Shape_line_kappa_hat_6_k_24.22_b0_2.1_F_0_S_0_D_1.5_activityTime_750_simType_point/SimResults_01.hdf5', '/home/deepak/ActiveFilamentsSearch_backup_3/ModellingResults/2021-06-24/SimResults_Np_32_Shape_line_kappa_hat_6_k_24.11_b0_2.1_F_0_S_0_D_1.5_activityTime_750_simType_point/SimResults_02.hdf5', '/home/deepak/ActiveFilamentsSearch_backup_3/ModellingResults/2021-06-24/SimResults_Np_32_Shape_line_kappa_hat_6_k_24.11_b0_2.1_F_0_S_0_D_1.5_activityTime_750_simType_point/SimResults_00.hdf5', '/home/deepak/ActiveFilamentsSearch_backup_3/ModellingResults/2021-06-24/SimResults_Np_32_Shape_line_kappa_hat_6_k_24.11_b0_2.1_F_0_S_0_D_1.5_activityTime_750_simType_point/SimResults_01.hdf5', '/home/deepak/ActiveFilamentsSearch_backup_3/ModellingResults/2021-06-24/SimResults_Np_32_Shape_line_kappa_hat_6_k_24.67_b0_2.1_F_0_S_0_D_1.5_activityTime_750_simType_point/SimResults_02.hdf5', '/home/deepak/ActiveFilamentsSearch_backup_3/ModellingResults/2021-06-24/SimResults_Np_32_Shape_line_kappa_hat_6_k_24.67_b0_2.1_F_0_S_0_D_1.5_activityTime_750_simType_point/SimResults_00.hdf5', '/home/deepak/ActiveFilamentsSearch_backup_3/ModellingResults/2021-06-24/SimResults_Np_32_Shape_line_kappa_hat_6_k_24.67_b0_2.1_F_0_S_0_D_1.5_activityTime_750_simType_point/SimResults_01.hdf5', '/home/deepak/ActiveFilamentsSearch_backup_3/ModellingResults/2021-06-24/SimResults_Np_32_Shape_line_kappa_hat_6_k_24.0_b0_2.1_F_0_S_0_D_1.5_activityTime_750_simType_point/SimResults_02.hdf5', '/home/deepak/ActiveFilamentsSearch_backup_3/ModellingResults/2021-06-24/SimResults_Np_32_Shape_line_kappa_hat_6_k_24.0_b0_2.1_F_0_S_0_D_1.5_activityTime_750_simType_point/SimResults_00.hdf5', '/home/deepak/ActiveFilamentsSearch_backup_3/ModellingResults/2021-06-24/SimResults_Np_32_Shape_line_kappa_hat_6_k_24.0_b0_2.1_F_0_S_0_D_1.5_activityTime_750_simType_point/SimResults_01.hdf5']\n"
     ]
    }
   ],
   "source": [
    "# data_folder = '/home/deepak/ActiveFilamentsSearch_backup_3/BendingStiffnessSweeps/analysis_test'\n",
    "# data_folder = '/home/deepak/ActiveFilamentsSearch_backup_3/BendingStiffnessSweeps/b0_2_1_FullSweep_Final'\n",
    "\n",
    "# data_folder = '/home/deepak/ActiveFilamentsSearch_backup_3/FinerResolution_BendingStiffness'\n",
    "# data_folder = '/home/deepak/ActiveFilamentsSearch_backup_3/ModellingResults/2021-06-23'\n",
    "data_folder = '/home/deepak/ActiveFilamentsSearch_backup_3/ModellingResults/2021-06-24'\n",
    "# data_folder = '/home/deepak/Dropbox/LacryModeling/ModellingResults/StochasticActivity/NormalDistribution'\n",
    "\n",
    "\n",
    "print(os.listdir(data_folder))\n",
    "\n",
    "# Find all simulation data files and create a list\n",
    "files_list = []\n",
    " # Walk through the folders and identify the simulation data files\n",
    "for dirs, subdirs, files in os.walk(data_folder, topdown=False):\n",
    "\n",
    "    root, subFolderName = os.path.split(dirs)\n",
    "\n",
    "    for fileNames in files:\n",
    "        if(fileNames.endswith('hdf5') and fileNames[0] != '.'):\n",
    "            files_list.append(os.path.join(dirs,fileNames))\n",
    "#         if(fileNames.endswith('hdf5') and fileNames[0] != '.' and fileNames == 'SimResults_00.hdf5'):\n",
    "#             files_list.append(os.path.join(dirs,fileNames))\n",
    "\n",
    "print('Simulation files: ', files_list)\n",
    "\n",
    "def run_filament_analysis(file):\n",
    "    print('Analyzing file ...')\n",
    "    print(file)\n",
    "\n",
    "    filament = analysis.analysisTools(file = file)\n",
    "\n",
    "\n",
    "    root_folder, file_name = os.path.split(file)\n",
    "\n",
    "    # Create a data-packet to save for further analysis\n",
    "    # Collect simulation metadata\n",
    "    metadata_path = os.path.join(root_folder, 'metadata.csv')\n",
    "    assert(os.path.exists(metadata_path))\n",
    "    df = pd.read_csv(metadata_path)\n",
    "    \n",
    "    periodic_flag = None \n",
    "    min_period = None\n",
    "    \n",
    "    filament.filament_tip_coverage(save = True)\n",
    "    # Check if simulation was completed or terminated before completion\n",
    "    if(int(filament.Time[-1]) == int(df[' activity time scale']*500)):\n",
    "        simulation_completed = True\n",
    "        # Classify the dynamics\n",
    "        periodic_flag, min_period = filament.classify_filament_dynamics()\n",
    "    else:\n",
    "        simulation_completed = False\n",
    "\n",
    "    df['simulation completed'] = simulation_completed\n",
    "    df['periodic dynamics'] = periodic_flag\n",
    "    df['period'] = min_period\n",
    "    df['max unique locations'] = filament.derived_data['unique position count'][-1]\n",
    "    \n",
    "    save_file = file_name[:-5] + '_analysis.csv'\n",
    "    save_folder = os.path.join(root_folder, 'Analysis')\n",
    "\n",
    "    if(not os.path.exists(save_folder)):\n",
    "        os.makedirs(save_folder)\n",
    "    df.to_csv(os.path.join(save_folder, save_file))\n",
    "\n",
    "\n"
   ]
  },
  {
   "cell_type": "code",
   "execution_count": 16,
   "id": "frozen-timothy",
   "metadata": {},
   "outputs": [
    {
     "name": "stderr",
     "output_type": "stream",
     "text": [
      "  0%|          | 0/30 [00:00<?, ?it/s][Parallel(n_jobs=12)]: Using backend LokyBackend with 12 concurrent workers.\n",
      " 40%|████      | 12/30 [00:00<00:00, 90.67it/s][Parallel(n_jobs=12)]: Done   1 tasks      | elapsed:    8.2s\n",
      "100%|██████████| 30/30 [00:08<00:00,  3.65it/s]\n",
      "[Parallel(n_jobs=12)]: Done  11 out of  30 | elapsed:   21.2s remaining:   36.6s\n",
      "[Parallel(n_jobs=12)]: Done  15 out of  30 | elapsed:   23.0s remaining:   23.0s\n",
      "[Parallel(n_jobs=12)]: Done  19 out of  30 | elapsed:   24.4s remaining:   14.1s\n",
      "[Parallel(n_jobs=12)]: Done  23 out of  30 | elapsed:   28.4s remaining:    8.6s\n",
      "[Parallel(n_jobs=12)]: Done  27 out of  30 | elapsed:   33.2s remaining:    3.7s\n",
      "[Parallel(n_jobs=12)]: Done  30 out of  30 | elapsed:   34.7s finished\n"
     ]
    }
   ],
   "source": [
    "num_cores = multiprocessing.cpu_count()\n",
    "\n",
    "num_cores = 12\n",
    "\n",
    "results = Parallel(n_jobs=num_cores,  verbose=10)(delayed(run_filament_analysis)(file) for file in tqdm(files_list))\n"
   ]
  },
  {
   "cell_type": "code",
   "execution_count": null,
   "id": "secret-huntington",
   "metadata": {},
   "outputs": [],
   "source": []
  }
 ],
 "metadata": {
  "kernelspec": {
   "display_name": "Python 3",
   "language": "python",
   "name": "python3"
  },
  "language_info": {
   "codemirror_mode": {
    "name": "ipython",
    "version": 3
   },
   "file_extension": ".py",
   "mimetype": "text/x-python",
   "name": "python",
   "nbconvert_exporter": "python",
   "pygments_lexer": "ipython3",
   "version": "3.6.10"
  }
 },
 "nbformat": 4,
 "nbformat_minor": 5
}
