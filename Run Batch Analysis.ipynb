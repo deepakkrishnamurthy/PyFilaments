{
 "cells": [
  {
   "cell_type": "markdown",
   "id": "joint-briefing",
   "metadata": {},
   "source": [
    "# Run analysis on multiple files"
   ]
  },
  {
   "cell_type": "code",
   "execution_count": 22,
   "id": "domestic-belize",
   "metadata": {},
   "outputs": [],
   "source": [
    "import numpy as np\n",
    "import pandas as pd\n",
    "from scipy import signal\n",
    "from scipy import interpolate\n",
    "import matplotlib.pyplot as plt \n",
    "import os\n",
    "import pyfilaments.analysisutils as analysis\n",
    "from tqdm import tqdm\n",
    "\n",
    "from joblib import Parallel, delayed\n",
    "import multiprocessing\n",
    "import h5py"
   ]
  },
  {
   "cell_type": "code",
   "execution_count": 24,
   "id": "linear-vietnamese",
   "metadata": {},
   "outputs": [
    {
     "name": "stderr",
     "output_type": "stream",
     "text": [
      "\r",
      " 79%|███████▉  | 95/120 [23:51:03<6:16:35, 903.83s/it]"
     ]
    },
    {
     "name": "stdout",
     "output_type": "stream",
     "text": [
      "['SimResults_Np_32_Shape_line_kappa_hat_6_k_25_b0_2.1_F_0_S_0_D_1.5256410256410255_activityTime_750_simType_point', 'SimResults_Np_32_Shape_line_kappa_hat_6_k_25_b0_2.1_F_0_S_0_D_1.9102564102564101_activityTime_750_simType_point', 'SimResults_Np_32_Shape_line_kappa_hat_6_k_25_b0_2.1_F_0_S_0_D_1.846153846153846_activityTime_750_simType_point', 'SimResults_Np_32_Shape_line_kappa_hat_6_k_25_b0_2.1_F_0_S_0_D_3.0_activityTime_750_simType_point', 'SimResults_Np_32_Shape_line_kappa_hat_6_k_25_b0_2.1_F_0_S_0_D_2.615384615384615_activityTime_750_simType_point', 'SimResults_Np_32_Shape_line_kappa_hat_6_k_25_b0_2.1_F_0_S_0_D_2.0384615384615383_activityTime_750_simType_point', 'SimResults_Np_32_Shape_line_kappa_hat_6_k_25_b0_2.1_F_0_S_0_D_0.9487179487179487_activityTime_750_simType_point', 'SimResults_Np_32_Shape_line_kappa_hat_6_k_25_b0_2.1_F_0_S_0_D_1.6538461538461537_activityTime_750_simType_point', 'SimResults_Np_32_Shape_line_kappa_hat_6_k_25_b0_2.1_F_0_S_0_D_2.1666666666666665_activityTime_750_simType_point', 'SimResults_Np_32_Shape_line_kappa_hat_6_k_25_b0_2.1_F_0_S_0_D_2.7435897435897436_activityTime_750_simType_point', 'SimResults_Np_32_Shape_line_kappa_hat_6_k_25_b0_2.1_F_0_S_0_D_0.6923076923076923_activityTime_750_simType_point', 'SimResults_Np_32_Shape_line_kappa_hat_6_k_25_b0_2.1_F_0_S_0_D_1.205128205128205_activityTime_750_simType_point', 'SimResults_Np_32_Shape_line_kappa_hat_6_k_25_b0_2.1_F_0_S_0_D_1.4615384615384615_activityTime_750_simType_point', 'SimResults_Np_32_Shape_line_kappa_hat_6_k_25_b0_2.1_F_0_S_0_D_2.102564102564102_activityTime_750_simType_point', 'SimResults_Np_32_Shape_line_kappa_hat_6_k_25_b0_2.1_F_0_S_0_D_2.9358974358974357_activityTime_750_simType_point', 'SimResults_Np_32_Shape_line_kappa_hat_6_k_25_b0_2.1_F_0_S_0_D_1.782051282051282_activityTime_750_simType_point', 'SimResults_Np_32_Shape_line_kappa_hat_6_k_25_b0_2.1_F_0_S_0_D_1.3974358974358974_activityTime_750_simType_point', 'SimResults_Np_32_Shape_line_kappa_hat_6_k_25_b0_2.1_F_0_S_0_D_2.551282051282051_activityTime_750_simType_point', 'SimResults_Np_32_Shape_line_kappa_hat_6_k_25_b0_2.1_F_0_S_0_D_1.3333333333333333_activityTime_750_simType_point', 'SimResults_Np_32_Shape_line_kappa_hat_6_k_25_b0_2.1_F_0_S_0_D_0.7564102564102564_activityTime_750_simType_point', 'SimResults_Np_32_Shape_line_kappa_hat_6_k_25_b0_2.1_F_0_S_0_D_2.3589743589743586_activityTime_750_simType_point', 'SimResults_Np_32_Shape_line_kappa_hat_6_k_25_b0_2.1_F_0_S_0_D_0.8846153846153846_activityTime_750_simType_point', 'SimResults_Np_32_Shape_line_kappa_hat_6_k_25_b0_2.1_F_0_S_0_D_2.423076923076923_activityTime_750_simType_point', 'SimResults_Np_32_Shape_line_kappa_hat_6_k_25_b0_2.1_F_0_S_0_D_0.8205128205128205_activityTime_750_simType_point', 'SimResults_Np_32_Shape_line_kappa_hat_6_k_25_b0_2.1_F_0_S_0_D_1.2692307692307692_activityTime_750_simType_point', 'SimResults_Np_32_Shape_line_kappa_hat_6_k_25_b0_2.1_F_0_S_0_D_2.4871794871794872_activityTime_750_simType_point', 'SimResults_Np_32_Shape_line_kappa_hat_6_k_25_b0_2.1_F_0_S_0_D_2.8076923076923075_activityTime_750_simType_point', 'SimResults_Np_32_Shape_line_kappa_hat_6_k_25_b0_2.1_F_0_S_0_D_2.8717948717948714_activityTime_750_simType_point', 'SimResults_Np_32_Shape_line_kappa_hat_6_k_25_b0_2.1_F_0_S_0_D_0.6282051282051282_activityTime_750_simType_point', 'SimResults_Np_32_Shape_line_kappa_hat_6_k_25_b0_2.1_F_0_S_0_D_2.6794871794871793_activityTime_750_simType_point', 'SimResults_Np_32_Shape_line_kappa_hat_6_k_25_b0_2.1_F_0_S_0_D_1.141025641025641_activityTime_750_simType_point', 'SimResults_Np_32_Shape_line_kappa_hat_6_k_25_b0_2.1_F_0_S_0_D_2.2948717948717947_activityTime_750_simType_point', 'SimResults_Np_32_Shape_line_kappa_hat_6_k_25_b0_2.1_F_0_S_0_D_2.230769230769231_activityTime_750_simType_point', 'SimResults_Np_32_Shape_line_kappa_hat_6_k_25_b0_2.1_F_0_S_0_D_0.5_activityTime_750_simType_point', 'SimResults_Np_32_Shape_line_kappa_hat_6_k_25_b0_2.1_F_0_S_0_D_1.7179487179487178_activityTime_750_simType_point', 'SimResults_Np_32_Shape_line_kappa_hat_6_k_25_b0_2.1_F_0_S_0_D_1.9743589743589742_activityTime_750_simType_point', 'SimResults_Np_32_Shape_line_kappa_hat_6_k_25_b0_2.1_F_0_S_0_D_1.0128205128205128_activityTime_750_simType_point', 'SimResults_Np_32_Shape_line_kappa_hat_6_k_25_b0_2.1_F_0_S_0_D_1.5897435897435896_activityTime_750_simType_point', 'SimResults_Np_32_Shape_line_kappa_hat_6_k_25_b0_2.1_F_0_S_0_D_0.5641025641025641_activityTime_750_simType_point', 'SimResults_Np_32_Shape_line_kappa_hat_6_k_25_b0_2.1_F_0_S_0_D_1.0769230769230769_activityTime_750_simType_point']\n",
      "No:of Simulation files:  160\n"
     ]
    },
    {
     "name": "stderr",
     "output_type": "stream",
     "text": [
      "\n"
     ]
    }
   ],
   "source": [
    "# data_folder = '/home/deepak/ActiveFilamentsSearch_backup_3/BendingStiffnessSweeps/analysis_test'\n",
    "# data_folder = '/home/deepak/ActiveFilamentsSearch_backup_3/BendingStiffnessSweeps/b0_2_1_FullSweep_Final'\n",
    "\n",
    "# data_folder = '/home/deepak/ActiveFilamentsSearch_backup_3/FinerResolution_BendingStiffness'\n",
    "# data_folder = '/home/deepak/ActiveFilamentsSearch_backup_3/ModellingResults/2021-06-23'\n",
    "# data_folder = '/home/deepak/ActiveFilamentsSearch_backup_3/ModellingResults'\n",
    "\n",
    "# data_folder = '/home/deepak/ActiveFilamentsSearch_backup_3/ModellingResults/2021-08-18'\n",
    "# data_folder = '/home/deepak/Dropbox/LacryModeling/ModellingResults/StochasticActivity/NormalDistribution'\n",
    "# data_folder = '/home/deepak/ActiveFilamentsSearch_backup_3/BendingStiffnessSweeps/b0_2_1_FullSweep_Final/activity_time_750'\n",
    "\n",
    "# data_folder = '/home/deepak/ActiveFilamentsSearch_backup_3/FilamentLength_Sweeps/activity_time_750'\n",
    "# data_folder = '/home/deepak/ActiveFilamentsSearch_backup_3/ModellingResults/2021-08-28'\n",
    "\n",
    "data_folder = '/home/deepak/ActiveFilamentsSearch_backup_3/ModellingResults/2021-10-18'\n",
    "\n",
    "print(os.listdir(data_folder))\n",
    "\n",
    "# Find all simulation data files and create a list\n",
    "files_list = []\n",
    " # Walk through the folders and identify the simulation data files\n",
    "for dirs, subdirs, files in os.walk(data_folder, topdown=False):\n",
    "\n",
    "    root, subFolderName = os.path.split(dirs)\n",
    "\n",
    "    for fileNames in files:\n",
    "        if(fileNames.endswith('hdf5') and fileNames[0] != '.' and 'analysis' not in fileNames):\n",
    "            files_list.append(os.path.join(dirs,fileNames))\n",
    "#         if(fileNames.endswith('hdf5') and fileNames[0] != '.' and fileNames == 'SimResults_00.hdf5'):\n",
    "#             files_list.append(os.path.join(dirs,fileNames))\n",
    "\n",
    "print('No:of Simulation files: ', len(files_list))\n",
    "\n",
    "def run_filament_analysis(file):\n",
    "    print('Analyzing file ...')\n",
    "    print(file)\n",
    "\n",
    "    filament = analysis.analysisTools(file = file)\n",
    "\n",
    "\n",
    "    root_folder, file_name = os.path.split(file)\n",
    "\n",
    "    # Create a data-packet to save for further analysis\n",
    "    # Collect simulation metadata\n",
    "#     metadata_path = os.path.join(root_folder, 'metadata.csv')\n",
    "#     assert(os.path.exists(metadata_path))\n",
    "#     df = pd.read_csv(metadata_path)\n",
    "    \n",
    "    # @@@ Better to use Metadata from the HDF5 file so there is no possible delinking of data and metadata\n",
    "    df = pd.DataFrame({'N particles':[filament.Np],'radius':[filament.radius],'bond length':[filament.b0],\n",
    "                       'spring constant':[filament.k], 'kappa_hat':[filament.kappa_hat], \n",
    "                       'force strength':[filament.F0], 'stresslet strength':[filament.S0], \n",
    "                       'potDipole strength':[filament.D0], 'simulation type':[filament.sim_type], \n",
    "                       'boundary condition 0':[filament.bc[0]], 'boundary condition 1':[filament.bc[-1]], \n",
    "                       ' activity time scale':[filament.activity_timescale], 'viscosity':[filament.mu]})\n",
    "    \n",
    "    \n",
    "    periodic_flag = False \n",
    "    min_period = 0\n",
    "    \n",
    "    filament.filament_tip_coverage(save = True)\n",
    "    # Check if simulation was completed or terminated before completion\n",
    "    if(int(filament.Time[-1]) == int(df[' activity time scale']*500)):\n",
    "        simulation_completed = True\n",
    "        # Classify the dynamics\n",
    "        periodic_flag, min_period = filament.classify_filament_dynamics()\n",
    "    else:\n",
    "        simulation_completed = False\n",
    "\n",
    "    df['simulation completed'] = simulation_completed\n",
    "    df['periodic dynamics'] = periodic_flag\n",
    "    df['period'] = min_period\n",
    "    df['max unique locations'] = filament.derived_data['unique position count'][-1]\n",
    "    \n",
    "    \n",
    "    \n",
    "    \n",
    "    # Calculate the filament tip angles (at constant phase) and save them to a file\n",
    "    \n",
    "    phase = 0\n",
    "    angles = filament.compute_tip_angle_at_constant_phase(phase_value = phase)\n",
    "    print(angles)\n",
    "    \n",
    "    \n",
    "\n",
    "    save_file = file_name[:-5] + '_analysis.csv'\n",
    "    save_folder = os.path.join(root_folder, 'Analysis')\n",
    "\n",
    "    if(not os.path.exists(save_folder)):\n",
    "        os.makedirs(save_folder)\n",
    "    df.to_csv(os.path.join(save_folder, save_file))\n",
    "    \n",
    "    # Create a dataset and save the data\n",
    "    save_file = file_name[:-5] + '_analysis.hdf5'\n",
    "\n",
    "\n",
    "    with h5py.File(os.path.join(save_folder, save_file), \"w\") as f:\n",
    "        dset = f.create_group(\"analysis data\")\n",
    "        dset.attrs['N particles'] = filament.Np\n",
    "        dset.attrs['radius'] = filament.radius\n",
    "        dset.attrs['bond length'] = filament.b0\n",
    "        dset.attrs['spring constant'] = filament.k\n",
    "        dset.attrs['kappa_hat'] = filament.kappa_hat\n",
    "        dset.attrs['force strength'] = filament.F0\n",
    "        dset.attrs['stresslet strength'] = filament.S0\n",
    "        dset.attrs['potDipole strength'] = filament.D0\n",
    "        dset.attrs['simulation type'] = filament.sim_type\n",
    "        dset.attrs['activity time scale'] = filament.activity_timescale\n",
    "        dset.attrs['viscosity'] = filament.mu\n",
    "        dset.attrs['boundary condition 0'] = filament.bc[0]\n",
    "        dset.attrs['boundary condition 1'] = filament.bc[-1]\n",
    "        dset.attrs['Sim complete'] = simulation_completed\n",
    "        \n",
    "#         print(periodic_flag)\n",
    "#         print(min_period)\n",
    "#         dset.attrs['periodic'] = int(periodic_flag)\n",
    "#         dset.attrs['period'] = int(min_period)\n",
    "        \n",
    "        dset.attrs['constant phase'] = phase\n",
    "        dset.create_dataset(\"Tip angles\", data = angles)\n",
    "        \n",
    "    \n",
    "    "
   ]
  },
  {
   "cell_type": "code",
   "execution_count": 25,
   "id": "frozen-timothy",
   "metadata": {},
   "outputs": [
    {
     "name": "stderr",
     "output_type": "stream",
     "text": [
      "\n",
      "\n",
      "  0%|          | 0/160 [00:00<?, ?it/s]\u001b[A\u001b[A[Parallel(n_jobs=12)]: Using backend LokyBackend with 12 concurrent workers.\n",
      "[Parallel(n_jobs=12)]: Done   1 tasks      | elapsed:    1.3s\n",
      "\n",
      "\n",
      " 15%|█▌        | 24/160 [00:01<00:07, 18.48it/s]\u001b[A\u001b[A[Parallel(n_jobs=12)]: Done   8 tasks      | elapsed:    1.5s\n",
      "\n",
      "\n",
      " 22%|██▎       | 36/160 [00:01<00:04, 26.08it/s]\u001b[A\u001b[A[Parallel(n_jobs=12)]: Done  17 tasks      | elapsed:    1.7s\n",
      "\n",
      "\n",
      " 30%|███       | 48/160 [00:01<00:03, 29.37it/s]\u001b[A\u001b[A[Parallel(n_jobs=12)]: Done  26 tasks      | elapsed:    1.8s\n",
      "[Parallel(n_jobs=12)]: Done  37 tasks      | elapsed:    4.0s\n",
      "\n",
      "\n",
      " 38%|███▊      | 60/160 [00:04<00:08, 11.53it/s]\u001b[A\u001b[A[Parallel(n_jobs=12)]: Done  48 tasks      | elapsed:    4.2s\n",
      "\n",
      "\n",
      " 45%|████▌     | 72/160 [00:04<00:05, 16.22it/s]\u001b[A\u001b[A[Parallel(n_jobs=12)]: Done  61 tasks      | elapsed:    4.3s\n",
      "\n",
      "\n",
      " 52%|█████▎    | 84/160 [00:04<00:03, 22.39it/s]\u001b[A\u001b[A[Parallel(n_jobs=12)]: Batch computation too fast (0.1976s.) Setting batch_size=2.\n",
      "\n",
      "\n",
      " 60%|██████    | 96/160 [00:05<00:04, 13.76it/s]\u001b[A\u001b[A[Parallel(n_jobs=12)]: Done  74 tasks      | elapsed:    6.0s\n",
      "\n",
      "\n",
      " 75%|███████▌  | 120/160 [00:08<00:03, 10.30it/s]\u001b[A\u001b[A[Parallel(n_jobs=12)]: Batch computation too slow (2.7954s.) Setting batch_size=1.\n",
      "[Parallel(n_jobs=12)]: Done  91 tasks      | elapsed:    9.0s\n",
      "\n",
      "\n",
      " 90%|█████████ | 144/160 [00:09<00:01, 15.33it/s]\u001b[A\u001b[A[Parallel(n_jobs=12)]: Done 116 tasks      | elapsed:    9.8s\n",
      "\n",
      "\n",
      "100%|██████████| 160/160 [00:10<00:00, 15.54it/s]\u001b[A\u001b[A\n",
      "[Parallel(n_jobs=12)]: Done 137 out of 160 | elapsed:   15.2s remaining:    2.6s\n",
      "[Parallel(n_jobs=12)]: Done 154 out of 160 | elapsed:   19.3s remaining:    0.8s\n",
      "[Parallel(n_jobs=12)]: Done 160 out of 160 | elapsed:   20.9s finished\n"
     ]
    }
   ],
   "source": [
    "num_cores = multiprocessing.cpu_count()\n",
    "\n",
    "num_cores = 12\n",
    "\n",
    "results = Parallel(n_jobs=num_cores,  verbose=10)(delayed(run_filament_analysis)(file) for file in tqdm(files_list))\n"
   ]
  },
  {
   "cell_type": "code",
   "execution_count": 21,
   "id": "secret-huntington",
   "metadata": {},
   "outputs": [
    {
     "name": "stdout",
     "output_type": "stream",
     "text": [
      "[0.5        0.56410256 0.62820513 0.69230769 0.75641026 0.82051282\n",
      " 0.88461538 0.94871795 1.01282051 1.07692308 1.14102564 1.20512821\n",
      " 1.26923077 1.33333333 1.3974359  1.46153846 1.52564103 1.58974359\n",
      " 1.65384615 1.71794872 1.78205128 1.84615385 1.91025641 1.97435897\n",
      " 2.03846154 2.1025641  2.16666667 2.23076923 2.29487179 2.35897436\n",
      " 2.42307692 2.48717949 2.55128205 2.61538462 2.67948718 2.74358974\n",
      " 2.80769231 2.87179487 2.93589744 3.        ]\n"
     ]
    }
   ],
   "source": [
    "print(np.linspace(0.5,3,40))"
   ]
  },
  {
   "cell_type": "code",
   "execution_count": null,
   "id": "functional-symbol",
   "metadata": {},
   "outputs": [],
   "source": []
  }
 ],
 "metadata": {
  "kernelspec": {
   "display_name": "Python 3",
   "language": "python",
   "name": "python3"
  },
  "language_info": {
   "codemirror_mode": {
    "name": "ipython",
    "version": 3
   },
   "file_extension": ".py",
   "mimetype": "text/x-python",
   "name": "python",
   "nbconvert_exporter": "python",
   "pygments_lexer": "ipython3",
   "version": "3.6.10"
  }
 },
 "nbformat": 4,
 "nbformat_minor": 5
}
